{
  "nbformat": 4,
  "nbformat_minor": 0,
  "metadata": {
    "colab": {
      "name": "wgan_gp.ipynb",
      "provenance": []
    },
    "kernelspec": {
      "name": "python3",
      "display_name": "Python 3"
    },
    "language_info": {
      "name": "python"
    },
    "accelerator": "GPU",
    "gpuClass": "standard"
  },
  "cells": [
    {
      "cell_type": "code",
      "execution_count": null,
      "metadata": {
        "colab": {
          "base_uri": "https://localhost:8080/",
          "height": 1000
        },
        "id": "zxqigGALWDiT",
        "outputId": "959a6057-cefe-48e3-880e-66f1bd1bb7d1"
      },
      "outputs": [
        {
          "output_type": "stream",
          "name": "stdout",
          "text": [
            "Looking in indexes: https://pypi.org/simple, https://us-python.pkg.dev/colab-wheels/public/simple/\n",
            "Collecting ydata-synthetic\n",
            "  Downloading ydata_synthetic-0.7.1-py2.py3-none-any.whl (47 kB)\n",
            "\u001b[K     |████████████████████████████████| 47 kB 3.6 MB/s \n",
            "\u001b[?25hCollecting matplotlib==3.3.2\n",
            "  Downloading matplotlib-3.3.2-cp37-cp37m-manylinux1_x86_64.whl (11.6 MB)\n",
            "\u001b[K     |████████████████████████████████| 11.6 MB 53.6 MB/s \n",
            "\u001b[?25hCollecting typeguard==2.13.*\n",
            "  Downloading typeguard-2.13.3-py3-none-any.whl (17 kB)\n",
            "Collecting pandas==1.2.*\n",
            "  Downloading pandas-1.2.5-cp37-cp37m-manylinux_2_5_x86_64.manylinux1_x86_64.whl (9.9 MB)\n",
            "\u001b[K     |████████████████████████████████| 9.9 MB 59.4 MB/s \n",
            "\u001b[?25hRequirement already satisfied: scikit-learn==1.0.* in /usr/local/lib/python3.7/dist-packages (from ydata-synthetic) (1.0.2)\n",
            "Requirement already satisfied: tqdm<5.0 in /usr/local/lib/python3.7/dist-packages (from ydata-synthetic) (4.64.0)\n",
            "Requirement already satisfied: seaborn==0.11.* in /usr/local/lib/python3.7/dist-packages (from ydata-synthetic) (0.11.2)\n",
            "Collecting tensorflow==2.4.*\n",
            "  Downloading tensorflow-2.4.4-cp37-cp37m-manylinux2010_x86_64.whl (394.5 MB)\n",
            "\u001b[K     |████████████████████████████████| 394.5 MB 36 kB/s \n",
            "\u001b[?25hRequirement already satisfied: easydict==1.9 in /usr/local/lib/python3.7/dist-packages (from ydata-synthetic) (1.9)\n",
            "Collecting pmlb==1.0.*\n",
            "  Downloading pmlb-1.0.1.post3-py3-none-any.whl (19 kB)\n",
            "Collecting pytest==6.2.*\n",
            "  Downloading pytest-6.2.5-py3-none-any.whl (280 kB)\n",
            "\u001b[K     |████████████████████████████████| 280 kB 58.5 MB/s \n",
            "\u001b[?25hCollecting numpy==1.19.*\n",
            "  Downloading numpy-1.19.5-cp37-cp37m-manylinux2010_x86_64.whl (14.8 MB)\n",
            "\u001b[K     |████████████████████████████████| 14.8 MB 57.8 MB/s \n",
            "\u001b[?25hRequirement already satisfied: certifi>=2020.06.20 in /usr/local/lib/python3.7/dist-packages (from matplotlib==3.3.2->ydata-synthetic) (2022.6.15)\n",
            "Requirement already satisfied: kiwisolver>=1.0.1 in /usr/local/lib/python3.7/dist-packages (from matplotlib==3.3.2->ydata-synthetic) (1.4.4)\n",
            "Requirement already satisfied: pillow>=6.2.0 in /usr/local/lib/python3.7/dist-packages (from matplotlib==3.3.2->ydata-synthetic) (7.1.2)\n",
            "Requirement already satisfied: pyparsing!=2.0.4,!=2.1.2,!=2.1.6,>=2.0.3 in /usr/local/lib/python3.7/dist-packages (from matplotlib==3.3.2->ydata-synthetic) (3.0.9)\n",
            "Requirement already satisfied: python-dateutil>=2.1 in /usr/local/lib/python3.7/dist-packages (from matplotlib==3.3.2->ydata-synthetic) (2.8.2)\n",
            "Requirement already satisfied: cycler>=0.10 in /usr/local/lib/python3.7/dist-packages (from matplotlib==3.3.2->ydata-synthetic) (0.11.0)\n",
            "Requirement already satisfied: pytz>=2017.3 in /usr/local/lib/python3.7/dist-packages (from pandas==1.2.*->ydata-synthetic) (2022.1)\n",
            "Collecting requests>=2.24.0\n",
            "  Downloading requests-2.28.1-py3-none-any.whl (62 kB)\n",
            "\u001b[K     |████████████████████████████████| 62 kB 1.6 MB/s \n",
            "\u001b[?25hCollecting pyyaml>=5.3.1\n",
            "  Downloading PyYAML-6.0-cp37-cp37m-manylinux_2_5_x86_64.manylinux1_x86_64.manylinux_2_12_x86_64.manylinux2010_x86_64.whl (596 kB)\n",
            "\u001b[K     |████████████████████████████████| 596 kB 70.4 MB/s \n",
            "\u001b[?25hRequirement already satisfied: iniconfig in /usr/local/lib/python3.7/dist-packages (from pytest==6.2.*->ydata-synthetic) (1.1.1)\n",
            "Requirement already satisfied: importlib-metadata>=0.12 in /usr/local/lib/python3.7/dist-packages (from pytest==6.2.*->ydata-synthetic) (4.12.0)\n",
            "Requirement already satisfied: packaging in /usr/local/lib/python3.7/dist-packages (from pytest==6.2.*->ydata-synthetic) (21.3)\n",
            "Requirement already satisfied: py>=1.8.2 in /usr/local/lib/python3.7/dist-packages (from pytest==6.2.*->ydata-synthetic) (1.11.0)\n",
            "Collecting toml\n",
            "  Downloading toml-0.10.2-py2.py3-none-any.whl (16 kB)\n",
            "Collecting pluggy<2.0,>=0.12\n",
            "  Downloading pluggy-1.0.0-py2.py3-none-any.whl (13 kB)\n",
            "Requirement already satisfied: attrs>=19.2.0 in /usr/local/lib/python3.7/dist-packages (from pytest==6.2.*->ydata-synthetic) (21.4.0)\n",
            "Requirement already satisfied: scipy>=1.1.0 in /usr/local/lib/python3.7/dist-packages (from scikit-learn==1.0.*->ydata-synthetic) (1.7.3)\n",
            "Requirement already satisfied: joblib>=0.11 in /usr/local/lib/python3.7/dist-packages (from scikit-learn==1.0.*->ydata-synthetic) (1.1.0)\n",
            "Requirement already satisfied: threadpoolctl>=2.0.0 in /usr/local/lib/python3.7/dist-packages (from scikit-learn==1.0.*->ydata-synthetic) (3.1.0)\n",
            "Collecting absl-py~=0.10\n",
            "  Downloading absl_py-0.15.0-py3-none-any.whl (132 kB)\n",
            "\u001b[K     |████████████████████████████████| 132 kB 64.1 MB/s \n",
            "\u001b[?25hRequirement already satisfied: opt-einsum~=3.3.0 in /usr/local/lib/python3.7/dist-packages (from tensorflow==2.4.*->ydata-synthetic) (3.3.0)\n",
            "Collecting h5py~=2.10.0\n",
            "  Downloading h5py-2.10.0-cp37-cp37m-manylinux1_x86_64.whl (2.9 MB)\n",
            "\u001b[K     |████████████████████████████████| 2.9 MB 16.2 MB/s \n",
            "\u001b[?25hCollecting typing-extensions~=3.7.4\n",
            "  Downloading typing_extensions-3.7.4.3-py3-none-any.whl (22 kB)\n",
            "Requirement already satisfied: keras-preprocessing~=1.1.2 in /usr/local/lib/python3.7/dist-packages (from tensorflow==2.4.*->ydata-synthetic) (1.1.2)\n",
            "Requirement already satisfied: six~=1.15.0 in /usr/local/lib/python3.7/dist-packages (from tensorflow==2.4.*->ydata-synthetic) (1.15.0)\n",
            "Requirement already satisfied: astunparse~=1.6.3 in /usr/local/lib/python3.7/dist-packages (from tensorflow==2.4.*->ydata-synthetic) (1.6.3)\n",
            "Collecting flatbuffers~=1.12.0\n",
            "  Downloading flatbuffers-1.12-py2.py3-none-any.whl (15 kB)\n",
            "Requirement already satisfied: wheel~=0.35 in /usr/local/lib/python3.7/dist-packages (from tensorflow==2.4.*->ydata-synthetic) (0.37.1)\n",
            "Collecting gast==0.3.3\n",
            "  Downloading gast-0.3.3-py2.py3-none-any.whl (9.7 kB)\n",
            "Requirement already satisfied: tensorboard~=2.4 in /usr/local/lib/python3.7/dist-packages (from tensorflow==2.4.*->ydata-synthetic) (2.8.0)\n",
            "Collecting grpcio~=1.32.0\n",
            "  Downloading grpcio-1.32.0-cp37-cp37m-manylinux2014_x86_64.whl (3.8 MB)\n",
            "\u001b[K     |████████████████████████████████| 3.8 MB 29.9 MB/s \n",
            "\u001b[?25hRequirement already satisfied: termcolor~=1.1.0 in /usr/local/lib/python3.7/dist-packages (from tensorflow==2.4.*->ydata-synthetic) (1.1.0)\n",
            "Collecting wrapt~=1.12.1\n",
            "  Downloading wrapt-1.12.1.tar.gz (27 kB)\n",
            "Collecting tensorflow-estimator<2.5.0,>=2.4.0\n",
            "  Downloading tensorflow_estimator-2.4.0-py2.py3-none-any.whl (462 kB)\n",
            "\u001b[K     |████████████████████████████████| 462 kB 18.1 MB/s \n",
            "\u001b[?25hRequirement already satisfied: protobuf>=3.9.2 in /usr/local/lib/python3.7/dist-packages (from tensorflow==2.4.*->ydata-synthetic) (3.17.3)\n",
            "Requirement already satisfied: google-pasta~=0.2 in /usr/local/lib/python3.7/dist-packages (from tensorflow==2.4.*->ydata-synthetic) (0.2.0)\n",
            "Requirement already satisfied: zipp>=0.5 in /usr/local/lib/python3.7/dist-packages (from importlib-metadata>=0.12->pytest==6.2.*->ydata-synthetic) (3.8.1)\n",
            "Requirement already satisfied: idna<4,>=2.5 in /usr/local/lib/python3.7/dist-packages (from requests>=2.24.0->pmlb==1.0.*->ydata-synthetic) (2.10)\n",
            "Requirement already satisfied: charset-normalizer<3,>=2 in /usr/local/lib/python3.7/dist-packages (from requests>=2.24.0->pmlb==1.0.*->ydata-synthetic) (2.1.0)\n",
            "Requirement already satisfied: urllib3<1.27,>=1.21.1 in /usr/local/lib/python3.7/dist-packages (from requests>=2.24.0->pmlb==1.0.*->ydata-synthetic) (1.24.3)\n",
            "Requirement already satisfied: tensorboard-plugin-wit>=1.6.0 in /usr/local/lib/python3.7/dist-packages (from tensorboard~=2.4->tensorflow==2.4.*->ydata-synthetic) (1.8.1)\n",
            "Requirement already satisfied: markdown>=2.6.8 in /usr/local/lib/python3.7/dist-packages (from tensorboard~=2.4->tensorflow==2.4.*->ydata-synthetic) (3.4.1)\n",
            "Requirement already satisfied: google-auth-oauthlib<0.5,>=0.4.1 in /usr/local/lib/python3.7/dist-packages (from tensorboard~=2.4->tensorflow==2.4.*->ydata-synthetic) (0.4.6)\n",
            "Requirement already satisfied: google-auth<3,>=1.6.3 in /usr/local/lib/python3.7/dist-packages (from tensorboard~=2.4->tensorflow==2.4.*->ydata-synthetic) (1.35.0)\n",
            "Requirement already satisfied: tensorboard-data-server<0.7.0,>=0.6.0 in /usr/local/lib/python3.7/dist-packages (from tensorboard~=2.4->tensorflow==2.4.*->ydata-synthetic) (0.6.1)\n",
            "Requirement already satisfied: setuptools>=41.0.0 in /usr/local/lib/python3.7/dist-packages (from tensorboard~=2.4->tensorflow==2.4.*->ydata-synthetic) (57.4.0)\n",
            "Requirement already satisfied: werkzeug>=0.11.15 in /usr/local/lib/python3.7/dist-packages (from tensorboard~=2.4->tensorflow==2.4.*->ydata-synthetic) (1.0.1)\n",
            "Requirement already satisfied: pyasn1-modules>=0.2.1 in /usr/local/lib/python3.7/dist-packages (from google-auth<3,>=1.6.3->tensorboard~=2.4->tensorflow==2.4.*->ydata-synthetic) (0.2.8)\n",
            "Requirement already satisfied: cachetools<5.0,>=2.0.0 in /usr/local/lib/python3.7/dist-packages (from google-auth<3,>=1.6.3->tensorboard~=2.4->tensorflow==2.4.*->ydata-synthetic) (4.2.4)\n",
            "Requirement already satisfied: rsa<5,>=3.1.4 in /usr/local/lib/python3.7/dist-packages (from google-auth<3,>=1.6.3->tensorboard~=2.4->tensorflow==2.4.*->ydata-synthetic) (4.8)\n",
            "Requirement already satisfied: requests-oauthlib>=0.7.0 in /usr/local/lib/python3.7/dist-packages (from google-auth-oauthlib<0.5,>=0.4.1->tensorboard~=2.4->tensorflow==2.4.*->ydata-synthetic) (1.3.1)\n",
            "Requirement already satisfied: pyasn1<0.5.0,>=0.4.6 in /usr/local/lib/python3.7/dist-packages (from pyasn1-modules>=0.2.1->google-auth<3,>=1.6.3->tensorboard~=2.4->tensorflow==2.4.*->ydata-synthetic) (0.4.8)\n",
            "Requirement already satisfied: oauthlib>=3.0.0 in /usr/local/lib/python3.7/dist-packages (from requests-oauthlib>=0.7.0->google-auth-oauthlib<0.5,>=0.4.1->tensorboard~=2.4->tensorflow==2.4.*->ydata-synthetic) (3.2.0)\n",
            "Building wheels for collected packages: wrapt\n",
            "  Building wheel for wrapt (setup.py) ... \u001b[?25l\u001b[?25hdone\n",
            "  Created wheel for wrapt: filename=wrapt-1.12.1-cp37-cp37m-linux_x86_64.whl size=68719 sha256=a1bf9258997f1229174f8a72654fa81ea7d595410de8a464316623301382ad34\n",
            "  Stored in directory: /root/.cache/pip/wheels/62/76/4c/aa25851149f3f6d9785f6c869387ad82b3fd37582fa8147ac6\n",
            "Successfully built wrapt\n",
            "Installing collected packages: typing-extensions, requests, numpy, grpcio, absl-py, wrapt, toml, tensorflow-estimator, pyyaml, pluggy, pandas, matplotlib, h5py, gast, flatbuffers, typeguard, tensorflow, pytest, pmlb, ydata-synthetic\n",
            "  Attempting uninstall: typing-extensions\n",
            "    Found existing installation: typing-extensions 4.1.1\n",
            "    Uninstalling typing-extensions-4.1.1:\n",
            "      Successfully uninstalled typing-extensions-4.1.1\n",
            "  Attempting uninstall: requests\n",
            "    Found existing installation: requests 2.23.0\n",
            "    Uninstalling requests-2.23.0:\n",
            "      Successfully uninstalled requests-2.23.0\n",
            "  Attempting uninstall: numpy\n",
            "    Found existing installation: numpy 1.21.6\n",
            "    Uninstalling numpy-1.21.6:\n",
            "      Successfully uninstalled numpy-1.21.6\n",
            "  Attempting uninstall: grpcio\n",
            "    Found existing installation: grpcio 1.47.0\n",
            "    Uninstalling grpcio-1.47.0:\n",
            "      Successfully uninstalled grpcio-1.47.0\n",
            "  Attempting uninstall: absl-py\n",
            "    Found existing installation: absl-py 1.2.0\n",
            "    Uninstalling absl-py-1.2.0:\n",
            "      Successfully uninstalled absl-py-1.2.0\n",
            "  Attempting uninstall: wrapt\n",
            "    Found existing installation: wrapt 1.14.1\n",
            "    Uninstalling wrapt-1.14.1:\n",
            "      Successfully uninstalled wrapt-1.14.1\n",
            "  Attempting uninstall: tensorflow-estimator\n",
            "    Found existing installation: tensorflow-estimator 2.8.0\n",
            "    Uninstalling tensorflow-estimator-2.8.0:\n",
            "      Successfully uninstalled tensorflow-estimator-2.8.0\n",
            "  Attempting uninstall: pyyaml\n",
            "    Found existing installation: PyYAML 3.13\n",
            "    Uninstalling PyYAML-3.13:\n",
            "      Successfully uninstalled PyYAML-3.13\n",
            "  Attempting uninstall: pluggy\n",
            "    Found existing installation: pluggy 0.7.1\n",
            "    Uninstalling pluggy-0.7.1:\n",
            "      Successfully uninstalled pluggy-0.7.1\n",
            "  Attempting uninstall: pandas\n",
            "    Found existing installation: pandas 1.3.5\n",
            "    Uninstalling pandas-1.3.5:\n",
            "      Successfully uninstalled pandas-1.3.5\n",
            "  Attempting uninstall: matplotlib\n",
            "    Found existing installation: matplotlib 3.2.2\n",
            "    Uninstalling matplotlib-3.2.2:\n",
            "      Successfully uninstalled matplotlib-3.2.2\n",
            "  Attempting uninstall: h5py\n",
            "    Found existing installation: h5py 3.1.0\n",
            "    Uninstalling h5py-3.1.0:\n",
            "      Successfully uninstalled h5py-3.1.0\n",
            "  Attempting uninstall: gast\n",
            "    Found existing installation: gast 0.5.3\n",
            "    Uninstalling gast-0.5.3:\n",
            "      Successfully uninstalled gast-0.5.3\n",
            "  Attempting uninstall: flatbuffers\n",
            "    Found existing installation: flatbuffers 2.0\n",
            "    Uninstalling flatbuffers-2.0:\n",
            "      Successfully uninstalled flatbuffers-2.0\n",
            "  Attempting uninstall: typeguard\n",
            "    Found existing installation: typeguard 2.7.1\n",
            "    Uninstalling typeguard-2.7.1:\n",
            "      Successfully uninstalled typeguard-2.7.1\n",
            "  Attempting uninstall: tensorflow\n",
            "    Found existing installation: tensorflow 2.8.2+zzzcolab20220719082949\n",
            "    Uninstalling tensorflow-2.8.2+zzzcolab20220719082949:\n",
            "      Successfully uninstalled tensorflow-2.8.2+zzzcolab20220719082949\n",
            "  Attempting uninstall: pytest\n",
            "    Found existing installation: pytest 3.6.4\n",
            "    Uninstalling pytest-3.6.4:\n",
            "      Successfully uninstalled pytest-3.6.4\n",
            "\u001b[31mERROR: pip's dependency resolver does not currently take into account all the packages that are installed. This behaviour is the source of the following dependency conflicts.\n",
            "xarray-einstats 0.2.2 requires numpy>=1.21, but you have numpy 1.19.5 which is incompatible.\n",
            "google-colab 1.0.0 requires requests~=2.23.0, but you have requests 2.28.1 which is incompatible.\n",
            "datascience 0.10.6 requires folium==0.2.1, but you have folium 0.8.3 which is incompatible.\n",
            "albumentations 0.1.12 requires imgaug<0.2.7,>=0.2.5, but you have imgaug 0.2.9 which is incompatible.\u001b[0m\n",
            "Successfully installed absl-py-0.15.0 flatbuffers-1.12 gast-0.3.3 grpcio-1.32.0 h5py-2.10.0 matplotlib-3.3.2 numpy-1.19.5 pandas-1.2.5 pluggy-1.0.0 pmlb-1.0.1.post3 pytest-6.2.5 pyyaml-6.0 requests-2.28.1 tensorflow-2.4.4 tensorflow-estimator-2.4.0 toml-0.10.2 typeguard-2.13.3 typing-extensions-3.7.4.3 wrapt-1.12.1 ydata-synthetic-0.7.1\n"
          ]
        },
        {
          "output_type": "display_data",
          "data": {
            "application/vnd.colab-display-data+json": {
              "pip_warning": {
                "packages": [
                  "matplotlib",
                  "mpl_toolkits",
                  "numpy",
                  "typing_extensions"
                ]
              }
            }
          },
          "metadata": {}
        }
      ],
      "source": [
        "!pip install ydata-synthetic"
      ]
    },
    {
      "cell_type": "code",
      "source": [
        "def load_dataset(benchmark, algo):\n",
        "  real_data_orig=pd.read_csv(drive_location+algo+\".csv\")\n",
        "  #print(real_data_orig)\n",
        "  #real_data_selected_col = real_data_orig.drop(columns=['sys','sysname','arch','PS','executable'])\n",
        "  if (benchmark == \"SPEC2006\" or benchmark == \"SPEC2017\"):\n",
        "    real_data_selected_col=real_data_orig.drop(columns=['arch','ld_shared_by_cores','l2_shared_by_cores','no_of_threads','system_name','bus_speed_qpi','bus_speed_dmi','l1_ins_assoc','l1_data_assoc','l2_assoc','l3_assoc','raw_bus_speed','converted_bus_speed','ddr_type','runtime'])\n",
        "  elif (benchmark == \"NPB\"):\n",
        "    real_data_selected_col=real_data_orig.drop(columns=['sys','sysname','arch','l1d_assoc','l1d_cache_lines','l1d_shared_by_threads','l2_assoc','l2_cache_lines','l2_shared_by_threads','l3_assoc','l3_cache_lines','l3_shared_by_threads','PS','runtime','executable','system'])\n",
        "  else:\n",
        "    real_data_selected_col=real_data_orig.drop(columns=['sys','arch','l1d_assoc','l1d_cache_lines','l1d_shared_by_threads','l2_assoc','l2_cache_lines','l2_shared_by_threads','l3_assoc','l3_cache_lines','l3_shared_by_threads','runtime'])\n",
        "  #print(real_data_selected_col)\n",
        "  real_data_selected_col.dropna(inplace=True)\n",
        "  #print(real_data_selected_col)\n",
        "  return real_data_selected_col"
      ],
      "metadata": {
        "id": "l4GGK312XHoo"
      },
      "execution_count": null,
      "outputs": []
    },
    {
      "cell_type": "code",
      "source": [
        "import pandas as pd\n",
        "drive_location = r\"/content/drive/My Drive/SITesting/\"\n",
        "\n",
        "# Mantevo Suite\n",
        "#benchmark = \"Mantevo\"\n",
        "#algo=\"mantevo_miniFE\"\n",
        "#algo_fname=\"runtimes_final_mantevo_miniFE\"\n",
        "# NPB Suite\n",
        "#benchmark = \"NPB\"\n",
        "#algo = \"npb_ep\"\n",
        "#algo_fname=\"runtimes_final_npb_ep\"\n",
        "#benchmark = \"NPB\"\n",
        "#algo = \"npb_mg\"\n",
        "#algo_fname=\"runtimes_final_npb_mg\"\n",
        "# SPEC 2006 Float\n",
        "#benchmark = \"SPEC2006\"\n",
        "#algo = \"leslie3d\"\n",
        "#algo_fname = \"437.leslie3d\"\n",
        "# SPEC 2006 Int\n",
        "#benchmark = \"SPEC2006\"\n",
        "#algo = \"perlbench\"\n",
        "#algo_fname = \"400.perlbench\"\n",
        "benchmark = \"SPEC2017\"\n",
        "algo = \"603.bwaves_s\"\n",
        "algo_fname = \"603.bwaves_s\"\n",
        "\n",
        "spec_float_benchmark_list = [\"SPEC2017\",\"SPEC2017\",\"SPEC2017\",\"SPEC2017\",\"SPEC2017\",\"SPEC2017\",\"SPEC2017\",\"SPEC2017\",\"SPEC2017\",\"SPEC2017\",\"SPEC2006\",\"SPEC2006\",\"SPEC2006\",\"SPEC2006\",\"SPEC2006\",\"SPEC2006\",\"SPEC2006\",\"SPEC2006\",\"SPEC2006\"]\n",
        "spec_float_algo_list = [\"603.bwaves_s\",\"607.cactuBSSN_s\",\"619.lbm_s\",\"621.wrf_s\",\"627.cam4_s\",\"628.pop2_s\",\"638.imagick_s\",\"644.nab_s\",\"649.fotonik3d_s\",\"654.roms_s\",\"416.gamess\",\"433.milc\",\"434.zeusmp\",\"435.gromacs\",\"437.leslie3d\",\"447.dealII\",\"450.soplex\",\"453.povray\",\"454.calculix\"]\n",
        "spec_float_algo_fname_list = [\"603.bwaves_s\",\"607.cactuBSSN_s\",\"619.lbm_s\",\"621.wrf_s\",\"627.cam4_s\",\"628.pop2_s\",\"638.imagick_s\",\"644.nab_s\",\"649.fotonik3d_s\",\"654.roms_s\",\"416.gamess\",\"433.milc\",\"434.zeusmp\",\"435.gromacs\",\"437.leslie3d\",\"447.dealII\",\"450.soplex\",\"453.povray\",\"454.calculix\"]\n",
        "\n",
        "spec_int_benchmark_list = [\"SPEC2017\",\"SPEC2017\",\"SPEC2017\",\"SPEC2017\",\"SPEC2017\",\"SPEC2017\",\"SPEC2017\",\"SPEC2017\",\"SPEC2017\",\"SPEC2017\",\"SPEC2006\",\"SPEC2006\",\"SPEC2006\",\"SPEC2006\",\"SPEC2006\"]\n",
        "spec_int_algo_list = [\"600.perlbench_s\",\"602.gcc_s\",\"605.mcf_s\",\"620.omnetpp_s\",\"623.xalancbmk_s\",\"625.x264_s\",\"631.deepsjeng_s\",\"641.leela_s\",\"648.exchange2_s\",\"657.xz_s\",\"401.bzip2\",\"456.hmmer\",\"458.sjeng\",\"462.libquantum\",\"473.astar\"]\n",
        "spec_int_algo_fname_list = [\"600.perlbench_s\",\"602.gcc_s\",\"605.mcf_s\",\"620.omnetpp_s\",\"623.xalancbmk_s\",\"625.x264_s\",\"631.deepsjeng_s\",\"641.leela_s\",\"648.exchange2_s\",\"657.xz_s\",\"401.bzip2\",\"456.hmmer\",\"458.sjeng\",\"462.libquantum\",\"473.astar\"]\n",
        "\n",
        "npb_other_benchmark_list = [\"NPB\",\"NPB\",\"NPB\",\"NPB\",\"OTHER\",\"OTHER\",\"OTHER\"]\n",
        "npb_other_algo_list = [\"npb_ep\",\"npb_mg\",\"npb_sp\",\"npb_sp-mz\",\"matmul\",\"montecarlo\",\"quicksort\"]\n",
        "npb_other_algo_fname_list = [\"npb_ep\",\"npb_mg\",\"npb_sp\",\"npb_sp-mz\",\"matmul\",\"montecarlo\",\"quicksort\"]\n",
        "\n",
        "\n",
        "# Assign variable with which list is to be processed\n",
        "benchmark_list = npb_other_benchmark_list\n",
        "algo_list = npb_other_algo_list\n",
        "algo_fname_list = npb_other_algo_fname_list\n",
        "#for algo_idx, algo in enumerate(algo_list):\n",
        "\n",
        "pd.set_option(\"display.max_columns\", None)\n",
        "# Load and preprocess real dataset\n",
        "real_data = load_dataset(benchmark, algo)\n",
        "# real_data.to_csv(drive_location+algo+\"_real_data_tf.csv\",index=False)"
      ],
      "metadata": {
        "id": "42dTL3EGXOkf",
        "colab": {
          "base_uri": "https://localhost:8080/",
          "height": 217
        },
        "outputId": "dccc969e-b078-40a2-d62e-354d194e8a75"
      },
      "execution_count": null,
      "outputs": [
        {
          "output_type": "error",
          "ename": "NameError",
          "evalue": "ignored",
          "traceback": [
            "\u001b[0;31m---------------------------------------------------------------------------\u001b[0m",
            "\u001b[0;31mNameError\u001b[0m                                 Traceback (most recent call last)",
            "\u001b[0;32m<ipython-input-3-737c961fe769>\u001b[0m in \u001b[0;36m<module>\u001b[0;34m()\u001b[0m\n\u001b[1;32m     46\u001b[0m \u001b[0mpd\u001b[0m\u001b[0;34m.\u001b[0m\u001b[0mset_option\u001b[0m\u001b[0;34m(\u001b[0m\u001b[0;34m\"display.max_columns\"\u001b[0m\u001b[0;34m,\u001b[0m \u001b[0;32mNone\u001b[0m\u001b[0;34m)\u001b[0m\u001b[0;34m\u001b[0m\u001b[0;34m\u001b[0m\u001b[0m\n\u001b[1;32m     47\u001b[0m \u001b[0;31m# Load and preprocess real dataset\u001b[0m\u001b[0;34m\u001b[0m\u001b[0;34m\u001b[0m\u001b[0;34m\u001b[0m\u001b[0m\n\u001b[0;32m---> 48\u001b[0;31m \u001b[0mreal_data\u001b[0m \u001b[0;34m=\u001b[0m \u001b[0mload_dataset\u001b[0m\u001b[0;34m(\u001b[0m\u001b[0mbenchmark\u001b[0m\u001b[0;34m,\u001b[0m \u001b[0malgo\u001b[0m\u001b[0;34m)\u001b[0m\u001b[0;34m\u001b[0m\u001b[0;34m\u001b[0m\u001b[0m\n\u001b[0m\u001b[1;32m     49\u001b[0m \u001b[0;31m# real_data.to_csv(drive_location+algo+\"_real_data_tf.csv\",index=False)\u001b[0m\u001b[0;34m\u001b[0m\u001b[0;34m\u001b[0m\u001b[0;34m\u001b[0m\u001b[0m\n",
            "\u001b[0;31mNameError\u001b[0m: name 'load_dataset' is not defined"
          ]
        }
      ]
    },
    {
      "cell_type": "code",
      "source": [
        "import numpy as np\n",
        "\n",
        "from ydata_synthetic.synthesizers import ModelParameters, TrainParameters\n",
        "from ydata_synthetic.synthesizers.regular import WGAN_GP"
      ],
      "metadata": {
        "id": "OlSYfjX9XV6X"
      },
      "execution_count": null,
      "outputs": []
    },
    {
      "cell_type": "code",
      "source": [
        "model=WGAN_GP\n",
        "\n",
        "# GAN training\n",
        "#Define the GAN and training parameters\n",
        "noise_dim = 256\n",
        "dim = 256\n",
        "batch_size = 200\n",
        "\n",
        "log_step = 120\n",
        "epochs = 1000+1\n",
        "learning_rate = [5e-4,3e-3]\n",
        "beta_1 = 0.5\n",
        "beta_2 = 0.9\n",
        "models_dir = './cache'\n",
        "\n",
        "gan_args = ModelParameters(batch_size=batch_size,\n",
        "                           lr=learning_rate,\n",
        "                           betas=(beta_1, beta_2),\n",
        "                           noise_dim=noise_dim,\n",
        "                           layers_dim=dim)\n",
        "\n",
        "train_args = TrainParameters(epochs=epochs,\n",
        "                             sample_interval=log_step)\n",
        "\n",
        "test_size = 492 \n",
        "noise_dim = 32\n"
      ],
      "metadata": {
        "id": "V0AP3wg0X2Ar"
      },
      "execution_count": null,
      "outputs": []
    },
    {
      "cell_type": "code",
      "source": [
        "#Training the WGAN_GP model\n",
        "num_cols=[]\n",
        "num_cols.append('cpu_clock')\n",
        "cat_cols=list(real_data)\n",
        "cat_cols=cat_cols[1::]\n",
        "synthesizer = model(gan_args, n_critic=2)\n",
        "synthesizer.train(real_data, train_args, num_cols=num_cols, cat_cols=cat_cols)"
      ],
      "metadata": {
        "colab": {
          "base_uri": "https://localhost:8080/"
        },
        "id": "BtYP32IQcIe7",
        "outputId": "d6ea3e09-c786-4c3c-bef9-64cbb97d14ce"
      },
      "execution_count": null,
      "outputs": [
        {
          "output_type": "stream",
          "name": "stderr",
          "text": [
            "  0%|          | 3/1001 [00:04<20:13,  1.22s/it]  "
          ]
        },
        {
          "output_type": "stream",
          "name": "stdout",
          "text": [
            "Epoch: 0 | disc_loss: 0.1257603019475937 | gen_loss: -0.04655678570270538\n",
            "Epoch: 1 | disc_loss: -0.02747361734509468 | gen_loss: -0.04243210330605507\n",
            "Epoch: 2 | disc_loss: -0.009093496948480606 | gen_loss: -0.05868368223309517\n"
          ]
        },
        {
          "output_type": "stream",
          "name": "stderr",
          "text": [
            "  1%|          | 7/1001 [00:04<06:25,  2.58it/s]"
          ]
        },
        {
          "output_type": "stream",
          "name": "stdout",
          "text": [
            "Epoch: 3 | disc_loss: 0.6870322227478027 | gen_loss: -0.03803570196032524\n",
            "Epoch: 4 | disc_loss: 7.179873943328857 | gen_loss: 0.007702821400016546\n",
            "Epoch: 5 | disc_loss: 0.6013595461845398 | gen_loss: 0.09365837275981903\n",
            "Epoch: 6 | disc_loss: 1.7294583320617676 | gen_loss: -0.028350401669740677\n"
          ]
        },
        {
          "output_type": "stream",
          "name": "stderr",
          "text": [
            "\r  1%|          | 9/1001 [00:05<04:23,  3.76it/s]"
          ]
        },
        {
          "output_type": "stream",
          "name": "stdout",
          "text": [
            "Epoch: 7 | disc_loss: 0.1486150473356247 | gen_loss: 0.009656731970608234\n",
            "Epoch: 8 | disc_loss: 0.40299513936042786 | gen_loss: -0.0034850602969527245\n"
          ]
        },
        {
          "output_type": "stream",
          "name": "stderr",
          "text": [
            "  1%|▏         | 13/1001 [00:05<02:38,  6.24it/s]"
          ]
        },
        {
          "output_type": "stream",
          "name": "stdout",
          "text": [
            "Epoch: 9 | disc_loss: 0.3143788278102875 | gen_loss: 0.0037352945655584335\n",
            "Epoch: 10 | disc_loss: 0.9241718649864197 | gen_loss: 0.03517422080039978\n",
            "Epoch: 11 | disc_loss: 0.09484037756919861 | gen_loss: -0.02248503267765045\n",
            "Epoch: 12 | disc_loss: 0.17337478697299957 | gen_loss: -0.01122584193944931\n"
          ]
        },
        {
          "output_type": "stream",
          "name": "stderr",
          "text": [
            "  2%|▏         | 17/1001 [00:05<01:47,  9.15it/s]"
          ]
        },
        {
          "output_type": "stream",
          "name": "stdout",
          "text": [
            "Epoch: 13 | disc_loss: 0.0773872584104538 | gen_loss: 0.008671565912663937\n",
            "Epoch: 14 | disc_loss: 1.6750926971435547 | gen_loss: -0.009464596398174763\n",
            "Epoch: 15 | disc_loss: 5.236297130584717 | gen_loss: 0.0039029549807310104\n",
            "Epoch: 16 | disc_loss: 0.009888075292110443 | gen_loss: 0.024203777313232422\n"
          ]
        },
        {
          "output_type": "stream",
          "name": "stderr",
          "text": [
            "  2%|▏         | 21/1001 [00:05<01:23, 11.80it/s]"
          ]
        },
        {
          "output_type": "stream",
          "name": "stdout",
          "text": [
            "Epoch: 17 | disc_loss: 0.8495221138000488 | gen_loss: -0.00040531050763092935\n",
            "Epoch: 18 | disc_loss: 2.0951313972473145 | gen_loss: 0.01683785393834114\n",
            "Epoch: 19 | disc_loss: 0.4620888829231262 | gen_loss: 0.01083489041775465\n",
            "Epoch: 20 | disc_loss: -0.04201052710413933 | gen_loss: 0.05684281513094902\n"
          ]
        },
        {
          "output_type": "stream",
          "name": "stderr",
          "text": [
            "  2%|▏         | 25/1001 [00:06<01:12, 13.48it/s]"
          ]
        },
        {
          "output_type": "stream",
          "name": "stdout",
          "text": [
            "Epoch: 21 | disc_loss: 0.24467745423316956 | gen_loss: 0.007958730682730675\n",
            "Epoch: 22 | disc_loss: 0.039022717624902725 | gen_loss: -0.0025696957018226385\n",
            "Epoch: 23 | disc_loss: 1.3796545267105103 | gen_loss: -0.08973558247089386\n",
            "Epoch: 24 | disc_loss: 0.1937079131603241 | gen_loss: 0.07014107704162598\n"
          ]
        },
        {
          "output_type": "stream",
          "name": "stderr",
          "text": [
            "  3%|▎         | 29/1001 [00:06<01:06, 14.62it/s]"
          ]
        },
        {
          "output_type": "stream",
          "name": "stdout",
          "text": [
            "Epoch: 25 | disc_loss: 0.1762010157108307 | gen_loss: -0.009001510217785835\n",
            "Epoch: 26 | disc_loss: 0.2358597368001938 | gen_loss: 0.000974993861746043\n",
            "Epoch: 27 | disc_loss: 8.98165512084961 | gen_loss: -0.002725555095821619\n",
            "Epoch: 28 | disc_loss: 0.015489187091588974 | gen_loss: 0.027067355811595917\n"
          ]
        },
        {
          "output_type": "stream",
          "name": "stderr",
          "text": [
            "\r  3%|▎         | 31/1001 [00:06<01:05, 14.90it/s]"
          ]
        },
        {
          "output_type": "stream",
          "name": "stdout",
          "text": [
            "Epoch: 29 | disc_loss: -0.03751164302229881 | gen_loss: 0.019992373883724213\n",
            "Epoch: 30 | disc_loss: 0.014268701896071434 | gen_loss: -0.12206798791885376\n"
          ]
        },
        {
          "output_type": "stream",
          "name": "stderr",
          "text": [
            "  3%|▎         | 35/1001 [00:08<03:46,  4.27it/s]"
          ]
        },
        {
          "output_type": "stream",
          "name": "stdout",
          "text": [
            "Epoch: 31 | disc_loss: 2.1937544345855713 | gen_loss: -0.15757210552692413\n",
            "Epoch: 32 | disc_loss: 0.01994483172893524 | gen_loss: 0.005566528998315334\n",
            "Epoch: 33 | disc_loss: -0.01943601481616497 | gen_loss: 0.0038072329480201006\n",
            "Epoch: 34 | disc_loss: 1.9313831329345703 | gen_loss: -0.002217692555859685\n"
          ]
        },
        {
          "output_type": "stream",
          "name": "stderr",
          "text": [
            "  4%|▍         | 38/1001 [00:08<02:51,  5.62it/s]"
          ]
        },
        {
          "output_type": "stream",
          "name": "stdout",
          "text": [
            "Epoch: 35 | disc_loss: 0.7764517068862915 | gen_loss: -0.029323400929570198\n",
            "Epoch: 36 | disc_loss: -0.026791708543896675 | gen_loss: -0.009953212924301624\n",
            "Epoch: 37 | disc_loss: -0.014017336070537567 | gen_loss: -0.0020009810104966164\n"
          ]
        },
        {
          "output_type": "stream",
          "name": "stderr",
          "text": [
            "  4%|▍         | 42/1001 [00:08<01:52,  8.50it/s]"
          ]
        },
        {
          "output_type": "stream",
          "name": "stdout",
          "text": [
            "Epoch: 38 | disc_loss: 0.1947813183069229 | gen_loss: 0.00800851359963417\n",
            "Epoch: 39 | disc_loss: 0.9638229012489319 | gen_loss: 0.01163654588162899\n",
            "Epoch: 40 | disc_loss: -0.041063092648983 | gen_loss: 0.01890779472887516\n",
            "Epoch: 41 | disc_loss: 2.1935715675354004 | gen_loss: 0.018241846933960915\n"
          ]
        },
        {
          "output_type": "stream",
          "name": "stderr",
          "text": [
            "  5%|▍         | 46/1001 [00:08<01:27, 10.96it/s]"
          ]
        },
        {
          "output_type": "stream",
          "name": "stdout",
          "text": [
            "Epoch: 42 | disc_loss: 0.8236503005027771 | gen_loss: -0.017920196056365967\n",
            "Epoch: 43 | disc_loss: 0.1123795434832573 | gen_loss: 0.02609226666390896\n",
            "Epoch: 44 | disc_loss: 0.14209382236003876 | gen_loss: 0.03706232085824013\n",
            "Epoch: 45 | disc_loss: 14.84119987487793 | gen_loss: -0.10575331747531891\n"
          ]
        },
        {
          "output_type": "stream",
          "name": "stderr",
          "text": [
            "  5%|▍         | 50/1001 [00:09<01:28, 10.75it/s]"
          ]
        },
        {
          "output_type": "stream",
          "name": "stdout",
          "text": [
            "Epoch: 46 | disc_loss: -0.015063092112541199 | gen_loss: -0.02021186612546444\n",
            "Epoch: 47 | disc_loss: 0.10810330510139465 | gen_loss: -0.010517214424908161\n",
            "Epoch: 48 | disc_loss: 0.8508626222610474 | gen_loss: -0.005367108155041933\n",
            "Epoch: 49 | disc_loss: 0.9302138686180115 | gen_loss: 0.012072520330548286\n"
          ]
        },
        {
          "output_type": "stream",
          "name": "stderr",
          "text": [
            "  5%|▌         | 54/1001 [00:10<02:24,  6.58it/s]"
          ]
        },
        {
          "output_type": "stream",
          "name": "stdout",
          "text": [
            "Epoch: 50 | disc_loss: 0.038084015250205994 | gen_loss: -0.03394002094864845\n",
            "Epoch: 51 | disc_loss: 3.3977811336517334 | gen_loss: -0.0017057834193110466\n",
            "Epoch: 52 | disc_loss: 0.24959102272987366 | gen_loss: -0.0031453147530555725\n",
            "Epoch: 53 | disc_loss: 5.809665203094482 | gen_loss: -0.010771377943456173\n",
            "Epoch: 54 | disc_loss: -0.013719344511628151 | gen_loss: -0.024131689220666885\n"
          ]
        },
        {
          "output_type": "stream",
          "name": "stderr",
          "text": [
            "  6%|▌         | 58/1001 [00:10<01:40,  9.36it/s]"
          ]
        },
        {
          "output_type": "stream",
          "name": "stdout",
          "text": [
            "Epoch: 55 | disc_loss: 0.6961833238601685 | gen_loss: -0.0037644142284989357\n",
            "Epoch: 56 | disc_loss: 2.425527811050415 | gen_loss: -0.030258527025580406\n",
            "Epoch: 57 | disc_loss: 14.805526733398438 | gen_loss: 0.07211089879274368\n"
          ]
        },
        {
          "output_type": "stream",
          "name": "stderr",
          "text": [
            "  6%|▌         | 62/1001 [00:11<02:10,  7.20it/s]"
          ]
        },
        {
          "output_type": "stream",
          "name": "stdout",
          "text": [
            "Epoch: 58 | disc_loss: -0.01688445545732975 | gen_loss: 0.06979585438966751\n",
            "Epoch: 59 | disc_loss: 0.0130974892526865 | gen_loss: 0.051725950092077255\n",
            "Epoch: 60 | disc_loss: 7.2789459228515625 | gen_loss: 0.002044572262093425\n",
            "Epoch: 61 | disc_loss: 0.04108530655503273 | gen_loss: -0.005832953378558159\n"
          ]
        },
        {
          "output_type": "stream",
          "name": "stderr",
          "text": [
            "  7%|▋         | 66/1001 [00:11<01:34,  9.88it/s]"
          ]
        },
        {
          "output_type": "stream",
          "name": "stdout",
          "text": [
            "Epoch: 62 | disc_loss: 0.07895329594612122 | gen_loss: 0.024179721251130104\n",
            "Epoch: 63 | disc_loss: 0.8104730844497681 | gen_loss: -0.007638756185770035\n",
            "Epoch: 64 | disc_loss: 0.23132659494876862 | gen_loss: 0.0057791112922132015\n",
            "Epoch: 65 | disc_loss: 0.41816219687461853 | gen_loss: 0.007908748462796211\n"
          ]
        },
        {
          "output_type": "stream",
          "name": "stderr",
          "text": [
            "  7%|▋         | 70/1001 [00:11<01:16, 12.10it/s]"
          ]
        },
        {
          "output_type": "stream",
          "name": "stdout",
          "text": [
            "Epoch: 66 | disc_loss: 0.3578581213951111 | gen_loss: 0.04116678237915039\n",
            "Epoch: 67 | disc_loss: 0.009896636009216309 | gen_loss: -0.050181690603494644\n",
            "Epoch: 68 | disc_loss: 0.15368816256523132 | gen_loss: -0.029213709756731987\n",
            "Epoch: 69 | disc_loss: 2.8451008796691895 | gen_loss: -0.026554720476269722\n"
          ]
        },
        {
          "output_type": "stream",
          "name": "stderr",
          "text": [
            "  7%|▋         | 74/1001 [00:11<01:08, 13.57it/s]"
          ]
        },
        {
          "output_type": "stream",
          "name": "stdout",
          "text": [
            "Epoch: 70 | disc_loss: 0.7926783561706543 | gen_loss: -0.016430731862783432\n",
            "Epoch: 71 | disc_loss: -0.009465007111430168 | gen_loss: 0.05267680063843727\n",
            "Epoch: 72 | disc_loss: 0.12691093981266022 | gen_loss: 0.06298582255840302\n",
            "Epoch: 73 | disc_loss: 15.442736625671387 | gen_loss: 0.02209518663585186\n"
          ]
        },
        {
          "output_type": "stream",
          "name": "stderr",
          "text": [
            "  8%|▊         | 78/1001 [00:12<01:07, 13.63it/s]"
          ]
        },
        {
          "output_type": "stream",
          "name": "stdout",
          "text": [
            "Epoch: 74 | disc_loss: -0.026079269126057625 | gen_loss: 0.02806987054646015\n",
            "Epoch: 75 | disc_loss: 0.4620070457458496 | gen_loss: 0.04841449111700058\n",
            "Epoch: 76 | disc_loss: 0.26254647970199585 | gen_loss: 0.042836688458919525\n",
            "Epoch: 77 | disc_loss: 6.448445796966553 | gen_loss: 0.03316976875066757\n"
          ]
        },
        {
          "output_type": "stream",
          "name": "stderr",
          "text": [
            "  8%|▊         | 82/1001 [00:12<01:03, 14.54it/s]"
          ]
        },
        {
          "output_type": "stream",
          "name": "stdout",
          "text": [
            "Epoch: 78 | disc_loss: 0.2746201455593109 | gen_loss: 0.05335361883044243\n",
            "Epoch: 79 | disc_loss: -0.033154718577861786 | gen_loss: 0.10479988157749176\n",
            "Epoch: 80 | disc_loss: 2.0615053176879883 | gen_loss: -0.007681063376367092\n",
            "Epoch: 81 | disc_loss: 1.245833158493042 | gen_loss: -0.025141596794128418\n"
          ]
        },
        {
          "output_type": "stream",
          "name": "stderr",
          "text": [
            "  9%|▊         | 86/1001 [00:12<01:01, 14.76it/s]"
          ]
        },
        {
          "output_type": "stream",
          "name": "stdout",
          "text": [
            "Epoch: 82 | disc_loss: 4.928493499755859 | gen_loss: -0.013087489642202854\n",
            "Epoch: 83 | disc_loss: -0.0037309802137315273 | gen_loss: 0.011094884015619755\n",
            "Epoch: 84 | disc_loss: 1.7366456985473633 | gen_loss: -0.016181645914912224\n",
            "Epoch: 85 | disc_loss: 0.07317179441452026 | gen_loss: -0.019086480140686035\n"
          ]
        },
        {
          "output_type": "stream",
          "name": "stderr",
          "text": [
            "  9%|▉         | 90/1001 [00:13<01:00, 15.14it/s]"
          ]
        },
        {
          "output_type": "stream",
          "name": "stdout",
          "text": [
            "Epoch: 86 | disc_loss: 0.13810847699642181 | gen_loss: 0.05195636674761772\n",
            "Epoch: 87 | disc_loss: 1.9629147052764893 | gen_loss: 0.06444240361452103\n",
            "Epoch: 88 | disc_loss: 0.10323913395404816 | gen_loss: -0.009324879385530949\n",
            "Epoch: 89 | disc_loss: 0.7476509213447571 | gen_loss: -0.00040795159293338656\n"
          ]
        },
        {
          "output_type": "stream",
          "name": "stderr",
          "text": [
            "\r  9%|▉         | 92/1001 [00:13<01:00, 15.09it/s]"
          ]
        },
        {
          "output_type": "stream",
          "name": "stdout",
          "text": [
            "Epoch: 90 | disc_loss: 0.26818472146987915 | gen_loss: 0.06506255269050598\n",
            "Epoch: 91 | disc_loss: 0.0025121630169451237 | gen_loss: -0.011701563373208046\n"
          ]
        },
        {
          "output_type": "stream",
          "name": "stderr",
          "text": [
            " 10%|▉         | 96/1001 [00:13<01:09, 12.93it/s]"
          ]
        },
        {
          "output_type": "stream",
          "name": "stdout",
          "text": [
            "Epoch: 92 | disc_loss: 12.931358337402344 | gen_loss: 0.0031438753940165043\n",
            "Epoch: 93 | disc_loss: 0.005861934274435043 | gen_loss: 0.027725042775273323\n",
            "Epoch: 94 | disc_loss: 1.1793429851531982 | gen_loss: 0.009940593503415585\n",
            "Epoch: 95 | disc_loss: 2.6610021591186523 | gen_loss: 0.026363156735897064\n"
          ]
        },
        {
          "output_type": "stream",
          "name": "stderr",
          "text": [
            " 10%|▉         | 100/1001 [00:13<01:04, 14.05it/s]"
          ]
        },
        {
          "output_type": "stream",
          "name": "stdout",
          "text": [
            "Epoch: 96 | disc_loss: -0.011106021702289581 | gen_loss: 0.03425203636288643\n",
            "Epoch: 97 | disc_loss: 0.19462904334068298 | gen_loss: 0.025909123942255974\n",
            "Epoch: 98 | disc_loss: 17.42189598083496 | gen_loss: 0.015967654064297676\n",
            "Epoch: 99 | disc_loss: 0.29627710580825806 | gen_loss: 0.01565122790634632\n"
          ]
        },
        {
          "output_type": "stream",
          "name": "stderr",
          "text": [
            " 10%|█         | 104/1001 [00:14<01:01, 14.70it/s]"
          ]
        },
        {
          "output_type": "stream",
          "name": "stdout",
          "text": [
            "Epoch: 100 | disc_loss: 0.2504405975341797 | gen_loss: 0.016965359449386597\n",
            "Epoch: 101 | disc_loss: 1.6782300472259521 | gen_loss: 6.0743836911569815e-06\n",
            "Epoch: 102 | disc_loss: -0.015888819471001625 | gen_loss: 0.0046206372790038586\n",
            "Epoch: 103 | disc_loss: 4.401931285858154 | gen_loss: 0.02652227133512497\n"
          ]
        },
        {
          "output_type": "stream",
          "name": "stderr",
          "text": [
            " 11%|█         | 108/1001 [00:14<01:09, 12.76it/s]"
          ]
        },
        {
          "output_type": "stream",
          "name": "stdout",
          "text": [
            "Epoch: 104 | disc_loss: 0.07733681797981262 | gen_loss: 0.03619055822491646\n",
            "Epoch: 105 | disc_loss: 0.099302738904953 | gen_loss: 0.043979816138744354\n",
            "Epoch: 106 | disc_loss: 1.8948874473571777 | gen_loss: 0.052857909351587296\n",
            "Epoch: 107 | disc_loss: 2.8192923069000244 | gen_loss: 0.06686506420373917\n"
          ]
        },
        {
          "output_type": "stream",
          "name": "stderr",
          "text": [
            " 11%|█         | 112/1001 [00:15<01:52,  7.89it/s]"
          ]
        },
        {
          "output_type": "stream",
          "name": "stdout",
          "text": [
            "Epoch: 108 | disc_loss: 0.07823032140731812 | gen_loss: 0.020068442448973656\n",
            "Epoch: 109 | disc_loss: 1.1475838422775269 | gen_loss: 0.03360091522336006\n",
            "Epoch: 110 | disc_loss: -0.027637816965579987 | gen_loss: 0.05514943227171898\n",
            "Epoch: 111 | disc_loss: 3.776498556137085 | gen_loss: 0.039691220968961716\n"
          ]
        },
        {
          "output_type": "stream",
          "name": "stderr",
          "text": [
            " 12%|█▏        | 116/1001 [00:15<01:24, 10.51it/s]"
          ]
        },
        {
          "output_type": "stream",
          "name": "stdout",
          "text": [
            "Epoch: 112 | disc_loss: -0.01815098151564598 | gen_loss: 0.013067509979009628\n",
            "Epoch: 113 | disc_loss: 0.10358675569295883 | gen_loss: 0.03759830817580223\n",
            "Epoch: 114 | disc_loss: 1.0203135013580322 | gen_loss: 0.013363128527998924\n",
            "Epoch: 115 | disc_loss: 0.3156871497631073 | gen_loss: 0.03596077859401703\n"
          ]
        },
        {
          "output_type": "stream",
          "name": "stderr",
          "text": [
            " 12%|█▏        | 120/1001 [00:16<01:58,  7.45it/s]"
          ]
        },
        {
          "output_type": "stream",
          "name": "stdout",
          "text": [
            "Epoch: 116 | disc_loss: 0.3336535096168518 | gen_loss: 0.0048941862769424915\n",
            "Epoch: 117 | disc_loss: 4.213669776916504 | gen_loss: 0.011863771826028824\n",
            "Epoch: 118 | disc_loss: 0.006776042282581329 | gen_loss: -0.0394783541560173\n",
            "Epoch: 119 | disc_loss: 0.05489698052406311 | gen_loss: -0.004061541985720396\n"
          ]
        },
        {
          "output_type": "stream",
          "name": "stderr",
          "text": [
            "\r 12%|█▏        | 122/1001 [00:16<01:42,  8.54it/s]"
          ]
        },
        {
          "output_type": "stream",
          "name": "stdout",
          "text": [
            "Epoch: 120 | disc_loss: 0.10600685328245163 | gen_loss: -0.034305695444345474\n",
            "Epoch: 121 | disc_loss: 0.00443984754383564 | gen_loss: 0.04171758517622948\n",
            "Epoch: 122 | disc_loss: 3.500690460205078 | gen_loss: 0.03962411358952522\n"
          ]
        },
        {
          "output_type": "stream",
          "name": "stderr",
          "text": [
            " 13%|█▎        | 126/1001 [00:16<01:18, 11.18it/s]"
          ]
        },
        {
          "output_type": "stream",
          "name": "stdout",
          "text": [
            "Epoch: 123 | disc_loss: -0.011757062748074532 | gen_loss: -0.005699108354747295\n",
            "Epoch: 124 | disc_loss: -0.031728338450193405 | gen_loss: 0.02811775915324688\n",
            "Epoch: 125 | disc_loss: 0.20808467268943787 | gen_loss: 0.021619712933897972\n",
            "Epoch: 126 | disc_loss: 10.477679252624512 | gen_loss: 0.03501371294260025\n"
          ]
        },
        {
          "output_type": "stream",
          "name": "stderr",
          "text": [
            " 13%|█▎        | 130/1001 [00:16<01:07, 12.96it/s]"
          ]
        },
        {
          "output_type": "stream",
          "name": "stdout",
          "text": [
            "Epoch: 127 | disc_loss: -0.015840381383895874 | gen_loss: 0.04991324990987778\n",
            "Epoch: 128 | disc_loss: 0.8312469124794006 | gen_loss: 0.06566128134727478\n",
            "Epoch: 129 | disc_loss: 0.3008071184158325 | gen_loss: 0.08945754915475845\n",
            "Epoch: 130 | disc_loss: 1.5255327224731445 | gen_loss: 0.17028574645519257\n"
          ]
        },
        {
          "output_type": "stream",
          "name": "stderr",
          "text": [
            " 13%|█▎        | 134/1001 [00:17<01:31,  9.44it/s]"
          ]
        },
        {
          "output_type": "stream",
          "name": "stdout",
          "text": [
            "Epoch: 131 | disc_loss: -0.006200113333761692 | gen_loss: 0.05555374175310135\n",
            "Epoch: 132 | disc_loss: 4.842343807220459 | gen_loss: 0.01897827349603176\n",
            "Epoch: 133 | disc_loss: 0.019636251032352448 | gen_loss: 0.07351378351449966\n",
            "Epoch: 134 | disc_loss: 0.09159939736127853 | gen_loss: 0.01704857125878334\n"
          ]
        },
        {
          "output_type": "stream",
          "name": "stderr",
          "text": [
            " 14%|█▍        | 138/1001 [00:17<01:12, 11.87it/s]"
          ]
        },
        {
          "output_type": "stream",
          "name": "stdout",
          "text": [
            "Epoch: 135 | disc_loss: 4.200506687164307 | gen_loss: -0.0004319899599067867\n",
            "Epoch: 136 | disc_loss: 0.008455388247966766 | gen_loss: 0.014435302466154099\n",
            "Epoch: 137 | disc_loss: 1.4038063287734985 | gen_loss: 0.03947943076491356\n",
            "Epoch: 138 | disc_loss: 0.17690369486808777 | gen_loss: 0.018718048930168152\n"
          ]
        },
        {
          "output_type": "stream",
          "name": "stderr",
          "text": [
            " 14%|█▍        | 142/1001 [00:17<01:05, 13.12it/s]"
          ]
        },
        {
          "output_type": "stream",
          "name": "stdout",
          "text": [
            "Epoch: 139 | disc_loss: 0.025355637073516846 | gen_loss: 0.04496351629495621\n",
            "Epoch: 140 | disc_loss: 0.0021642185747623444 | gen_loss: 0.05191005766391754\n",
            "Epoch: 141 | disc_loss: 0.06715811789035797 | gen_loss: 0.024931658059358597\n",
            "Epoch: 142 | disc_loss: 1.606913685798645 | gen_loss: 0.02492503821849823\n"
          ]
        },
        {
          "output_type": "stream",
          "name": "stderr",
          "text": [
            " 15%|█▍        | 146/1001 [00:18<01:01, 13.93it/s]"
          ]
        },
        {
          "output_type": "stream",
          "name": "stdout",
          "text": [
            "Epoch: 143 | disc_loss: 0.4816165566444397 | gen_loss: 0.08539223670959473\n",
            "Epoch: 144 | disc_loss: 0.5394062399864197 | gen_loss: 0.08139780163764954\n",
            "Epoch: 145 | disc_loss: 3.2634551525115967 | gen_loss: 0.03972167149186134\n"
          ]
        },
        {
          "output_type": "stream",
          "name": "stderr",
          "text": [
            " 15%|█▍        | 150/1001 [00:18<01:11, 11.85it/s]"
          ]
        },
        {
          "output_type": "stream",
          "name": "stdout",
          "text": [
            "Epoch: 146 | disc_loss: 0.12249097228050232 | gen_loss: 0.02322455495595932\n",
            "Epoch: 147 | disc_loss: 1.680146336555481 | gen_loss: 0.028236618265509605\n",
            "Epoch: 148 | disc_loss: 0.07475979626178741 | gen_loss: 0.06132499873638153\n",
            "Epoch: 149 | disc_loss: 0.38039323687553406 | gen_loss: 0.03489511087536812\n"
          ]
        },
        {
          "output_type": "stream",
          "name": "stderr",
          "text": [
            " 15%|█▌        | 154/1001 [00:18<01:03, 13.37it/s]"
          ]
        },
        {
          "output_type": "stream",
          "name": "stdout",
          "text": [
            "Epoch: 150 | disc_loss: 0.7173010110855103 | gen_loss: 0.000499765039421618\n",
            "Epoch: 151 | disc_loss: 0.33897149562835693 | gen_loss: 0.05047917366027832\n",
            "Epoch: 152 | disc_loss: -0.043184421956539154 | gen_loss: 0.043888166546821594\n",
            "Epoch: 153 | disc_loss: 0.32467368245124817 | gen_loss: 0.10461553931236267\n"
          ]
        },
        {
          "output_type": "stream",
          "name": "stderr",
          "text": [
            "\r 16%|█▌        | 156/1001 [00:18<01:00, 14.02it/s]"
          ]
        },
        {
          "output_type": "stream",
          "name": "stdout",
          "text": [
            "Epoch: 154 | disc_loss: 0.394232839345932 | gen_loss: 0.015878088772296906\n",
            "Epoch: 155 | disc_loss: 0.5704748034477234 | gen_loss: 0.02687385492026806\n",
            "Epoch: 156 | disc_loss: 7.96184778213501 | gen_loss: 0.02441052347421646\n"
          ]
        },
        {
          "output_type": "stream",
          "name": "stderr",
          "text": [
            " 16%|█▌        | 162/1001 [00:19<01:01, 13.56it/s]"
          ]
        },
        {
          "output_type": "stream",
          "name": "stdout",
          "text": [
            "Epoch: 157 | disc_loss: 0.038946669548749924 | gen_loss: 0.012408451177179813\n",
            "Epoch: 158 | disc_loss: -0.034271761775016785 | gen_loss: 0.0006798355025239289\n",
            "Epoch: 159 | disc_loss: -0.029089873656630516 | gen_loss: -0.02801556885242462\n",
            "Epoch: 160 | disc_loss: 0.3072003126144409 | gen_loss: 0.0033820858225226402\n",
            "Epoch: 161 | disc_loss: 0.15167878568172455 | gen_loss: -0.009723683819174767\n"
          ]
        },
        {
          "output_type": "stream",
          "name": "stderr",
          "text": [
            " 17%|█▋        | 166/1001 [00:19<00:57, 14.60it/s]"
          ]
        },
        {
          "output_type": "stream",
          "name": "stdout",
          "text": [
            "Epoch: 162 | disc_loss: 0.4835105538368225 | gen_loss: 0.016003193333745003\n",
            "Epoch: 163 | disc_loss: 0.15119701623916626 | gen_loss: -0.00797494687139988\n",
            "Epoch: 164 | disc_loss: 2.200977325439453 | gen_loss: -0.018989508971571922\n",
            "Epoch: 165 | disc_loss: 0.16495512425899506 | gen_loss: -0.012005477212369442\n"
          ]
        },
        {
          "output_type": "stream",
          "name": "stderr",
          "text": [
            " 17%|█▋        | 170/1001 [00:19<00:54, 15.13it/s]"
          ]
        },
        {
          "output_type": "stream",
          "name": "stdout",
          "text": [
            "Epoch: 166 | disc_loss: -0.04406917840242386 | gen_loss: -0.02923056110739708\n",
            "Epoch: 167 | disc_loss: 0.759695827960968 | gen_loss: -0.03267918527126312\n",
            "Epoch: 168 | disc_loss: 0.026541877537965775 | gen_loss: -0.04175832122564316\n",
            "Epoch: 169 | disc_loss: 1.2646028995513916 | gen_loss: -0.043872710317373276\n"
          ]
        },
        {
          "output_type": "stream",
          "name": "stderr",
          "text": [
            " 17%|█▋        | 174/1001 [00:20<00:55, 14.78it/s]"
          ]
        },
        {
          "output_type": "stream",
          "name": "stdout",
          "text": [
            "Epoch: 170 | disc_loss: 0.38142192363739014 | gen_loss: 0.03383262827992439\n",
            "Epoch: 171 | disc_loss: 0.30931198596954346 | gen_loss: -0.03495420143008232\n",
            "Epoch: 172 | disc_loss: -0.028573034331202507 | gen_loss: -0.03371184691786766\n",
            "Epoch: 173 | disc_loss: 1.2931325435638428 | gen_loss: -0.012932110577821732\n"
          ]
        },
        {
          "output_type": "stream",
          "name": "stderr",
          "text": [
            "\r 18%|█▊        | 176/1001 [00:20<00:55, 14.82it/s]"
          ]
        },
        {
          "output_type": "stream",
          "name": "stdout",
          "text": [
            "Epoch: 174 | disc_loss: 0.2272302210330963 | gen_loss: 0.0027813599444925785\n",
            "Epoch: 175 | disc_loss: 0.3157137930393219 | gen_loss: -0.015891756862401962\n"
          ]
        },
        {
          "output_type": "stream",
          "name": "stderr",
          "text": [
            " 18%|█▊        | 182/1001 [00:21<01:32,  8.86it/s]"
          ]
        },
        {
          "output_type": "stream",
          "name": "stdout",
          "text": [
            "Epoch: 176 | disc_loss: 0.13711227476596832 | gen_loss: -0.044946588575839996\n",
            "Epoch: 177 | disc_loss: -0.045250073075294495 | gen_loss: -0.06379227340221405\n",
            "Epoch: 178 | disc_loss: 0.02371208369731903 | gen_loss: -0.045829448848962784\n",
            "Epoch: 179 | disc_loss: 0.11932656168937683 | gen_loss: -0.061061080545186996\n",
            "Epoch: 180 | disc_loss: 0.27266404032707214 | gen_loss: -0.052563831210136414\n",
            "Epoch: 181 | disc_loss: 1.3011170625686646 | gen_loss: -0.02389015629887581\n"
          ]
        },
        {
          "output_type": "stream",
          "name": "stderr",
          "text": [
            " 19%|█▊        | 186/1001 [00:21<01:11, 11.36it/s]"
          ]
        },
        {
          "output_type": "stream",
          "name": "stdout",
          "text": [
            "Epoch: 182 | disc_loss: -0.056570377200841904 | gen_loss: -0.016812730580568314\n",
            "Epoch: 183 | disc_loss: 0.5159956216812134 | gen_loss: -0.045367851853370667\n",
            "Epoch: 184 | disc_loss: 0.23697571456432343 | gen_loss: -0.054893311113119125\n",
            "Epoch: 185 | disc_loss: 0.15243151783943176 | gen_loss: -0.15589827299118042\n"
          ]
        },
        {
          "output_type": "stream",
          "name": "stderr",
          "text": [
            " 19%|█▉        | 190/1001 [00:21<01:01, 13.25it/s]"
          ]
        },
        {
          "output_type": "stream",
          "name": "stdout",
          "text": [
            "Epoch: 186 | disc_loss: 0.22343088686466217 | gen_loss: 0.07163217663764954\n",
            "Epoch: 187 | disc_loss: 0.21563905477523804 | gen_loss: -0.0006984673673287034\n",
            "Epoch: 188 | disc_loss: -0.054019343107938766 | gen_loss: -0.062377315014600754\n",
            "Epoch: 189 | disc_loss: -0.038745906203985214 | gen_loss: -0.01937263086438179\n"
          ]
        },
        {
          "output_type": "stream",
          "name": "stderr",
          "text": [
            " 19%|█▉        | 194/1001 [00:21<00:56, 14.27it/s]"
          ]
        },
        {
          "output_type": "stream",
          "name": "stdout",
          "text": [
            "Epoch: 190 | disc_loss: -0.009161069989204407 | gen_loss: -0.0239567831158638\n",
            "Epoch: 191 | disc_loss: 0.09889818727970123 | gen_loss: -0.046063132584095\n",
            "Epoch: 192 | disc_loss: 0.07829602062702179 | gen_loss: -0.03993447497487068\n",
            "Epoch: 193 | disc_loss: 0.10684076696634293 | gen_loss: -0.09327680617570877\n"
          ]
        },
        {
          "output_type": "stream",
          "name": "stderr",
          "text": [
            " 20%|█▉        | 198/1001 [00:22<00:53, 14.90it/s]"
          ]
        },
        {
          "output_type": "stream",
          "name": "stdout",
          "text": [
            "Epoch: 194 | disc_loss: 1.4307692050933838 | gen_loss: 0.008212089538574219\n",
            "Epoch: 195 | disc_loss: -0.05567609518766403 | gen_loss: -0.06482890993356705\n",
            "Epoch: 196 | disc_loss: -0.05618607997894287 | gen_loss: -0.06606726348400116\n",
            "Epoch: 197 | disc_loss: 0.07117888331413269 | gen_loss: -0.05191585049033165\n"
          ]
        },
        {
          "output_type": "stream",
          "name": "stderr",
          "text": [
            " 20%|██        | 202/1001 [00:22<00:52, 15.20it/s]"
          ]
        },
        {
          "output_type": "stream",
          "name": "stdout",
          "text": [
            "Epoch: 198 | disc_loss: 0.9722117185592651 | gen_loss: -0.13065975904464722\n",
            "Epoch: 199 | disc_loss: -0.007537946105003357 | gen_loss: 0.011596429161727428\n",
            "Epoch: 200 | disc_loss: -0.07260356098413467 | gen_loss: -0.006032254546880722\n",
            "Epoch: 201 | disc_loss: -0.057473357766866684 | gen_loss: -0.08407288789749146\n"
          ]
        },
        {
          "output_type": "stream",
          "name": "stderr",
          "text": [
            " 21%|██        | 206/1001 [00:22<00:51, 15.49it/s]"
          ]
        },
        {
          "output_type": "stream",
          "name": "stdout",
          "text": [
            "Epoch: 202 | disc_loss: 0.02131050080060959 | gen_loss: -0.09522543847560883\n",
            "Epoch: 203 | disc_loss: -0.0509418249130249 | gen_loss: -0.07166243344545364\n",
            "Epoch: 204 | disc_loss: -0.06648024171590805 | gen_loss: -0.05218355730175972\n",
            "Epoch: 205 | disc_loss: 0.005096748471260071 | gen_loss: -0.11295540630817413\n"
          ]
        },
        {
          "output_type": "stream",
          "name": "stderr",
          "text": [
            " 21%|██        | 210/1001 [00:23<00:51, 15.36it/s]"
          ]
        },
        {
          "output_type": "stream",
          "name": "stdout",
          "text": [
            "Epoch: 206 | disc_loss: -0.04113505035638809 | gen_loss: -0.10341565310955048\n",
            "Epoch: 207 | disc_loss: 0.07757437974214554 | gen_loss: -0.07960588485002518\n",
            "Epoch: 208 | disc_loss: -0.0766083151102066 | gen_loss: -0.07996977120637894\n",
            "Epoch: 209 | disc_loss: -0.056987110525369644 | gen_loss: -0.05131111666560173\n"
          ]
        },
        {
          "output_type": "stream",
          "name": "stderr",
          "text": [
            " 21%|██▏       | 214/1001 [00:23<00:50, 15.48it/s]"
          ]
        },
        {
          "output_type": "stream",
          "name": "stdout",
          "text": [
            "Epoch: 210 | disc_loss: -0.06425057351589203 | gen_loss: -0.058462828397750854\n",
            "Epoch: 211 | disc_loss: 0.20893874764442444 | gen_loss: -0.11190411448478699\n",
            "Epoch: 212 | disc_loss: -0.044325802475214005 | gen_loss: -0.01690490171313286\n",
            "Epoch: 213 | disc_loss: 0.07703104615211487 | gen_loss: -0.04147134721279144\n"
          ]
        },
        {
          "output_type": "stream",
          "name": "stderr",
          "text": [
            " 22%|██▏       | 218/1001 [00:23<00:49, 15.69it/s]"
          ]
        },
        {
          "output_type": "stream",
          "name": "stdout",
          "text": [
            "Epoch: 214 | disc_loss: 0.09016551822423935 | gen_loss: -0.0745154544711113\n",
            "Epoch: 215 | disc_loss: 0.44500529766082764 | gen_loss: -0.05907366797327995\n",
            "Epoch: 216 | disc_loss: -0.044623635709285736 | gen_loss: -0.04097844287753105\n",
            "Epoch: 217 | disc_loss: -0.04865056276321411 | gen_loss: -0.042299870401620865\n"
          ]
        },
        {
          "output_type": "stream",
          "name": "stderr",
          "text": [
            " 22%|██▏       | 222/1001 [00:23<00:49, 15.82it/s]"
          ]
        },
        {
          "output_type": "stream",
          "name": "stdout",
          "text": [
            "Epoch: 218 | disc_loss: 0.13404184579849243 | gen_loss: -0.04444468393921852\n",
            "Epoch: 219 | disc_loss: 0.24049192667007446 | gen_loss: -0.03224969282746315\n",
            "Epoch: 220 | disc_loss: -0.07076405733823776 | gen_loss: -0.018452750518918037\n",
            "Epoch: 221 | disc_loss: -0.062014151364564896 | gen_loss: -0.05371462181210518\n"
          ]
        },
        {
          "output_type": "stream",
          "name": "stderr",
          "text": [
            " 23%|██▎       | 226/1001 [00:24<00:49, 15.59it/s]"
          ]
        },
        {
          "output_type": "stream",
          "name": "stdout",
          "text": [
            "Epoch: 222 | disc_loss: 0.015497595071792603 | gen_loss: 0.06236571818590164\n",
            "Epoch: 223 | disc_loss: -0.052041325718164444 | gen_loss: -0.03243795782327652\n",
            "Epoch: 224 | disc_loss: 0.08023586124181747 | gen_loss: -0.027171118184924126\n",
            "Epoch: 225 | disc_loss: 0.01782083511352539 | gen_loss: -0.027519574388861656\n"
          ]
        },
        {
          "output_type": "stream",
          "name": "stderr",
          "text": [
            " 23%|██▎       | 230/1001 [00:24<00:48, 15.76it/s]"
          ]
        },
        {
          "output_type": "stream",
          "name": "stdout",
          "text": [
            "Epoch: 226 | disc_loss: 6.6975297927856445 | gen_loss: -0.01637721247971058\n",
            "Epoch: 227 | disc_loss: 0.06752195954322815 | gen_loss: 0.02103429287672043\n",
            "Epoch: 228 | disc_loss: -0.04532269388437271 | gen_loss: -0.0120244100689888\n",
            "Epoch: 229 | disc_loss: -0.0004049837589263916 | gen_loss: -0.04026101902127266\n"
          ]
        },
        {
          "output_type": "stream",
          "name": "stderr",
          "text": [
            " 23%|██▎       | 234/1001 [00:24<00:48, 15.83it/s]"
          ]
        },
        {
          "output_type": "stream",
          "name": "stdout",
          "text": [
            "Epoch: 230 | disc_loss: -0.07714136689901352 | gen_loss: -0.060382258147001266\n",
            "Epoch: 231 | disc_loss: 0.059097230434417725 | gen_loss: -0.04301866143941879\n",
            "Epoch: 232 | disc_loss: -0.0629369467496872 | gen_loss: -0.06338649988174438\n",
            "Epoch: 233 | disc_loss: 1.5551502704620361 | gen_loss: 0.010159233585000038\n"
          ]
        },
        {
          "output_type": "stream",
          "name": "stderr",
          "text": [
            " 24%|██▍       | 238/1001 [00:24<00:48, 15.80it/s]"
          ]
        },
        {
          "output_type": "stream",
          "name": "stdout",
          "text": [
            "Epoch: 234 | disc_loss: -0.03446850925683975 | gen_loss: -0.016328686848282814\n",
            "Epoch: 235 | disc_loss: -0.03633631020784378 | gen_loss: -0.019681982696056366\n",
            "Epoch: 236 | disc_loss: 0.025910839438438416 | gen_loss: -0.04160585254430771\n",
            "Epoch: 237 | disc_loss: 0.6288560628890991 | gen_loss: -0.10307686030864716\n"
          ]
        },
        {
          "output_type": "stream",
          "name": "stderr",
          "text": [
            "\r 24%|██▍       | 240/1001 [00:24<00:48, 15.68it/s]"
          ]
        },
        {
          "output_type": "stream",
          "name": "stdout",
          "text": [
            "Epoch: 238 | disc_loss: -0.05887337774038315 | gen_loss: -0.055792734026908875\n",
            "Epoch: 239 | disc_loss: -0.05991898477077484 | gen_loss: -0.04889558628201485\n",
            "Epoch: 240 | disc_loss: -0.04133313521742821 | gen_loss: -0.04184100776910782\n"
          ]
        },
        {
          "output_type": "stream",
          "name": "stderr",
          "text": [
            " 24%|██▍       | 244/1001 [00:25<00:50, 15.12it/s]"
          ]
        },
        {
          "output_type": "stream",
          "name": "stdout",
          "text": [
            "Epoch: 241 | disc_loss: -0.058550018817186356 | gen_loss: -0.09532447904348373\n",
            "Epoch: 242 | disc_loss: -0.015771254897117615 | gen_loss: -0.07937014847993851\n",
            "Epoch: 243 | disc_loss: -0.05445791408419609 | gen_loss: -0.05252759903669357\n",
            "Epoch: 244 | disc_loss: -0.056740835309028625 | gen_loss: -0.010899564251303673\n"
          ]
        },
        {
          "output_type": "stream",
          "name": "stderr",
          "text": [
            " 25%|██▍       | 248/1001 [00:25<00:48, 15.52it/s]"
          ]
        },
        {
          "output_type": "stream",
          "name": "stdout",
          "text": [
            "Epoch: 245 | disc_loss: -0.017819806933403015 | gen_loss: -0.017044449225068092\n",
            "Epoch: 246 | disc_loss: -0.03373720496892929 | gen_loss: -0.047609634697437286\n",
            "Epoch: 247 | disc_loss: 0.7137433886528015 | gen_loss: -0.02719886600971222\n",
            "Epoch: 248 | disc_loss: 0.10514964163303375 | gen_loss: -0.036832015961408615\n"
          ]
        },
        {
          "output_type": "stream",
          "name": "stderr",
          "text": [
            " 25%|██▌       | 252/1001 [00:25<00:47, 15.74it/s]"
          ]
        },
        {
          "output_type": "stream",
          "name": "stdout",
          "text": [
            "Epoch: 249 | disc_loss: 0.005426220595836639 | gen_loss: -0.04537033662199974\n",
            "Epoch: 250 | disc_loss: 0.041296251118183136 | gen_loss: -0.16733886301517487\n",
            "Epoch: 251 | disc_loss: -0.04598533362150192 | gen_loss: -0.07456636428833008\n",
            "Epoch: 252 | disc_loss: -0.08004330098628998 | gen_loss: -0.07522805035114288\n"
          ]
        },
        {
          "output_type": "stream",
          "name": "stderr",
          "text": [
            " 26%|██▌       | 256/1001 [00:25<00:47, 15.52it/s]"
          ]
        },
        {
          "output_type": "stream",
          "name": "stdout",
          "text": [
            "Epoch: 253 | disc_loss: 0.032729387283325195 | gen_loss: -0.07824911922216415\n",
            "Epoch: 254 | disc_loss: 0.07881394028663635 | gen_loss: -0.047102075070142746\n",
            "Epoch: 255 | disc_loss: 0.08419180661439896 | gen_loss: -0.04868391901254654\n",
            "Epoch: 256 | disc_loss: 0.03524841368198395 | gen_loss: -0.048704858869314194\n"
          ]
        },
        {
          "output_type": "stream",
          "name": "stderr",
          "text": [
            " 26%|██▌       | 260/1001 [00:26<00:47, 15.60it/s]"
          ]
        },
        {
          "output_type": "stream",
          "name": "stdout",
          "text": [
            "Epoch: 257 | disc_loss: -0.04539775475859642 | gen_loss: 0.0029722738545387983\n",
            "Epoch: 258 | disc_loss: -0.07154741883277893 | gen_loss: -0.009989331476390362\n",
            "Epoch: 259 | disc_loss: 0.0076995715498924255 | gen_loss: -0.036536168307065964\n"
          ]
        },
        {
          "output_type": "stream",
          "name": "stderr",
          "text": [
            " 26%|██▋       | 264/1001 [00:26<00:47, 15.67it/s]"
          ]
        },
        {
          "output_type": "stream",
          "name": "stdout",
          "text": [
            "Epoch: 260 | disc_loss: 0.05645160377025604 | gen_loss: -0.01481154840439558\n",
            "Epoch: 261 | disc_loss: 0.324523389339447 | gen_loss: -0.051906995475292206\n",
            "Epoch: 262 | disc_loss: -0.05222642794251442 | gen_loss: -0.05042631924152374\n",
            "Epoch: 263 | disc_loss: 0.01585972309112549 | gen_loss: -0.044821761548519135\n"
          ]
        },
        {
          "output_type": "stream",
          "name": "stderr",
          "text": [
            " 27%|██▋       | 268/1001 [00:26<00:46, 15.80it/s]"
          ]
        },
        {
          "output_type": "stream",
          "name": "stdout",
          "text": [
            "Epoch: 264 | disc_loss: 0.03750342130661011 | gen_loss: -0.044335898011922836\n",
            "Epoch: 265 | disc_loss: 0.5599700808525085 | gen_loss: 0.05665437877178192\n",
            "Epoch: 266 | disc_loss: -0.07061164826154709 | gen_loss: -0.04768763855099678\n",
            "Epoch: 267 | disc_loss: -0.047348346561193466 | gen_loss: -0.04161258786916733\n"
          ]
        },
        {
          "output_type": "stream",
          "name": "stderr",
          "text": [
            " 27%|██▋       | 272/1001 [00:27<00:47, 15.46it/s]"
          ]
        },
        {
          "output_type": "stream",
          "name": "stdout",
          "text": [
            "Epoch: 268 | disc_loss: -0.062713623046875 | gen_loss: -0.03580430895090103\n",
            "Epoch: 269 | disc_loss: 0.03327341377735138 | gen_loss: -0.0584418922662735\n",
            "Epoch: 270 | disc_loss: -0.07124421000480652 | gen_loss: -0.04739626497030258\n",
            "Epoch: 271 | disc_loss: 0.7764463424682617 | gen_loss: -0.12069486826658249\n"
          ]
        },
        {
          "output_type": "stream",
          "name": "stderr",
          "text": [
            " 28%|██▊       | 276/1001 [00:27<00:46, 15.64it/s]"
          ]
        },
        {
          "output_type": "stream",
          "name": "stdout",
          "text": [
            "Epoch: 272 | disc_loss: 1.3425252437591553 | gen_loss: -0.03269682079553604\n",
            "Epoch: 273 | disc_loss: 0.006030097603797913 | gen_loss: -0.04015679284930229\n",
            "Epoch: 274 | disc_loss: -0.04427687078714371 | gen_loss: -0.05817410349845886\n",
            "Epoch: 275 | disc_loss: 0.010930731892585754 | gen_loss: -0.11051231622695923\n"
          ]
        },
        {
          "output_type": "stream",
          "name": "stderr",
          "text": [
            " 28%|██▊       | 280/1001 [00:27<00:45, 15.68it/s]"
          ]
        },
        {
          "output_type": "stream",
          "name": "stdout",
          "text": [
            "Epoch: 276 | disc_loss: -0.016788236796855927 | gen_loss: -0.11287393420934677\n",
            "Epoch: 277 | disc_loss: 0.6739870309829712 | gen_loss: -0.06427201628684998\n",
            "Epoch: 278 | disc_loss: 0.22600790858268738 | gen_loss: -0.06038098782300949\n",
            "Epoch: 279 | disc_loss: -0.08782370388507843 | gen_loss: -0.07304178178310394\n"
          ]
        },
        {
          "output_type": "stream",
          "name": "stderr",
          "text": [
            " 28%|██▊       | 284/1001 [00:27<00:45, 15.73it/s]"
          ]
        },
        {
          "output_type": "stream",
          "name": "stdout",
          "text": [
            "Epoch: 280 | disc_loss: -0.07532189041376114 | gen_loss: -0.0878138542175293\n",
            "Epoch: 281 | disc_loss: 0.0663716197013855 | gen_loss: 0.0009448999771848321\n",
            "Epoch: 282 | disc_loss: -0.07369686663150787 | gen_loss: -0.03307846188545227\n",
            "Epoch: 283 | disc_loss: 0.002820119261741638 | gen_loss: -0.030840525403618813\n"
          ]
        },
        {
          "output_type": "stream",
          "name": "stderr",
          "text": [
            " 29%|██▉       | 288/1001 [00:28<00:45, 15.51it/s]"
          ]
        },
        {
          "output_type": "stream",
          "name": "stdout",
          "text": [
            "Epoch: 284 | disc_loss: 15.225263595581055 | gen_loss: -0.04127724468708038\n",
            "Epoch: 285 | disc_loss: -0.027130592614412308 | gen_loss: -0.05884546786546707\n",
            "Epoch: 286 | disc_loss: 0.3699977397918701 | gen_loss: -0.06554435193538666\n",
            "Epoch: 287 | disc_loss: 0.06618110835552216 | gen_loss: -0.059682466089725494\n"
          ]
        },
        {
          "output_type": "stream",
          "name": "stderr",
          "text": [
            " 29%|██▉       | 292/1001 [00:28<00:45, 15.52it/s]"
          ]
        },
        {
          "output_type": "stream",
          "name": "stdout",
          "text": [
            "Epoch: 288 | disc_loss: 0.29189473390579224 | gen_loss: -0.06299393624067307\n",
            "Epoch: 289 | disc_loss: -0.0819530040025711 | gen_loss: -0.050315044820308685\n",
            "Epoch: 290 | disc_loss: 1.0270158052444458 | gen_loss: -0.05724334344267845\n",
            "Epoch: 291 | disc_loss: -0.06248326227068901 | gen_loss: -0.04078726842999458\n"
          ]
        },
        {
          "output_type": "stream",
          "name": "stderr",
          "text": [
            " 30%|██▉       | 296/1001 [00:28<00:45, 15.59it/s]"
          ]
        },
        {
          "output_type": "stream",
          "name": "stdout",
          "text": [
            "Epoch: 292 | disc_loss: 0.00717751681804657 | gen_loss: -0.06681016087532043\n",
            "Epoch: 293 | disc_loss: 0.8172195553779602 | gen_loss: -0.0142787741497159\n",
            "Epoch: 294 | disc_loss: -0.03322391211986542 | gen_loss: -0.038570091128349304\n",
            "Epoch: 295 | disc_loss: 0.023509006947278976 | gen_loss: 0.01903209649026394\n"
          ]
        },
        {
          "output_type": "stream",
          "name": "stderr",
          "text": [
            " 30%|██▉       | 300/1001 [00:28<00:44, 15.69it/s]"
          ]
        },
        {
          "output_type": "stream",
          "name": "stdout",
          "text": [
            "Epoch: 296 | disc_loss: 0.020404398441314697 | gen_loss: 0.011188837699592113\n",
            "Epoch: 297 | disc_loss: 2.9557886123657227 | gen_loss: -0.030244939029216766\n",
            "Epoch: 298 | disc_loss: -0.04309672862291336 | gen_loss: -0.026852304115891457\n",
            "Epoch: 299 | disc_loss: 0.14103259146213531 | gen_loss: -0.022630924358963966\n"
          ]
        },
        {
          "output_type": "stream",
          "name": "stderr",
          "text": [
            " 30%|███       | 304/1001 [00:29<00:45, 15.38it/s]"
          ]
        },
        {
          "output_type": "stream",
          "name": "stdout",
          "text": [
            "Epoch: 300 | disc_loss: 0.009129449725151062 | gen_loss: -0.06434477120637894\n",
            "Epoch: 301 | disc_loss: -0.08444419503211975 | gen_loss: -0.01878949999809265\n",
            "Epoch: 302 | disc_loss: -0.08092934638261795 | gen_loss: -0.053591493517160416\n",
            "Epoch: 303 | disc_loss: 0.026952698826789856 | gen_loss: -0.06062748283147812\n"
          ]
        },
        {
          "output_type": "stream",
          "name": "stderr",
          "text": [
            " 31%|███       | 308/1001 [00:29<00:44, 15.53it/s]"
          ]
        },
        {
          "output_type": "stream",
          "name": "stdout",
          "text": [
            "Epoch: 304 | disc_loss: 0.004345342516899109 | gen_loss: -0.06350168585777283\n",
            "Epoch: 305 | disc_loss: -0.10052816569805145 | gen_loss: -0.058656979352235794\n",
            "Epoch: 306 | disc_loss: -0.058995477855205536 | gen_loss: -0.08335945755243301\n",
            "Epoch: 307 | disc_loss: -0.09085589647293091 | gen_loss: -0.08200850337743759\n"
          ]
        },
        {
          "output_type": "stream",
          "name": "stderr",
          "text": [
            " 31%|███       | 312/1001 [00:29<00:44, 15.52it/s]"
          ]
        },
        {
          "output_type": "stream",
          "name": "stdout",
          "text": [
            "Epoch: 308 | disc_loss: -0.07558939605951309 | gen_loss: -0.05844681337475777\n",
            "Epoch: 309 | disc_loss: 0.7198918461799622 | gen_loss: -0.06368197500705719\n",
            "Epoch: 310 | disc_loss: -0.060238562524318695 | gen_loss: -0.07402164489030838\n",
            "Epoch: 311 | disc_loss: -0.08047746121883392 | gen_loss: -0.07129129767417908\n"
          ]
        },
        {
          "output_type": "stream",
          "name": "stderr",
          "text": [
            " 32%|███▏      | 316/1001 [00:29<00:44, 15.29it/s]"
          ]
        },
        {
          "output_type": "stream",
          "name": "stdout",
          "text": [
            "Epoch: 312 | disc_loss: -0.09731948375701904 | gen_loss: -0.06086603179574013\n",
            "Epoch: 313 | disc_loss: -0.08498159795999527 | gen_loss: -0.04891354218125343\n",
            "Epoch: 314 | disc_loss: 0.03700476139783859 | gen_loss: -0.06746842712163925\n",
            "Epoch: 315 | disc_loss: -0.09066075831651688 | gen_loss: -0.06575245410203934\n"
          ]
        },
        {
          "output_type": "stream",
          "name": "stderr",
          "text": [
            " 32%|███▏      | 320/1001 [00:30<00:45, 15.05it/s]"
          ]
        },
        {
          "output_type": "stream",
          "name": "stdout",
          "text": [
            "Epoch: 316 | disc_loss: -0.07259611785411835 | gen_loss: -0.04693206399679184\n",
            "Epoch: 317 | disc_loss: -0.09435434639453888 | gen_loss: -0.05611283704638481\n",
            "Epoch: 318 | disc_loss: 0.9897781014442444 | gen_loss: -0.05859866738319397\n",
            "Epoch: 319 | disc_loss: -0.08326983451843262 | gen_loss: -0.09645454585552216\n"
          ]
        },
        {
          "output_type": "stream",
          "name": "stderr",
          "text": [
            " 32%|███▏      | 324/1001 [00:30<00:44, 15.30it/s]"
          ]
        },
        {
          "output_type": "stream",
          "name": "stdout",
          "text": [
            "Epoch: 320 | disc_loss: 0.14696641266345978 | gen_loss: -0.07242003083229065\n",
            "Epoch: 321 | disc_loss: 0.07762740552425385 | gen_loss: -0.09826451539993286\n",
            "Epoch: 322 | disc_loss: -0.08164690434932709 | gen_loss: -0.05159049108624458\n",
            "Epoch: 323 | disc_loss: -0.046740710735321045 | gen_loss: -0.0736067071557045\n"
          ]
        },
        {
          "output_type": "stream",
          "name": "stderr",
          "text": [
            " 33%|███▎      | 328/1001 [00:30<00:43, 15.41it/s]"
          ]
        },
        {
          "output_type": "stream",
          "name": "stdout",
          "text": [
            "Epoch: 324 | disc_loss: 0.21330951154232025 | gen_loss: -0.08372361958026886\n",
            "Epoch: 325 | disc_loss: -0.05224458873271942 | gen_loss: -0.015729054808616638\n",
            "Epoch: 326 | disc_loss: -0.05566451698541641 | gen_loss: -0.021790271624922752\n",
            "Epoch: 327 | disc_loss: 3.2168233394622803 | gen_loss: -0.04785047098994255\n"
          ]
        },
        {
          "output_type": "stream",
          "name": "stderr",
          "text": [
            " 33%|███▎      | 332/1001 [00:30<00:42, 15.59it/s]"
          ]
        },
        {
          "output_type": "stream",
          "name": "stdout",
          "text": [
            "Epoch: 328 | disc_loss: -0.08041171729564667 | gen_loss: -0.07108118385076523\n",
            "Epoch: 329 | disc_loss: -0.08447911590337753 | gen_loss: -0.0700320452451706\n",
            "Epoch: 330 | disc_loss: -0.08755911886692047 | gen_loss: -0.07482383400201797\n",
            "Epoch: 331 | disc_loss: -0.06431783735752106 | gen_loss: -0.023367295041680336\n"
          ]
        },
        {
          "output_type": "stream",
          "name": "stderr",
          "text": [
            "\r 33%|███▎      | 334/1001 [00:31<00:43, 15.33it/s]"
          ]
        },
        {
          "output_type": "stream",
          "name": "stdout",
          "text": [
            "Epoch: 332 | disc_loss: 0.2842436134815216 | gen_loss: -0.051973484456539154\n",
            "Epoch: 333 | disc_loss: 0.013903945684432983 | gen_loss: -0.05079911649227142\n",
            "Epoch: 334 | disc_loss: 0.4891729950904846 | gen_loss: -0.06602729856967926\n"
          ]
        },
        {
          "output_type": "stream",
          "name": "stderr",
          "text": [
            " 34%|███▍      | 338/1001 [00:31<00:43, 15.10it/s]"
          ]
        },
        {
          "output_type": "stream",
          "name": "stdout",
          "text": [
            "Epoch: 335 | disc_loss: -0.09443657100200653 | gen_loss: -0.09844155609607697\n",
            "Epoch: 336 | disc_loss: -0.09436674416065216 | gen_loss: -0.08212699741125107\n",
            "Epoch: 337 | disc_loss: 1.5965344905853271 | gen_loss: -0.025429220870137215\n",
            "Epoch: 338 | disc_loss: -0.0785539448261261 | gen_loss: -0.06438186019659042\n"
          ]
        },
        {
          "output_type": "stream",
          "name": "stderr",
          "text": [
            " 34%|███▍      | 342/1001 [00:31<00:42, 15.45it/s]"
          ]
        },
        {
          "output_type": "stream",
          "name": "stdout",
          "text": [
            "Epoch: 339 | disc_loss: -0.09936360269784927 | gen_loss: -0.04969363659620285\n",
            "Epoch: 340 | disc_loss: -0.025692883878946304 | gen_loss: -0.057258013635873795\n",
            "Epoch: 341 | disc_loss: -0.0963200107216835 | gen_loss: -0.03899972140789032\n",
            "Epoch: 342 | disc_loss: -0.09140219539403915 | gen_loss: -0.05960001423954964\n"
          ]
        },
        {
          "output_type": "stream",
          "name": "stderr",
          "text": [
            " 35%|███▍      | 346/1001 [00:31<00:42, 15.59it/s]"
          ]
        },
        {
          "output_type": "stream",
          "name": "stdout",
          "text": [
            "Epoch: 343 | disc_loss: 0.7873352766036987 | gen_loss: 0.007905828766524792\n",
            "Epoch: 344 | disc_loss: -0.09936144948005676 | gen_loss: -0.018241556361317635\n",
            "Epoch: 345 | disc_loss: -0.08018956333398819 | gen_loss: -0.012509429827332497\n",
            "Epoch: 346 | disc_loss: 0.19236868619918823 | gen_loss: -0.05318862944841385\n"
          ]
        },
        {
          "output_type": "stream",
          "name": "stderr",
          "text": [
            " 35%|███▍      | 350/1001 [00:32<00:42, 15.17it/s]"
          ]
        },
        {
          "output_type": "stream",
          "name": "stdout",
          "text": [
            "Epoch: 347 | disc_loss: -0.04246313497424126 | gen_loss: -0.029650980606675148\n",
            "Epoch: 348 | disc_loss: -0.0864216685295105 | gen_loss: -0.05204632878303528\n",
            "Epoch: 349 | disc_loss: 3.7891621589660645 | gen_loss: -0.0727337896823883\n"
          ]
        },
        {
          "output_type": "stream",
          "name": "stderr",
          "text": [
            " 35%|███▌      | 354/1001 [00:32<00:42, 15.36it/s]"
          ]
        },
        {
          "output_type": "stream",
          "name": "stdout",
          "text": [
            "Epoch: 350 | disc_loss: -0.08448328077793121 | gen_loss: -0.028432300314307213\n",
            "Epoch: 351 | disc_loss: -0.01703871786594391 | gen_loss: -0.018603147938847542\n",
            "Epoch: 352 | disc_loss: 0.46030300855636597 | gen_loss: -0.07457587867975235\n",
            "Epoch: 353 | disc_loss: -0.10333468019962311 | gen_loss: -0.045579008758068085\n"
          ]
        },
        {
          "output_type": "stream",
          "name": "stderr",
          "text": [
            " 36%|███▌      | 358/1001 [00:32<00:41, 15.46it/s]"
          ]
        },
        {
          "output_type": "stream",
          "name": "stdout",
          "text": [
            "Epoch: 354 | disc_loss: -0.020265765488147736 | gen_loss: -0.03593335300683975\n",
            "Epoch: 355 | disc_loss: -0.09846505522727966 | gen_loss: -0.04888913035392761\n",
            "Epoch: 356 | disc_loss: -0.09002331644296646 | gen_loss: -0.057465195655822754\n",
            "Epoch: 357 | disc_loss: 0.11634805798530579 | gen_loss: 0.008056445978581905\n"
          ]
        },
        {
          "output_type": "stream",
          "name": "stderr",
          "text": [
            "\r 36%|███▌      | 360/1001 [00:32<00:41, 15.39it/s]"
          ]
        },
        {
          "output_type": "stream",
          "name": "stdout",
          "text": [
            "Epoch: 358 | disc_loss: -0.09491785615682602 | gen_loss: -0.05565137788653374\n",
            "Epoch: 359 | disc_loss: -0.1131061315536499 | gen_loss: -0.044125188142061234\n",
            "Epoch: 360 | disc_loss: -0.02013286203145981 | gen_loss: -0.04924029856920242\n"
          ]
        },
        {
          "output_type": "stream",
          "name": "stderr",
          "text": [
            " 36%|███▋      | 364/1001 [00:32<00:43, 14.74it/s]"
          ]
        },
        {
          "output_type": "stream",
          "name": "stdout",
          "text": [
            "Epoch: 361 | disc_loss: -0.0856727808713913 | gen_loss: -0.020393481478095055\n",
            "Epoch: 362 | disc_loss: -0.0932944193482399 | gen_loss: -0.05132272094488144\n",
            "Epoch: 363 | disc_loss: 0.02454034984111786 | gen_loss: -0.05120231956243515\n"
          ]
        },
        {
          "output_type": "stream",
          "name": "stderr",
          "text": [
            " 37%|███▋      | 368/1001 [00:33<00:42, 14.96it/s]"
          ]
        },
        {
          "output_type": "stream",
          "name": "stdout",
          "text": [
            "Epoch: 364 | disc_loss: -0.09227123111486435 | gen_loss: -0.026840876787900925\n",
            "Epoch: 365 | disc_loss: -0.11712899804115295 | gen_loss: -0.042861953377723694\n",
            "Epoch: 366 | disc_loss: -0.10279889404773712 | gen_loss: -0.04733377322554588\n",
            "Epoch: 367 | disc_loss: 1.2130448818206787 | gen_loss: -0.0524812713265419\n"
          ]
        },
        {
          "output_type": "stream",
          "name": "stderr",
          "text": [
            " 37%|███▋      | 372/1001 [00:33<00:41, 15.01it/s]"
          ]
        },
        {
          "output_type": "stream",
          "name": "stdout",
          "text": [
            "Epoch: 368 | disc_loss: -0.10063730925321579 | gen_loss: -0.06488089263439178\n",
            "Epoch: 369 | disc_loss: -0.05632176622748375 | gen_loss: -0.05193238705396652\n",
            "Epoch: 370 | disc_loss: 0.4699918329715729 | gen_loss: -0.10913339257240295\n",
            "Epoch: 371 | disc_loss: -0.031032420694828033 | gen_loss: -0.028606142848730087\n"
          ]
        },
        {
          "output_type": "stream",
          "name": "stderr",
          "text": [
            " 38%|███▊      | 376/1001 [00:33<00:40, 15.33it/s]"
          ]
        },
        {
          "output_type": "stream",
          "name": "stdout",
          "text": [
            "Epoch: 372 | disc_loss: -0.0035509318113327026 | gen_loss: -0.05751008167862892\n",
            "Epoch: 373 | disc_loss: -0.02700602263212204 | gen_loss: -0.05219539999961853\n",
            "Epoch: 374 | disc_loss: -0.07253818958997726 | gen_loss: -0.033025968819856644\n",
            "Epoch: 375 | disc_loss: -0.10721597820520401 | gen_loss: -0.007638213224709034\n"
          ]
        },
        {
          "output_type": "stream",
          "name": "stderr",
          "text": [
            " 38%|███▊      | 380/1001 [00:34<00:40, 15.35it/s]"
          ]
        },
        {
          "output_type": "stream",
          "name": "stdout",
          "text": [
            "Epoch: 376 | disc_loss: 0.07519721239805222 | gen_loss: -0.060133930295705795\n",
            "Epoch: 377 | disc_loss: -0.08040261268615723 | gen_loss: -0.044677361845970154\n",
            "Epoch: 378 | disc_loss: -0.11705063283443451 | gen_loss: -0.046740978956222534\n",
            "Epoch: 379 | disc_loss: -0.11121353507041931 | gen_loss: -0.03994088992476463\n"
          ]
        },
        {
          "output_type": "stream",
          "name": "stderr",
          "text": [
            " 38%|███▊      | 384/1001 [00:34<00:40, 15.35it/s]"
          ]
        },
        {
          "output_type": "stream",
          "name": "stdout",
          "text": [
            "Epoch: 380 | disc_loss: 0.09390868246555328 | gen_loss: -0.02624962106347084\n",
            "Epoch: 381 | disc_loss: -0.12372365593910217 | gen_loss: -0.016839630901813507\n",
            "Epoch: 382 | disc_loss: -0.10208874940872192 | gen_loss: -0.035015493631362915\n",
            "Epoch: 383 | disc_loss: -0.08476700633764267 | gen_loss: -0.04519479721784592\n"
          ]
        },
        {
          "output_type": "stream",
          "name": "stderr",
          "text": [
            " 39%|███▉      | 388/1001 [00:34<00:39, 15.46it/s]"
          ]
        },
        {
          "output_type": "stream",
          "name": "stdout",
          "text": [
            "Epoch: 384 | disc_loss: -0.0751727893948555 | gen_loss: -0.062050431966781616\n",
            "Epoch: 385 | disc_loss: 0.006601899862289429 | gen_loss: -0.03634371608495712\n",
            "Epoch: 386 | disc_loss: -0.11773157119750977 | gen_loss: -0.0367334745824337\n",
            "Epoch: 387 | disc_loss: -0.12096711248159409 | gen_loss: -0.02870665304362774\n"
          ]
        },
        {
          "output_type": "stream",
          "name": "stderr",
          "text": [
            " 39%|███▉      | 392/1001 [00:34<00:39, 15.50it/s]"
          ]
        },
        {
          "output_type": "stream",
          "name": "stdout",
          "text": [
            "Epoch: 388 | disc_loss: 1.233614206314087 | gen_loss: 0.02634580433368683\n",
            "Epoch: 389 | disc_loss: -0.10761579871177673 | gen_loss: -0.05377892032265663\n",
            "Epoch: 390 | disc_loss: -0.07078281044960022 | gen_loss: -0.05255329608917236\n",
            "Epoch: 391 | disc_loss: 0.19630488753318787 | gen_loss: -0.05190170183777809\n"
          ]
        },
        {
          "output_type": "stream",
          "name": "stderr",
          "text": [
            " 40%|███▉      | 396/1001 [00:35<00:40, 15.02it/s]"
          ]
        },
        {
          "output_type": "stream",
          "name": "stdout",
          "text": [
            "Epoch: 392 | disc_loss: -0.09524594247341156 | gen_loss: 0.03802936151623726\n",
            "Epoch: 393 | disc_loss: 0.1174154207110405 | gen_loss: 0.04485946521162987\n",
            "Epoch: 394 | disc_loss: 0.7569778561592102 | gen_loss: -0.032072391360998154\n",
            "Epoch: 395 | disc_loss: -0.10119889676570892 | gen_loss: -0.05643589794635773\n"
          ]
        },
        {
          "output_type": "stream",
          "name": "stderr",
          "text": [
            " 40%|███▉      | 400/1001 [00:35<00:38, 15.42it/s]"
          ]
        },
        {
          "output_type": "stream",
          "name": "stdout",
          "text": [
            "Epoch: 396 | disc_loss: -0.11658143252134323 | gen_loss: -0.04151032119989395\n",
            "Epoch: 397 | disc_loss: -0.12040779739618301 | gen_loss: -0.03594890981912613\n",
            "Epoch: 398 | disc_loss: -0.10960289090871811 | gen_loss: 0.025740936398506165\n",
            "Epoch: 399 | disc_loss: -0.017737679183483124 | gen_loss: -0.007562858052551746\n"
          ]
        },
        {
          "output_type": "stream",
          "name": "stderr",
          "text": [
            " 40%|████      | 404/1001 [00:35<00:38, 15.59it/s]"
          ]
        },
        {
          "output_type": "stream",
          "name": "stdout",
          "text": [
            "Epoch: 400 | disc_loss: 5.214167594909668 | gen_loss: -0.005728493444621563\n",
            "Epoch: 401 | disc_loss: -0.10501264780759811 | gen_loss: -0.043376483023166656\n",
            "Epoch: 402 | disc_loss: -0.09389093518257141 | gen_loss: -0.025913910940289497\n",
            "Epoch: 403 | disc_loss: 0.06484170258045197 | gen_loss: -0.011169849894940853\n"
          ]
        },
        {
          "output_type": "stream",
          "name": "stderr",
          "text": [
            " 41%|████      | 408/1001 [00:35<00:38, 15.35it/s]"
          ]
        },
        {
          "output_type": "stream",
          "name": "stdout",
          "text": [
            "Epoch: 404 | disc_loss: -0.09350645542144775 | gen_loss: -0.026226956397294998\n",
            "Epoch: 405 | disc_loss: -0.11660858243703842 | gen_loss: -0.0009503242326900363\n",
            "Epoch: 406 | disc_loss: -0.08931005001068115 | gen_loss: -0.017832254990935326\n",
            "Epoch: 407 | disc_loss: -0.0921478345990181 | gen_loss: -0.06529887020587921\n"
          ]
        },
        {
          "output_type": "stream",
          "name": "stderr",
          "text": [
            " 41%|████      | 412/1001 [00:36<00:39, 14.95it/s]"
          ]
        },
        {
          "output_type": "stream",
          "name": "stdout",
          "text": [
            "Epoch: 408 | disc_loss: 0.5355348587036133 | gen_loss: -0.0894939973950386\n",
            "Epoch: 409 | disc_loss: 0.06273820996284485 | gen_loss: -0.04201335832476616\n",
            "Epoch: 410 | disc_loss: -0.0704316720366478 | gen_loss: -0.04925078898668289\n",
            "Epoch: 411 | disc_loss: -0.11369653046131134 | gen_loss: -0.039586082100868225\n"
          ]
        },
        {
          "output_type": "stream",
          "name": "stderr",
          "text": [
            " 42%|████▏     | 416/1001 [00:36<00:38, 15.06it/s]"
          ]
        },
        {
          "output_type": "stream",
          "name": "stdout",
          "text": [
            "Epoch: 412 | disc_loss: 0.23423078656196594 | gen_loss: 0.039380770176649094\n",
            "Epoch: 413 | disc_loss: -0.1055184006690979 | gen_loss: -0.09669993072748184\n",
            "Epoch: 414 | disc_loss: -0.12063879519701004 | gen_loss: -0.09119869023561478\n",
            "Epoch: 415 | disc_loss: -0.07728185504674911 | gen_loss: -0.051049038767814636\n"
          ]
        },
        {
          "output_type": "stream",
          "name": "stderr",
          "text": [
            " 42%|████▏     | 420/1001 [00:36<00:38, 15.19it/s]"
          ]
        },
        {
          "output_type": "stream",
          "name": "stdout",
          "text": [
            "Epoch: 416 | disc_loss: -0.09948179870843887 | gen_loss: -0.05387328565120697\n",
            "Epoch: 417 | disc_loss: -0.1052096039056778 | gen_loss: -0.06332118809223175\n",
            "Epoch: 418 | disc_loss: -0.0536981001496315 | gen_loss: -0.07074426859617233\n",
            "Epoch: 419 | disc_loss: 0.6165158748626709 | gen_loss: -0.06849627196788788\n"
          ]
        },
        {
          "output_type": "stream",
          "name": "stderr",
          "text": [
            " 42%|████▏     | 424/1001 [00:36<00:37, 15.22it/s]"
          ]
        },
        {
          "output_type": "stream",
          "name": "stdout",
          "text": [
            "Epoch: 420 | disc_loss: -0.10570333153009415 | gen_loss: -0.06626848131418228\n",
            "Epoch: 421 | disc_loss: -0.11603754758834839 | gen_loss: -0.06263548135757446\n",
            "Epoch: 422 | disc_loss: -0.05089639872312546 | gen_loss: -0.09281550347805023\n",
            "Epoch: 423 | disc_loss: 0.1282796710729599 | gen_loss: -0.05765194445848465\n"
          ]
        },
        {
          "output_type": "stream",
          "name": "stderr",
          "text": [
            " 43%|████▎     | 428/1001 [00:37<00:38, 15.05it/s]"
          ]
        },
        {
          "output_type": "stream",
          "name": "stdout",
          "text": [
            "Epoch: 424 | disc_loss: -0.10889241844415665 | gen_loss: -0.06302856653928757\n",
            "Epoch: 425 | disc_loss: -0.08539116382598877 | gen_loss: -0.06045739725232124\n",
            "Epoch: 426 | disc_loss: -0.11558198183774948 | gen_loss: -0.06197785958647728\n",
            "Epoch: 427 | disc_loss: -0.08789515495300293 | gen_loss: -0.008359787054359913\n"
          ]
        },
        {
          "output_type": "stream",
          "name": "stderr",
          "text": [
            " 43%|████▎     | 432/1001 [00:37<00:37, 15.08it/s]"
          ]
        },
        {
          "output_type": "stream",
          "name": "stdout",
          "text": [
            "Epoch: 428 | disc_loss: -0.11397849768400192 | gen_loss: -4.628215901902877e-05\n",
            "Epoch: 429 | disc_loss: -0.11637483537197113 | gen_loss: -0.013753111474215984\n",
            "Epoch: 430 | disc_loss: -0.1070730984210968 | gen_loss: -0.019160039722919464\n",
            "Epoch: 431 | disc_loss: -0.09767371416091919 | gen_loss: -0.00048734783194959164\n"
          ]
        },
        {
          "output_type": "stream",
          "name": "stderr",
          "text": [
            " 44%|████▎     | 436/1001 [00:37<00:36, 15.34it/s]"
          ]
        },
        {
          "output_type": "stream",
          "name": "stdout",
          "text": [
            "Epoch: 432 | disc_loss: 0.28286218643188477 | gen_loss: -0.04054272547364235\n",
            "Epoch: 433 | disc_loss: -0.10863755643367767 | gen_loss: -0.05099515989422798\n",
            "Epoch: 434 | disc_loss: 0.014756232500076294 | gen_loss: -0.05917780473828316\n",
            "Epoch: 435 | disc_loss: -0.10247571766376495 | gen_loss: -0.033059846609830856\n"
          ]
        },
        {
          "output_type": "stream",
          "name": "stderr",
          "text": [
            " 44%|████▍     | 440/1001 [00:37<00:36, 15.41it/s]"
          ]
        },
        {
          "output_type": "stream",
          "name": "stdout",
          "text": [
            "Epoch: 436 | disc_loss: -0.12237553298473358 | gen_loss: -0.04657595977187157\n",
            "Epoch: 437 | disc_loss: 0.019429244101047516 | gen_loss: -0.06533818691968918\n",
            "Epoch: 438 | disc_loss: 0.06755827367305756 | gen_loss: -0.2350451499223709\n",
            "Epoch: 439 | disc_loss: -0.10818146914243698 | gen_loss: -0.07989266514778137\n"
          ]
        },
        {
          "output_type": "stream",
          "name": "stderr",
          "text": [
            " 44%|████▍     | 444/1001 [00:38<00:36, 15.23it/s]"
          ]
        },
        {
          "output_type": "stream",
          "name": "stdout",
          "text": [
            "Epoch: 440 | disc_loss: -0.12429624795913696 | gen_loss: -0.0764131098985672\n",
            "Epoch: 441 | disc_loss: -0.10567490756511688 | gen_loss: -0.07187516987323761\n",
            "Epoch: 442 | disc_loss: -0.11992792785167694 | gen_loss: -0.0727558434009552\n",
            "Epoch: 443 | disc_loss: 0.06438389420509338 | gen_loss: -0.06351442635059357\n"
          ]
        },
        {
          "output_type": "stream",
          "name": "stderr",
          "text": [
            " 45%|████▍     | 448/1001 [00:38<00:35, 15.37it/s]"
          ]
        },
        {
          "output_type": "stream",
          "name": "stdout",
          "text": [
            "Epoch: 444 | disc_loss: -0.11958852410316467 | gen_loss: -0.059456005692481995\n",
            "Epoch: 445 | disc_loss: 0.2581561505794525 | gen_loss: -0.06503673642873764\n",
            "Epoch: 446 | disc_loss: -0.0951671451330185 | gen_loss: -0.056967414915561676\n",
            "Epoch: 447 | disc_loss: -0.07403528690338135 | gen_loss: -0.047113701701164246\n"
          ]
        },
        {
          "output_type": "stream",
          "name": "stderr",
          "text": [
            " 45%|████▌     | 452/1001 [00:38<00:35, 15.43it/s]"
          ]
        },
        {
          "output_type": "stream",
          "name": "stdout",
          "text": [
            "Epoch: 448 | disc_loss: -0.09801735728979111 | gen_loss: -0.05670500919222832\n",
            "Epoch: 449 | disc_loss: -0.11893460154533386 | gen_loss: -0.06328750401735306\n",
            "Epoch: 450 | disc_loss: -0.10083912312984467 | gen_loss: -0.032077331095933914\n",
            "Epoch: 451 | disc_loss: -0.10094112902879715 | gen_loss: -0.07354417443275452\n"
          ]
        },
        {
          "output_type": "stream",
          "name": "stderr",
          "text": [
            " 46%|████▌     | 456/1001 [00:39<00:35, 15.52it/s]"
          ]
        },
        {
          "output_type": "stream",
          "name": "stdout",
          "text": [
            "Epoch: 452 | disc_loss: -0.11805431544780731 | gen_loss: -0.06410061568021774\n",
            "Epoch: 453 | disc_loss: -0.05497763305902481 | gen_loss: 0.057717181742191315\n",
            "Epoch: 454 | disc_loss: -0.12070223689079285 | gen_loss: -0.04013686254620552\n",
            "Epoch: 455 | disc_loss: -0.10136876255273819 | gen_loss: -0.06145726516842842\n"
          ]
        },
        {
          "output_type": "stream",
          "name": "stderr",
          "text": [
            " 46%|████▌     | 460/1001 [00:39<00:35, 15.41it/s]"
          ]
        },
        {
          "output_type": "stream",
          "name": "stdout",
          "text": [
            "Epoch: 456 | disc_loss: -0.12532901763916016 | gen_loss: -0.06248997524380684\n",
            "Epoch: 457 | disc_loss: 0.2949373722076416 | gen_loss: 0.044040948152542114\n",
            "Epoch: 458 | disc_loss: -0.10138397663831711 | gen_loss: 0.007707097101956606\n",
            "Epoch: 459 | disc_loss: -0.12612316012382507 | gen_loss: 0.0014737199526280165\n"
          ]
        },
        {
          "output_type": "stream",
          "name": "stderr",
          "text": [
            " 46%|████▋     | 464/1001 [00:39<00:34, 15.35it/s]"
          ]
        },
        {
          "output_type": "stream",
          "name": "stdout",
          "text": [
            "Epoch: 460 | disc_loss: -0.10630650073289871 | gen_loss: -0.01948612928390503\n",
            "Epoch: 461 | disc_loss: 0.03275281935930252 | gen_loss: -0.0861363410949707\n",
            "Epoch: 462 | disc_loss: -0.09600123763084412 | gen_loss: -0.036652207374572754\n",
            "Epoch: 463 | disc_loss: -0.07423487305641174 | gen_loss: -0.055430151522159576\n"
          ]
        },
        {
          "output_type": "stream",
          "name": "stderr",
          "text": [
            " 47%|████▋     | 468/1001 [00:39<00:34, 15.55it/s]"
          ]
        },
        {
          "output_type": "stream",
          "name": "stdout",
          "text": [
            "Epoch: 464 | disc_loss: -0.11500139534473419 | gen_loss: -0.05836034193634987\n",
            "Epoch: 465 | disc_loss: 0.2857675552368164 | gen_loss: -0.010353023186326027\n",
            "Epoch: 466 | disc_loss: -0.12471765279769897 | gen_loss: -0.0320541076362133\n",
            "Epoch: 467 | disc_loss: -0.10152754187583923 | gen_loss: -0.043036360293626785\n"
          ]
        },
        {
          "output_type": "stream",
          "name": "stderr",
          "text": [
            " 47%|████▋     | 472/1001 [00:40<00:34, 15.54it/s]"
          ]
        },
        {
          "output_type": "stream",
          "name": "stdout",
          "text": [
            "Epoch: 468 | disc_loss: 1.2530395984649658 | gen_loss: -0.04362557455897331\n",
            "Epoch: 469 | disc_loss: -0.11482001096010208 | gen_loss: -0.08884821087121964\n",
            "Epoch: 470 | disc_loss: -0.12399637699127197 | gen_loss: -0.06910539418458939\n",
            "Epoch: 471 | disc_loss: -0.12944093346595764 | gen_loss: -0.06701634079217911\n"
          ]
        },
        {
          "output_type": "stream",
          "name": "stderr",
          "text": [
            " 48%|████▊     | 476/1001 [00:40<00:33, 15.49it/s]"
          ]
        },
        {
          "output_type": "stream",
          "name": "stdout",
          "text": [
            "Epoch: 472 | disc_loss: 0.7924485206604004 | gen_loss: -0.045922260731458664\n",
            "Epoch: 473 | disc_loss: -0.11518631875514984 | gen_loss: -0.03032587841153145\n",
            "Epoch: 474 | disc_loss: -0.1243060827255249 | gen_loss: -0.04856109991669655\n",
            "Epoch: 475 | disc_loss: -0.07444879412651062 | gen_loss: -0.07166918367147446\n"
          ]
        },
        {
          "output_type": "stream",
          "name": "stderr",
          "text": [
            " 48%|████▊     | 480/1001 [00:40<00:33, 15.50it/s]"
          ]
        },
        {
          "output_type": "stream",
          "name": "stdout",
          "text": [
            "Epoch: 476 | disc_loss: -0.021333277225494385 | gen_loss: -0.08058589696884155\n",
            "Epoch: 477 | disc_loss: 0.7909971475601196 | gen_loss: -0.05301574617624283\n",
            "Epoch: 478 | disc_loss: -0.11176691949367523 | gen_loss: -0.11849746108055115\n",
            "Epoch: 479 | disc_loss: 0.0019185170531272888 | gen_loss: 0.006148212123662233\n"
          ]
        },
        {
          "output_type": "stream",
          "name": "stderr",
          "text": [
            "\r 48%|████▊     | 482/1001 [00:40<00:35, 14.61it/s]"
          ]
        },
        {
          "output_type": "stream",
          "name": "stdout",
          "text": [
            "Epoch: 480 | disc_loss: -0.10665015876293182 | gen_loss: -0.12491413950920105\n",
            "Epoch: 481 | disc_loss: -0.1212892234325409 | gen_loss: -0.12570656836032867\n",
            "Epoch: 482 | disc_loss: -0.11953353881835938 | gen_loss: -0.10314209014177322\n"
          ]
        },
        {
          "output_type": "stream",
          "name": "stderr",
          "text": [
            " 49%|████▊     | 486/1001 [00:40<00:34, 15.01it/s]"
          ]
        },
        {
          "output_type": "stream",
          "name": "stdout",
          "text": [
            "Epoch: 483 | disc_loss: -0.03755398839712143 | gen_loss: -0.08908684551715851\n",
            "Epoch: 484 | disc_loss: -0.1116950586438179 | gen_loss: -0.06874793767929077\n",
            "Epoch: 485 | disc_loss: -0.12132340669631958 | gen_loss: -0.0762326568365097\n",
            "Epoch: 486 | disc_loss: -0.12028154730796814 | gen_loss: -0.0737098902463913\n"
          ]
        },
        {
          "output_type": "stream",
          "name": "stderr",
          "text": [
            " 49%|████▉     | 490/1001 [00:41<00:34, 14.79it/s]"
          ]
        },
        {
          "output_type": "stream",
          "name": "stdout",
          "text": [
            "Epoch: 487 | disc_loss: -0.09043461084365845 | gen_loss: -0.07618114352226257\n",
            "Epoch: 488 | disc_loss: -0.1064983457326889 | gen_loss: -0.10302552580833435\n",
            "Epoch: 489 | disc_loss: -0.12737612426280975 | gen_loss: -0.1135752946138382\n"
          ]
        },
        {
          "output_type": "stream",
          "name": "stderr",
          "text": [
            " 49%|████▉     | 494/1001 [00:41<00:33, 15.14it/s]"
          ]
        },
        {
          "output_type": "stream",
          "name": "stdout",
          "text": [
            "Epoch: 490 | disc_loss: -0.06421296298503876 | gen_loss: -0.08796409517526627\n",
            "Epoch: 491 | disc_loss: -0.11247707903385162 | gen_loss: -0.09306402504444122\n",
            "Epoch: 492 | disc_loss: -0.12504029273986816 | gen_loss: -0.09543321281671524\n",
            "Epoch: 493 | disc_loss: -0.1310654729604721 | gen_loss: -0.0816114991903305\n"
          ]
        },
        {
          "output_type": "stream",
          "name": "stderr",
          "text": [
            " 50%|████▉     | 498/1001 [00:41<00:32, 15.38it/s]"
          ]
        },
        {
          "output_type": "stream",
          "name": "stdout",
          "text": [
            "Epoch: 494 | disc_loss: -0.12471787631511688 | gen_loss: -0.04597534239292145\n",
            "Epoch: 495 | disc_loss: -0.11377803236246109 | gen_loss: -0.1049666628241539\n",
            "Epoch: 496 | disc_loss: -0.12176822870969772 | gen_loss: -0.07982251793146133\n",
            "Epoch: 497 | disc_loss: 0.4418884813785553 | gen_loss: -0.11220945417881012\n"
          ]
        },
        {
          "output_type": "stream",
          "name": "stderr",
          "text": [
            " 50%|█████     | 502/1001 [00:42<00:32, 15.40it/s]"
          ]
        },
        {
          "output_type": "stream",
          "name": "stdout",
          "text": [
            "Epoch: 498 | disc_loss: -0.11318764090538025 | gen_loss: -0.0960407629609108\n",
            "Epoch: 499 | disc_loss: 0.19141608476638794 | gen_loss: -0.05952964723110199\n",
            "Epoch: 500 | disc_loss: -0.11317189037799835 | gen_loss: -0.07915238291025162\n",
            "Epoch: 501 | disc_loss: 0.10641885548830032 | gen_loss: -0.10692200809717178\n"
          ]
        },
        {
          "output_type": "stream",
          "name": "stderr",
          "text": [
            " 51%|█████     | 506/1001 [00:42<00:32, 15.26it/s]"
          ]
        },
        {
          "output_type": "stream",
          "name": "stdout",
          "text": [
            "Epoch: 502 | disc_loss: -0.12838585674762726 | gen_loss: -0.09263023734092712\n",
            "Epoch: 503 | disc_loss: -0.025304049253463745 | gen_loss: -0.09320300817489624\n",
            "Epoch: 504 | disc_loss: -0.12111416459083557 | gen_loss: -0.09269556403160095\n",
            "Epoch: 505 | disc_loss: 0.11597304046154022 | gen_loss: -0.09577784687280655\n"
          ]
        },
        {
          "output_type": "stream",
          "name": "stderr",
          "text": [
            " 51%|█████     | 510/1001 [00:42<00:32, 15.16it/s]"
          ]
        },
        {
          "output_type": "stream",
          "name": "stdout",
          "text": [
            "Epoch: 506 | disc_loss: -0.1273922324180603 | gen_loss: -0.09310793876647949\n",
            "Epoch: 507 | disc_loss: -0.11169755458831787 | gen_loss: -0.06684736907482147\n",
            "Epoch: 508 | disc_loss: -0.01591828465461731 | gen_loss: -0.06255938857793808\n",
            "Epoch: 509 | disc_loss: -0.1333237886428833 | gen_loss: -0.05913393571972847\n"
          ]
        },
        {
          "output_type": "stream",
          "name": "stderr",
          "text": [
            " 51%|█████▏    | 514/1001 [00:42<00:31, 15.49it/s]"
          ]
        },
        {
          "output_type": "stream",
          "name": "stdout",
          "text": [
            "Epoch: 510 | disc_loss: -0.1258898228406906 | gen_loss: -0.07344424724578857\n",
            "Epoch: 511 | disc_loss: -0.1317504346370697 | gen_loss: -0.0816439613699913\n",
            "Epoch: 512 | disc_loss: 0.5198032855987549 | gen_loss: -0.09546641260385513\n",
            "Epoch: 513 | disc_loss: -0.12059897929430008 | gen_loss: -0.10898566991090775\n"
          ]
        },
        {
          "output_type": "stream",
          "name": "stderr",
          "text": [
            " 52%|█████▏    | 518/1001 [00:43<00:32, 15.09it/s]"
          ]
        },
        {
          "output_type": "stream",
          "name": "stdout",
          "text": [
            "Epoch: 514 | disc_loss: -0.12611983716487885 | gen_loss: -0.09206261485815048\n",
            "Epoch: 515 | disc_loss: -0.04775625467300415 | gen_loss: -0.10228375345468521\n",
            "Epoch: 516 | disc_loss: 0.05877446383237839 | gen_loss: -0.08516474813222885\n",
            "Epoch: 517 | disc_loss: -0.12322334945201874 | gen_loss: -0.0937919169664383\n"
          ]
        },
        {
          "output_type": "stream",
          "name": "stderr",
          "text": [
            " 52%|█████▏    | 522/1001 [00:43<00:31, 15.02it/s]"
          ]
        },
        {
          "output_type": "stream",
          "name": "stdout",
          "text": [
            "Epoch: 518 | disc_loss: -0.1114666685461998 | gen_loss: -0.09602843225002289\n",
            "Epoch: 519 | disc_loss: -0.09840293228626251 | gen_loss: -0.1132085993885994\n",
            "Epoch: 520 | disc_loss: -0.1326460838317871 | gen_loss: -0.10105787217617035\n",
            "Epoch: 521 | disc_loss: -0.1255774199962616 | gen_loss: -0.09902224689722061\n"
          ]
        },
        {
          "output_type": "stream",
          "name": "stderr",
          "text": [
            " 53%|█████▎    | 526/1001 [00:43<00:31, 15.06it/s]"
          ]
        },
        {
          "output_type": "stream",
          "name": "stdout",
          "text": [
            "Epoch: 522 | disc_loss: 0.23007987439632416 | gen_loss: -0.025575723499059677\n",
            "Epoch: 523 | disc_loss: -0.12788914144039154 | gen_loss: 0.006163113750517368\n",
            "Epoch: 524 | disc_loss: -0.12396423518657684 | gen_loss: -0.023501288145780563\n",
            "Epoch: 525 | disc_loss: -0.08730417490005493 | gen_loss: -0.03883402422070503\n"
          ]
        },
        {
          "output_type": "stream",
          "name": "stderr",
          "text": [
            " 53%|█████▎    | 530/1001 [00:43<00:30, 15.25it/s]"
          ]
        },
        {
          "output_type": "stream",
          "name": "stdout",
          "text": [
            "Epoch: 526 | disc_loss: 0.001959078013896942 | gen_loss: -0.06304079294204712\n",
            "Epoch: 527 | disc_loss: -0.0959748849272728 | gen_loss: -0.05986667051911354\n",
            "Epoch: 528 | disc_loss: -0.11611305177211761 | gen_loss: -0.07567590475082397\n",
            "Epoch: 529 | disc_loss: -0.021347709000110626 | gen_loss: -0.09274103492498398\n"
          ]
        },
        {
          "output_type": "stream",
          "name": "stderr",
          "text": [
            " 53%|█████▎    | 534/1001 [00:44<00:30, 15.18it/s]"
          ]
        },
        {
          "output_type": "stream",
          "name": "stdout",
          "text": [
            "Epoch: 530 | disc_loss: -0.13243986666202545 | gen_loss: -0.10874170064926147\n",
            "Epoch: 531 | disc_loss: -0.13029232621192932 | gen_loss: -0.10346729308366776\n",
            "Epoch: 532 | disc_loss: -0.11775076389312744 | gen_loss: -0.11377561837434769\n",
            "Epoch: 533 | disc_loss: -0.13323232531547546 | gen_loss: -0.08992105722427368\n"
          ]
        },
        {
          "output_type": "stream",
          "name": "stderr",
          "text": [
            " 54%|█████▎    | 538/1001 [00:44<00:30, 15.24it/s]"
          ]
        },
        {
          "output_type": "stream",
          "name": "stdout",
          "text": [
            "Epoch: 534 | disc_loss: -0.11947052925825119 | gen_loss: -0.10109198838472366\n",
            "Epoch: 535 | disc_loss: -0.07291887700557709 | gen_loss: -0.10431232303380966\n",
            "Epoch: 536 | disc_loss: 0.15111076831817627 | gen_loss: -0.08805516362190247\n",
            "Epoch: 537 | disc_loss: -0.11833467334508896 | gen_loss: -0.08875324577093124\n"
          ]
        },
        {
          "output_type": "stream",
          "name": "stderr",
          "text": [
            " 54%|█████▍    | 542/1001 [00:44<00:29, 15.45it/s]"
          ]
        },
        {
          "output_type": "stream",
          "name": "stdout",
          "text": [
            "Epoch: 538 | disc_loss: -0.05766386166214943 | gen_loss: -0.06962792575359344\n",
            "Epoch: 539 | disc_loss: 0.436179518699646 | gen_loss: -0.10233864188194275\n",
            "Epoch: 540 | disc_loss: -0.1258653849363327 | gen_loss: -0.11321136355400085\n",
            "Epoch: 541 | disc_loss: -0.12592259049415588 | gen_loss: -0.12398102134466171\n"
          ]
        },
        {
          "output_type": "stream",
          "name": "stderr",
          "text": [
            " 55%|█████▍    | 546/1001 [00:44<00:29, 15.64it/s]"
          ]
        },
        {
          "output_type": "stream",
          "name": "stdout",
          "text": [
            "Epoch: 542 | disc_loss: 0.04554866999387741 | gen_loss: -0.08588212728500366\n",
            "Epoch: 543 | disc_loss: -0.126682311296463 | gen_loss: -0.06972052901983261\n",
            "Epoch: 544 | disc_loss: -0.103711798787117 | gen_loss: -0.08541452139616013\n",
            "Epoch: 545 | disc_loss: 0.03358069062232971 | gen_loss: -0.08762261271476746\n"
          ]
        },
        {
          "output_type": "stream",
          "name": "stderr",
          "text": [
            " 55%|█████▍    | 550/1001 [00:45<00:28, 15.59it/s]"
          ]
        },
        {
          "output_type": "stream",
          "name": "stdout",
          "text": [
            "Epoch: 546 | disc_loss: -0.12091957777738571 | gen_loss: -0.09715008735656738\n",
            "Epoch: 547 | disc_loss: -0.0967271625995636 | gen_loss: -0.09583504498004913\n",
            "Epoch: 548 | disc_loss: -0.11318870633840561 | gen_loss: -0.07178013026714325\n",
            "Epoch: 549 | disc_loss: -0.12522034347057343 | gen_loss: -0.08238573372364044\n"
          ]
        },
        {
          "output_type": "stream",
          "name": "stderr",
          "text": [
            " 55%|█████▌    | 554/1001 [00:45<00:28, 15.44it/s]"
          ]
        },
        {
          "output_type": "stream",
          "name": "stdout",
          "text": [
            "Epoch: 550 | disc_loss: -0.1078614592552185 | gen_loss: -0.1000240296125412\n",
            "Epoch: 551 | disc_loss: -0.07810185849666595 | gen_loss: -0.09506361931562424\n",
            "Epoch: 552 | disc_loss: -0.12398860603570938 | gen_loss: -0.08411438018083572\n",
            "Epoch: 553 | disc_loss: -0.11628041416406631 | gen_loss: -0.09306096285581589\n"
          ]
        },
        {
          "output_type": "stream",
          "name": "stderr",
          "text": [
            " 56%|█████▌    | 558/1001 [00:45<00:29, 15.04it/s]"
          ]
        },
        {
          "output_type": "stream",
          "name": "stdout",
          "text": [
            "Epoch: 554 | disc_loss: -0.09766344726085663 | gen_loss: -0.0949128046631813\n",
            "Epoch: 555 | disc_loss: -0.0919148325920105 | gen_loss: -0.08593076467514038\n",
            "Epoch: 556 | disc_loss: -0.10371099412441254 | gen_loss: -0.11158990859985352\n",
            "Epoch: 557 | disc_loss: -0.07545796036720276 | gen_loss: -0.10229119658470154\n"
          ]
        },
        {
          "output_type": "stream",
          "name": "stderr",
          "text": [
            " 56%|█████▌    | 562/1001 [00:45<00:28, 15.18it/s]"
          ]
        },
        {
          "output_type": "stream",
          "name": "stdout",
          "text": [
            "Epoch: 558 | disc_loss: 1.7620103359222412 | gen_loss: -0.10667835921049118\n",
            "Epoch: 559 | disc_loss: -0.13441169261932373 | gen_loss: -0.07901369780302048\n",
            "Epoch: 560 | disc_loss: -0.12655174732208252 | gen_loss: -0.1077444925904274\n",
            "Epoch: 561 | disc_loss: -0.07744596898555756 | gen_loss: -0.10106569528579712\n"
          ]
        },
        {
          "output_type": "stream",
          "name": "stderr",
          "text": [
            " 57%|█████▋    | 566/1001 [00:46<00:28, 15.39it/s]"
          ]
        },
        {
          "output_type": "stream",
          "name": "stdout",
          "text": [
            "Epoch: 562 | disc_loss: 0.10553082823753357 | gen_loss: -0.02064872905611992\n",
            "Epoch: 563 | disc_loss: 0.7628490328788757 | gen_loss: -0.10153361409902573\n",
            "Epoch: 564 | disc_loss: -0.12533675134181976 | gen_loss: -0.09208066016435623\n",
            "Epoch: 565 | disc_loss: -0.12086054682731628 | gen_loss: -0.0757380872964859\n"
          ]
        },
        {
          "output_type": "stream",
          "name": "stderr",
          "text": [
            " 57%|█████▋    | 570/1001 [00:46<00:28, 15.28it/s]"
          ]
        },
        {
          "output_type": "stream",
          "name": "stdout",
          "text": [
            "Epoch: 566 | disc_loss: -0.13482557237148285 | gen_loss: -0.08807270973920822\n",
            "Epoch: 567 | disc_loss: 0.0295494943857193 | gen_loss: -0.09571652114391327\n",
            "Epoch: 568 | disc_loss: -0.1309407651424408 | gen_loss: -0.11143133789300919\n",
            "Epoch: 569 | disc_loss: 0.07665523141622543 | gen_loss: -0.11570565402507782\n"
          ]
        },
        {
          "output_type": "stream",
          "name": "stderr",
          "text": [
            " 57%|█████▋    | 574/1001 [00:46<00:27, 15.37it/s]"
          ]
        },
        {
          "output_type": "stream",
          "name": "stdout",
          "text": [
            "Epoch: 570 | disc_loss: -0.06227876991033554 | gen_loss: -0.10988215357065201\n",
            "Epoch: 571 | disc_loss: -0.049838922917842865 | gen_loss: -0.09044517576694489\n",
            "Epoch: 572 | disc_loss: -0.11332304030656815 | gen_loss: -0.08477591723203659\n",
            "Epoch: 573 | disc_loss: -0.11281336098909378 | gen_loss: -0.020989613607525826\n"
          ]
        },
        {
          "output_type": "stream",
          "name": "stderr",
          "text": [
            " 58%|█████▊    | 578/1001 [00:47<00:27, 15.62it/s]"
          ]
        },
        {
          "output_type": "stream",
          "name": "stdout",
          "text": [
            "Epoch: 574 | disc_loss: -0.1306333690881729 | gen_loss: -0.038677144795656204\n",
            "Epoch: 575 | disc_loss: -0.12875081598758698 | gen_loss: -0.07304023951292038\n",
            "Epoch: 576 | disc_loss: 0.33886879682540894 | gen_loss: -0.01657872274518013\n",
            "Epoch: 577 | disc_loss: -0.13200286030769348 | gen_loss: -0.07791563123464584\n"
          ]
        },
        {
          "output_type": "stream",
          "name": "stderr",
          "text": [
            " 58%|█████▊    | 582/1001 [00:47<00:26, 15.58it/s]"
          ]
        },
        {
          "output_type": "stream",
          "name": "stdout",
          "text": [
            "Epoch: 578 | disc_loss: -0.1367233246564865 | gen_loss: -0.08758572489023209\n",
            "Epoch: 579 | disc_loss: -0.11614236980676651 | gen_loss: -0.07269513607025146\n",
            "Epoch: 580 | disc_loss: -0.10730499029159546 | gen_loss: -0.062350813299417496\n",
            "Epoch: 581 | disc_loss: -0.1314965784549713 | gen_loss: -0.070923812687397\n"
          ]
        },
        {
          "output_type": "stream",
          "name": "stderr",
          "text": [
            " 59%|█████▊    | 586/1001 [00:47<00:27, 15.25it/s]"
          ]
        },
        {
          "output_type": "stream",
          "name": "stdout",
          "text": [
            "Epoch: 582 | disc_loss: -0.13400837779045105 | gen_loss: -0.00494933407753706\n",
            "Epoch: 583 | disc_loss: -0.06086384505033493 | gen_loss: -0.03987772390246391\n",
            "Epoch: 584 | disc_loss: -0.1265566349029541 | gen_loss: -0.05504082515835762\n",
            "Epoch: 585 | disc_loss: 0.004166305065155029 | gen_loss: -0.08898090571165085\n"
          ]
        },
        {
          "output_type": "stream",
          "name": "stderr",
          "text": [
            " 59%|█████▉    | 590/1001 [00:47<00:26, 15.40it/s]"
          ]
        },
        {
          "output_type": "stream",
          "name": "stdout",
          "text": [
            "Epoch: 586 | disc_loss: -0.13298317790031433 | gen_loss: -0.07739485055208206\n",
            "Epoch: 587 | disc_loss: -0.05296866595745087 | gen_loss: -0.06895965337753296\n",
            "Epoch: 588 | disc_loss: -0.11821827292442322 | gen_loss: -0.06423110514879227\n",
            "Epoch: 589 | disc_loss: 0.05865494906902313 | gen_loss: -0.21025684475898743\n"
          ]
        },
        {
          "output_type": "stream",
          "name": "stderr",
          "text": [
            " 59%|█████▉    | 594/1001 [00:48<00:26, 15.30it/s]"
          ]
        },
        {
          "output_type": "stream",
          "name": "stdout",
          "text": [
            "Epoch: 590 | disc_loss: -0.08091270923614502 | gen_loss: -0.204645574092865\n",
            "Epoch: 591 | disc_loss: -0.13146916031837463 | gen_loss: -0.16013607382774353\n",
            "Epoch: 592 | disc_loss: -0.11266513168811798 | gen_loss: -0.13838891685009003\n",
            "Epoch: 593 | disc_loss: -0.13027016818523407 | gen_loss: -0.13524553179740906\n"
          ]
        },
        {
          "output_type": "stream",
          "name": "stderr",
          "text": [
            " 60%|█████▉    | 598/1001 [00:48<00:26, 15.32it/s]"
          ]
        },
        {
          "output_type": "stream",
          "name": "stdout",
          "text": [
            "Epoch: 594 | disc_loss: -0.109458327293396 | gen_loss: -0.11663181334733963\n",
            "Epoch: 595 | disc_loss: 0.19741441309452057 | gen_loss: -0.1759881228208542\n",
            "Epoch: 596 | disc_loss: -0.11340942233800888 | gen_loss: -0.06565733253955841\n",
            "Epoch: 597 | disc_loss: -0.08965086936950684 | gen_loss: -0.10698743164539337\n"
          ]
        },
        {
          "output_type": "stream",
          "name": "stderr",
          "text": [
            "\r 60%|█████▉    | 600/1001 [00:48<00:26, 15.05it/s]"
          ]
        },
        {
          "output_type": "stream",
          "name": "stdout",
          "text": [
            "Epoch: 598 | disc_loss: -0.11228180676698685 | gen_loss: -0.12804466485977173\n",
            "Epoch: 599 | disc_loss: -0.1280384361743927 | gen_loss: -0.10431613028049469\n",
            "Epoch: 600 | disc_loss: -0.13764414191246033 | gen_loss: -0.1021406352519989\n"
          ]
        },
        {
          "output_type": "stream",
          "name": "stderr",
          "text": [
            " 60%|██████    | 604/1001 [00:48<00:26, 14.73it/s]"
          ]
        },
        {
          "output_type": "stream",
          "name": "stdout",
          "text": [
            "Epoch: 601 | disc_loss: -0.07828111946582794 | gen_loss: -0.12358459830284119\n",
            "Epoch: 602 | disc_loss: -0.07067608833312988 | gen_loss: -0.14140574634075165\n",
            "Epoch: 603 | disc_loss: -0.10958994179964066 | gen_loss: -0.08426029980182648\n",
            "Epoch: 604 | disc_loss: -0.05501868575811386 | gen_loss: -0.0682605430483818\n"
          ]
        },
        {
          "output_type": "stream",
          "name": "stderr",
          "text": [
            " 61%|██████    | 608/1001 [00:49<00:26, 15.05it/s]"
          ]
        },
        {
          "output_type": "stream",
          "name": "stdout",
          "text": [
            "Epoch: 605 | disc_loss: 0.3049297332763672 | gen_loss: -0.11477974057197571\n",
            "Epoch: 606 | disc_loss: -0.10551056265830994 | gen_loss: -0.06355244666337967\n",
            "Epoch: 607 | disc_loss: 0.06153187155723572 | gen_loss: -0.07642290741205215\n",
            "Epoch: 608 | disc_loss: -0.11964990943670273 | gen_loss: -0.06944959610700607\n"
          ]
        },
        {
          "output_type": "stream",
          "name": "stderr",
          "text": [
            " 61%|██████    | 612/1001 [00:49<00:25, 15.44it/s]"
          ]
        },
        {
          "output_type": "stream",
          "name": "stdout",
          "text": [
            "Epoch: 609 | disc_loss: -0.1305845081806183 | gen_loss: -0.037603408098220825\n",
            "Epoch: 610 | disc_loss: 0.3093266189098358 | gen_loss: -0.04365953058004379\n",
            "Epoch: 611 | disc_loss: -0.13572067022323608 | gen_loss: -0.023397138342261314\n",
            "Epoch: 612 | disc_loss: 0.43662065267562866 | gen_loss: -0.07591676712036133\n"
          ]
        },
        {
          "output_type": "stream",
          "name": "stderr",
          "text": [
            " 62%|██████▏   | 616/1001 [00:49<00:25, 15.37it/s]"
          ]
        },
        {
          "output_type": "stream",
          "name": "stdout",
          "text": [
            "Epoch: 613 | disc_loss: -0.13278675079345703 | gen_loss: -0.07220769673585892\n",
            "Epoch: 614 | disc_loss: -0.11507107317447662 | gen_loss: -0.07251659035682678\n",
            "Epoch: 615 | disc_loss: 0.026958085596561432 | gen_loss: -0.04279375076293945\n",
            "Epoch: 616 | disc_loss: -0.1078503355383873 | gen_loss: -0.08073420822620392\n"
          ]
        },
        {
          "output_type": "stream",
          "name": "stderr",
          "text": [
            " 62%|██████▏   | 620/1001 [00:49<00:24, 15.50it/s]"
          ]
        },
        {
          "output_type": "stream",
          "name": "stdout",
          "text": [
            "Epoch: 617 | disc_loss: -0.13420283794403076 | gen_loss: -0.076582171022892\n",
            "Epoch: 618 | disc_loss: -0.13300871849060059 | gen_loss: -0.05887741222977638\n",
            "Epoch: 619 | disc_loss: -0.12381576001644135 | gen_loss: -0.05939246341586113\n",
            "Epoch: 620 | disc_loss: -0.13903476297855377 | gen_loss: -0.07410646229982376\n"
          ]
        },
        {
          "output_type": "stream",
          "name": "stderr",
          "text": [
            " 62%|██████▏   | 624/1001 [00:50<00:24, 15.50it/s]"
          ]
        },
        {
          "output_type": "stream",
          "name": "stdout",
          "text": [
            "Epoch: 621 | disc_loss: 0.04521434009075165 | gen_loss: -0.014605318196117878\n",
            "Epoch: 622 | disc_loss: -0.13421040773391724 | gen_loss: -0.08425958454608917\n",
            "Epoch: 623 | disc_loss: -0.13161280751228333 | gen_loss: -0.09091001749038696\n"
          ]
        },
        {
          "output_type": "stream",
          "name": "stderr",
          "text": [
            " 63%|██████▎   | 628/1001 [00:50<00:24, 15.38it/s]"
          ]
        },
        {
          "output_type": "stream",
          "name": "stdout",
          "text": [
            "Epoch: 624 | disc_loss: 0.5491420030593872 | gen_loss: -0.1250464767217636\n",
            "Epoch: 625 | disc_loss: -0.13031934201717377 | gen_loss: -0.053818076848983765\n",
            "Epoch: 626 | disc_loss: -0.10595043003559113 | gen_loss: -0.06596431881189346\n",
            "Epoch: 627 | disc_loss: -0.12366069108247757 | gen_loss: -0.0693352147936821\n"
          ]
        },
        {
          "output_type": "stream",
          "name": "stderr",
          "text": [
            " 63%|██████▎   | 632/1001 [00:50<00:24, 15.27it/s]"
          ]
        },
        {
          "output_type": "stream",
          "name": "stdout",
          "text": [
            "Epoch: 628 | disc_loss: -0.12846063077449799 | gen_loss: -0.08326570689678192\n",
            "Epoch: 629 | disc_loss: -0.13960963487625122 | gen_loss: -0.0991392433643341\n",
            "Epoch: 630 | disc_loss: -0.12754128873348236 | gen_loss: -0.10305442661046982\n",
            "Epoch: 631 | disc_loss: -0.1391429305076599 | gen_loss: -0.09344562888145447\n"
          ]
        },
        {
          "output_type": "stream",
          "name": "stderr",
          "text": [
            " 64%|██████▎   | 636/1001 [00:50<00:24, 15.19it/s]"
          ]
        },
        {
          "output_type": "stream",
          "name": "stdout",
          "text": [
            "Epoch: 632 | disc_loss: -0.13879075646400452 | gen_loss: -0.10330215096473694\n",
            "Epoch: 633 | disc_loss: -0.1222928911447525 | gen_loss: -0.09884802997112274\n",
            "Epoch: 634 | disc_loss: 0.6119747757911682 | gen_loss: -0.08632231503725052\n",
            "Epoch: 635 | disc_loss: -0.1305883228778839 | gen_loss: -0.0845419242978096\n"
          ]
        },
        {
          "output_type": "stream",
          "name": "stderr",
          "text": [
            " 64%|██████▍   | 640/1001 [00:51<00:23, 15.43it/s]"
          ]
        },
        {
          "output_type": "stream",
          "name": "stdout",
          "text": [
            "Epoch: 636 | disc_loss: -0.11095742881298065 | gen_loss: -0.08812181651592255\n",
            "Epoch: 637 | disc_loss: -0.14331093430519104 | gen_loss: -0.09264806658029556\n",
            "Epoch: 638 | disc_loss: -0.14351937174797058 | gen_loss: -0.09314300864934921\n",
            "Epoch: 639 | disc_loss: 0.5380566120147705 | gen_loss: -0.09791907668113708\n"
          ]
        },
        {
          "output_type": "stream",
          "name": "stderr",
          "text": [
            " 64%|██████▍   | 644/1001 [00:51<00:23, 15.32it/s]"
          ]
        },
        {
          "output_type": "stream",
          "name": "stdout",
          "text": [
            "Epoch: 640 | disc_loss: -0.1421758532524109 | gen_loss: -0.054510150104761124\n",
            "Epoch: 641 | disc_loss: -0.07844270765781403 | gen_loss: -0.07668519765138626\n",
            "Epoch: 642 | disc_loss: 1.8290019035339355 | gen_loss: -0.11711111664772034\n",
            "Epoch: 643 | disc_loss: -0.13252705335617065 | gen_loss: -0.050923485308885574\n"
          ]
        },
        {
          "output_type": "stream",
          "name": "stderr",
          "text": [
            " 65%|██████▍   | 648/1001 [00:51<00:23, 15.19it/s]"
          ]
        },
        {
          "output_type": "stream",
          "name": "stdout",
          "text": [
            "Epoch: 644 | disc_loss: -0.0530308336019516 | gen_loss: -0.063764788210392\n",
            "Epoch: 645 | disc_loss: -0.13899333775043488 | gen_loss: -0.07800129801034927\n",
            "Epoch: 646 | disc_loss: 1.0088568925857544 | gen_loss: -0.06909848004579544\n",
            "Epoch: 647 | disc_loss: -0.13432903587818146 | gen_loss: -0.07948878407478333\n"
          ]
        },
        {
          "output_type": "stream",
          "name": "stderr",
          "text": [
            " 65%|██████▌   | 652/1001 [00:51<00:23, 14.95it/s]"
          ]
        },
        {
          "output_type": "stream",
          "name": "stdout",
          "text": [
            "Epoch: 648 | disc_loss: -0.1346512734889984 | gen_loss: -0.07156958431005478\n",
            "Epoch: 649 | disc_loss: -0.13438375294208527 | gen_loss: -0.07811997085809708\n",
            "Epoch: 650 | disc_loss: -0.06713306903839111 | gen_loss: -0.08766607195138931\n",
            "Epoch: 651 | disc_loss: -0.09206484258174896 | gen_loss: -0.07938788831233978\n"
          ]
        },
        {
          "output_type": "stream",
          "name": "stderr",
          "text": [
            " 66%|██████▌   | 656/1001 [00:52<00:23, 14.93it/s]"
          ]
        },
        {
          "output_type": "stream",
          "name": "stdout",
          "text": [
            "Epoch: 652 | disc_loss: -0.13065335154533386 | gen_loss: -0.08965707570314407\n",
            "Epoch: 653 | disc_loss: -0.1387500762939453 | gen_loss: -0.08967246115207672\n",
            "Epoch: 654 | disc_loss: -0.10253895074129105 | gen_loss: -0.10682942718267441\n",
            "Epoch: 655 | disc_loss: -0.14250719547271729 | gen_loss: -0.08280245959758759\n"
          ]
        },
        {
          "output_type": "stream",
          "name": "stderr",
          "text": [
            " 66%|██████▌   | 660/1001 [00:52<00:22, 15.03it/s]"
          ]
        },
        {
          "output_type": "stream",
          "name": "stdout",
          "text": [
            "Epoch: 656 | disc_loss: 0.47009119391441345 | gen_loss: -0.05878809466958046\n",
            "Epoch: 657 | disc_loss: -0.11293461173772812 | gen_loss: -0.09097751975059509\n",
            "Epoch: 658 | disc_loss: -0.13442999124526978 | gen_loss: -0.1022709310054779\n",
            "Epoch: 659 | disc_loss: 0.18702176213264465 | gen_loss: -0.0696733221411705\n"
          ]
        },
        {
          "output_type": "stream",
          "name": "stderr",
          "text": [
            " 66%|██████▋   | 664/1001 [00:52<00:22, 14.87it/s]"
          ]
        },
        {
          "output_type": "stream",
          "name": "stdout",
          "text": [
            "Epoch: 660 | disc_loss: -0.14559981226921082 | gen_loss: -0.08157702535390854\n",
            "Epoch: 661 | disc_loss: -0.14651235938072205 | gen_loss: -0.0833749994635582\n",
            "Epoch: 662 | disc_loss: -0.10904498398303986 | gen_loss: -0.10501356422901154\n",
            "Epoch: 663 | disc_loss: -0.14262749254703522 | gen_loss: -0.0954771488904953\n"
          ]
        },
        {
          "output_type": "stream",
          "name": "stderr",
          "text": [
            " 67%|██████▋   | 668/1001 [00:52<00:21, 15.18it/s]"
          ]
        },
        {
          "output_type": "stream",
          "name": "stdout",
          "text": [
            "Epoch: 664 | disc_loss: -0.13688436150550842 | gen_loss: -0.10366310924291611\n",
            "Epoch: 665 | disc_loss: -0.13995970785617828 | gen_loss: -0.10234406590461731\n",
            "Epoch: 666 | disc_loss: -0.12306730449199677 | gen_loss: -0.06294824182987213\n",
            "Epoch: 667 | disc_loss: -0.13737434148788452 | gen_loss: -0.04703538492321968\n"
          ]
        },
        {
          "output_type": "stream",
          "name": "stderr",
          "text": [
            " 67%|██████▋   | 672/1001 [00:53<00:21, 15.19it/s]"
          ]
        },
        {
          "output_type": "stream",
          "name": "stdout",
          "text": [
            "Epoch: 668 | disc_loss: 0.09701072424650192 | gen_loss: -0.08983799815177917\n",
            "Epoch: 669 | disc_loss: 0.11827871203422546 | gen_loss: -0.10387597978115082\n",
            "Epoch: 670 | disc_loss: -0.13138020038604736 | gen_loss: -0.10913807153701782\n",
            "Epoch: 671 | disc_loss: -0.08758947998285294 | gen_loss: -0.11196769028902054\n"
          ]
        },
        {
          "output_type": "stream",
          "name": "stderr",
          "text": [
            " 68%|██████▊   | 676/1001 [00:53<00:21, 15.15it/s]"
          ]
        },
        {
          "output_type": "stream",
          "name": "stdout",
          "text": [
            "Epoch: 672 | disc_loss: -0.13309171795845032 | gen_loss: -0.09701019525527954\n",
            "Epoch: 673 | disc_loss: 0.17144127190113068 | gen_loss: 0.026615098118782043\n",
            "Epoch: 674 | disc_loss: -0.12843288481235504 | gen_loss: -0.11189018934965134\n",
            "Epoch: 675 | disc_loss: -0.012840881943702698 | gen_loss: -0.0992196649312973\n"
          ]
        },
        {
          "output_type": "stream",
          "name": "stderr",
          "text": [
            " 68%|██████▊   | 680/1001 [00:53<00:21, 15.28it/s]"
          ]
        },
        {
          "output_type": "stream",
          "name": "stdout",
          "text": [
            "Epoch: 676 | disc_loss: -0.14632847905158997 | gen_loss: -0.10797977447509766\n",
            "Epoch: 677 | disc_loss: -0.1429010033607483 | gen_loss: -0.11659087985754013\n",
            "Epoch: 678 | disc_loss: -0.12863358855247498 | gen_loss: -0.11559076607227325\n",
            "Epoch: 679 | disc_loss: 0.19157308340072632 | gen_loss: -0.07717137038707733\n"
          ]
        },
        {
          "output_type": "stream",
          "name": "stderr",
          "text": [
            " 68%|██████▊   | 684/1001 [00:54<00:20, 15.38it/s]"
          ]
        },
        {
          "output_type": "stream",
          "name": "stdout",
          "text": [
            "Epoch: 680 | disc_loss: -0.1439620703458786 | gen_loss: -0.11466250568628311\n",
            "Epoch: 681 | disc_loss: -0.14156340062618256 | gen_loss: -0.10494990646839142\n",
            "Epoch: 682 | disc_loss: 0.40881913900375366 | gen_loss: -0.11972229182720184\n",
            "Epoch: 683 | disc_loss: -0.07169639319181442 | gen_loss: -0.12128255516290665\n"
          ]
        },
        {
          "output_type": "stream",
          "name": "stderr",
          "text": [
            " 69%|██████▊   | 688/1001 [00:54<00:20, 15.54it/s]"
          ]
        },
        {
          "output_type": "stream",
          "name": "stdout",
          "text": [
            "Epoch: 684 | disc_loss: -0.14362832903862 | gen_loss: -0.14815247058868408\n",
            "Epoch: 685 | disc_loss: -0.13697542250156403 | gen_loss: -0.08172903209924698\n",
            "Epoch: 686 | disc_loss: -0.14916475117206573 | gen_loss: -0.08303764462471008\n",
            "Epoch: 687 | disc_loss: -0.12517878413200378 | gen_loss: -0.10767390578985214\n"
          ]
        },
        {
          "output_type": "stream",
          "name": "stderr",
          "text": [
            " 69%|██████▉   | 692/1001 [00:54<00:20, 15.40it/s]"
          ]
        },
        {
          "output_type": "stream",
          "name": "stdout",
          "text": [
            "Epoch: 688 | disc_loss: -0.14144162833690643 | gen_loss: -0.09506368637084961\n",
            "Epoch: 689 | disc_loss: 0.16458925604820251 | gen_loss: -0.12381681799888611\n",
            "Epoch: 690 | disc_loss: -0.14220301806926727 | gen_loss: -0.08783789724111557\n",
            "Epoch: 691 | disc_loss: -0.12210848927497864 | gen_loss: -0.09609231352806091\n"
          ]
        },
        {
          "output_type": "stream",
          "name": "stderr",
          "text": [
            " 70%|██████▉   | 696/1001 [00:54<00:19, 15.59it/s]"
          ]
        },
        {
          "output_type": "stream",
          "name": "stdout",
          "text": [
            "Epoch: 692 | disc_loss: -0.145521342754364 | gen_loss: -0.10662980377674103\n",
            "Epoch: 693 | disc_loss: 0.5414532423019409 | gen_loss: -0.15491874516010284\n",
            "Epoch: 694 | disc_loss: -0.13994309306144714 | gen_loss: -0.14275917410850525\n",
            "Epoch: 695 | disc_loss: -0.13751302659511566 | gen_loss: -0.13388989865779877\n"
          ]
        },
        {
          "output_type": "stream",
          "name": "stderr",
          "text": [
            " 70%|██████▉   | 700/1001 [00:55<00:19, 15.40it/s]"
          ]
        },
        {
          "output_type": "stream",
          "name": "stdout",
          "text": [
            "Epoch: 696 | disc_loss: -0.09523448348045349 | gen_loss: -0.11323163658380508\n",
            "Epoch: 697 | disc_loss: -0.128743976354599 | gen_loss: -0.16959457099437714\n",
            "Epoch: 698 | disc_loss: -0.11487321555614471 | gen_loss: -0.13908734917640686\n",
            "Epoch: 699 | disc_loss: 0.10260458290576935 | gen_loss: -0.13533495366573334\n"
          ]
        },
        {
          "output_type": "stream",
          "name": "stderr",
          "text": [
            " 70%|███████   | 704/1001 [00:55<00:19, 15.48it/s]"
          ]
        },
        {
          "output_type": "stream",
          "name": "stdout",
          "text": [
            "Epoch: 700 | disc_loss: -0.1382180005311966 | gen_loss: -0.12521597743034363\n",
            "Epoch: 701 | disc_loss: -0.14431491494178772 | gen_loss: -0.08651726692914963\n",
            "Epoch: 702 | disc_loss: -0.0824505165219307 | gen_loss: -0.09381625801324844\n",
            "Epoch: 703 | disc_loss: -0.13945552706718445 | gen_loss: -0.14503178000450134\n"
          ]
        },
        {
          "output_type": "stream",
          "name": "stderr",
          "text": [
            " 71%|███████   | 708/1001 [00:55<00:19, 15.06it/s]"
          ]
        },
        {
          "output_type": "stream",
          "name": "stdout",
          "text": [
            "Epoch: 704 | disc_loss: -0.1429259479045868 | gen_loss: -0.14139771461486816\n",
            "Epoch: 705 | disc_loss: 0.256300151348114 | gen_loss: -0.07385096698999405\n",
            "Epoch: 706 | disc_loss: -0.14202752709388733 | gen_loss: -0.04750432074069977\n",
            "Epoch: 707 | disc_loss: -0.14465846121311188 | gen_loss: -0.07657930254936218\n"
          ]
        },
        {
          "output_type": "stream",
          "name": "stderr",
          "text": [
            " 71%|███████   | 712/1001 [00:55<00:18, 15.29it/s]"
          ]
        },
        {
          "output_type": "stream",
          "name": "stdout",
          "text": [
            "Epoch: 708 | disc_loss: -0.1455434113740921 | gen_loss: -0.11209108680486679\n",
            "Epoch: 709 | disc_loss: -0.14003805816173553 | gen_loss: -0.14544358849525452\n",
            "Epoch: 710 | disc_loss: -0.12381074577569962 | gen_loss: -0.15183621644973755\n",
            "Epoch: 711 | disc_loss: -0.123039610683918 | gen_loss: -0.11199647188186646\n"
          ]
        },
        {
          "output_type": "stream",
          "name": "stderr",
          "text": [
            " 72%|███████▏  | 716/1001 [00:56<00:18, 15.05it/s]"
          ]
        },
        {
          "output_type": "stream",
          "name": "stdout",
          "text": [
            "Epoch: 712 | disc_loss: 0.28233662247657776 | gen_loss: -0.054323092103004456\n",
            "Epoch: 713 | disc_loss: -0.13858990371227264 | gen_loss: -0.09681656956672668\n",
            "Epoch: 714 | disc_loss: -0.036652080714702606 | gen_loss: -0.0969466045498848\n",
            "Epoch: 715 | disc_loss: -0.09799879789352417 | gen_loss: -0.08703906089067459\n"
          ]
        },
        {
          "output_type": "stream",
          "name": "stderr",
          "text": [
            " 72%|███████▏  | 720/1001 [00:56<00:18, 15.28it/s]"
          ]
        },
        {
          "output_type": "stream",
          "name": "stdout",
          "text": [
            "Epoch: 716 | disc_loss: -0.06952369213104248 | gen_loss: 0.01612241566181183\n",
            "Epoch: 717 | disc_loss: -0.12337301671504974 | gen_loss: -0.07595709711313248\n",
            "Epoch: 718 | disc_loss: -0.14013133943080902 | gen_loss: -0.09900643676519394\n",
            "Epoch: 719 | disc_loss: -0.14542721211910248 | gen_loss: -0.10474603623151779\n"
          ]
        },
        {
          "output_type": "stream",
          "name": "stderr",
          "text": [
            "\r 72%|███████▏  | 722/1001 [00:56<00:19, 14.38it/s]"
          ]
        },
        {
          "output_type": "stream",
          "name": "stdout",
          "text": [
            "Epoch: 720 | disc_loss: -0.11953629553318024 | gen_loss: -0.09888768196105957\n",
            "Epoch: 721 | disc_loss: -0.14037807285785675 | gen_loss: -0.10359235107898712\n",
            "Epoch: 722 | disc_loss: -0.13247936964035034 | gen_loss: -0.10356951504945755\n"
          ]
        },
        {
          "output_type": "stream",
          "name": "stderr",
          "text": [
            " 73%|███████▎  | 726/1001 [00:56<00:18, 14.77it/s]"
          ]
        },
        {
          "output_type": "stream",
          "name": "stdout",
          "text": [
            "Epoch: 723 | disc_loss: -0.07012508064508438 | gen_loss: -0.032021816819906235\n",
            "Epoch: 724 | disc_loss: -0.1204427108168602 | gen_loss: -0.07556759566068649\n",
            "Epoch: 725 | disc_loss: -0.052004069089889526 | gen_loss: -0.06555560231208801\n",
            "Epoch: 726 | disc_loss: -0.14398027956485748 | gen_loss: -0.0957544595003128\n"
          ]
        },
        {
          "output_type": "stream",
          "name": "stderr",
          "text": [
            " 73%|███████▎  | 730/1001 [00:57<00:18, 14.97it/s]"
          ]
        },
        {
          "output_type": "stream",
          "name": "stdout",
          "text": [
            "Epoch: 727 | disc_loss: -0.13353419303894043 | gen_loss: -0.12287814915180206\n",
            "Epoch: 728 | disc_loss: -0.10431775450706482 | gen_loss: -0.13067713379859924\n",
            "Epoch: 729 | disc_loss: -0.14404037594795227 | gen_loss: -0.10525001585483551\n",
            "Epoch: 730 | disc_loss: -0.14941224455833435 | gen_loss: -0.09950773417949677\n"
          ]
        },
        {
          "output_type": "stream",
          "name": "stderr",
          "text": [
            " 73%|███████▎  | 734/1001 [00:57<00:17, 15.06it/s]"
          ]
        },
        {
          "output_type": "stream",
          "name": "stdout",
          "text": [
            "Epoch: 731 | disc_loss: -0.07466823607683182 | gen_loss: -0.21830572187900543\n",
            "Epoch: 732 | disc_loss: -0.059666067361831665 | gen_loss: -0.2083817422389984\n",
            "Epoch: 733 | disc_loss: 2.344088077545166 | gen_loss: -0.14346513152122498\n"
          ]
        },
        {
          "output_type": "stream",
          "name": "stderr",
          "text": [
            " 74%|███████▎  | 738/1001 [00:57<00:17, 14.81it/s]"
          ]
        },
        {
          "output_type": "stream",
          "name": "stdout",
          "text": [
            "Epoch: 734 | disc_loss: -0.0913376659154892 | gen_loss: -0.13508272171020508\n",
            "Epoch: 735 | disc_loss: -0.1257900893688202 | gen_loss: -0.1354004442691803\n",
            "Epoch: 736 | disc_loss: -0.1439661979675293 | gen_loss: -0.1276993304491043\n",
            "Epoch: 737 | disc_loss: 0.5114637613296509 | gen_loss: -0.1454055905342102\n"
          ]
        },
        {
          "output_type": "stream",
          "name": "stderr",
          "text": [
            " 74%|███████▍  | 742/1001 [00:57<00:17, 15.15it/s]"
          ]
        },
        {
          "output_type": "stream",
          "name": "stdout",
          "text": [
            "Epoch: 738 | disc_loss: 0.0889424979686737 | gen_loss: -0.04002935811877251\n",
            "Epoch: 739 | disc_loss: -0.08620493113994598 | gen_loss: -0.02671595849096775\n",
            "Epoch: 740 | disc_loss: -0.13774707913398743 | gen_loss: -0.009609160013496876\n",
            "Epoch: 741 | disc_loss: -0.12073859572410583 | gen_loss: -0.06390802562236786\n"
          ]
        },
        {
          "output_type": "stream",
          "name": "stderr",
          "text": [
            " 75%|███████▍  | 746/1001 [00:58<00:16, 15.13it/s]"
          ]
        },
        {
          "output_type": "stream",
          "name": "stdout",
          "text": [
            "Epoch: 742 | disc_loss: -0.1296485811471939 | gen_loss: -0.1091117411851883\n",
            "Epoch: 743 | disc_loss: -0.14522762596607208 | gen_loss: -0.0652828961610794\n",
            "Epoch: 744 | disc_loss: -0.11009502410888672 | gen_loss: -0.07317167520523071\n",
            "Epoch: 745 | disc_loss: -0.1393236219882965 | gen_loss: -0.048068732023239136\n"
          ]
        },
        {
          "output_type": "stream",
          "name": "stderr",
          "text": [
            " 75%|███████▍  | 750/1001 [00:58<00:16, 15.18it/s]"
          ]
        },
        {
          "output_type": "stream",
          "name": "stdout",
          "text": [
            "Epoch: 746 | disc_loss: -0.1444200724363327 | gen_loss: -0.04306289553642273\n",
            "Epoch: 747 | disc_loss: 0.2946541905403137 | gen_loss: -0.07798686623573303\n",
            "Epoch: 748 | disc_loss: -0.13502256572246552 | gen_loss: -0.04550641030073166\n",
            "Epoch: 749 | disc_loss: 0.030386239290237427 | gen_loss: -0.06627563387155533\n"
          ]
        },
        {
          "output_type": "stream",
          "name": "stderr",
          "text": [
            " 75%|███████▌  | 754/1001 [00:58<00:16, 14.98it/s]"
          ]
        },
        {
          "output_type": "stream",
          "name": "stdout",
          "text": [
            "Epoch: 750 | disc_loss: -0.13975736498832703 | gen_loss: -0.10532357543706894\n",
            "Epoch: 751 | disc_loss: -0.13759788870811462 | gen_loss: -0.10540669411420822\n",
            "Epoch: 752 | disc_loss: -0.1432105302810669 | gen_loss: -0.11234654486179352\n",
            "Epoch: 753 | disc_loss: -0.13660429418087006 | gen_loss: -0.11629047989845276\n"
          ]
        },
        {
          "output_type": "stream",
          "name": "stderr",
          "text": [
            " 76%|███████▌  | 758/1001 [00:58<00:16, 15.11it/s]"
          ]
        },
        {
          "output_type": "stream",
          "name": "stdout",
          "text": [
            "Epoch: 754 | disc_loss: -0.12921418249607086 | gen_loss: -0.07183094322681427\n",
            "Epoch: 755 | disc_loss: -0.035930439829826355 | gen_loss: -0.030896160751581192\n",
            "Epoch: 756 | disc_loss: -0.12558846175670624 | gen_loss: -0.13377487659454346\n",
            "Epoch: 757 | disc_loss: 0.15896113216876984 | gen_loss: -0.231724813580513\n"
          ]
        },
        {
          "output_type": "stream",
          "name": "stderr",
          "text": [
            "\r 76%|███████▌  | 760/1001 [00:59<00:15, 15.09it/s]"
          ]
        },
        {
          "output_type": "stream",
          "name": "stdout",
          "text": [
            "Epoch: 758 | disc_loss: -0.14561687409877777 | gen_loss: -0.1086919754743576\n",
            "Epoch: 759 | disc_loss: -0.14230048656463623 | gen_loss: -0.1023520827293396\n",
            "Epoch: 760 | disc_loss: -0.1381361037492752 | gen_loss: -0.10331296175718307\n"
          ]
        },
        {
          "output_type": "stream",
          "name": "stderr",
          "text": [
            " 76%|███████▋  | 764/1001 [00:59<00:15, 15.00it/s]"
          ]
        },
        {
          "output_type": "stream",
          "name": "stdout",
          "text": [
            "Epoch: 761 | disc_loss: -0.14029397070407867 | gen_loss: -0.10807087272405624\n",
            "Epoch: 762 | disc_loss: -0.1238551139831543 | gen_loss: -0.09288007020950317\n",
            "Epoch: 763 | disc_loss: -0.1315510869026184 | gen_loss: -0.10086122155189514\n",
            "Epoch: 764 | disc_loss: -0.09922508150339127 | gen_loss: -0.11824305355548859\n"
          ]
        },
        {
          "output_type": "stream",
          "name": "stderr",
          "text": [
            " 77%|███████▋  | 768/1001 [00:59<00:15, 15.11it/s]"
          ]
        },
        {
          "output_type": "stream",
          "name": "stdout",
          "text": [
            "Epoch: 765 | disc_loss: -0.13883961737155914 | gen_loss: -0.10618127882480621\n",
            "Epoch: 766 | disc_loss: -0.14966589212417603 | gen_loss: -0.10765314102172852\n",
            "Epoch: 767 | disc_loss: -0.14778220653533936 | gen_loss: -0.09757889807224274\n"
          ]
        },
        {
          "output_type": "stream",
          "name": "stderr",
          "text": [
            " 77%|███████▋  | 772/1001 [00:59<00:15, 14.70it/s]"
          ]
        },
        {
          "output_type": "stream",
          "name": "stdout",
          "text": [
            "Epoch: 768 | disc_loss: -0.08165155351161957 | gen_loss: -0.09152309596538544\n",
            "Epoch: 769 | disc_loss: -0.1134428083896637 | gen_loss: -0.15234069526195526\n",
            "Epoch: 770 | disc_loss: 0.08855307102203369 | gen_loss: -0.17678886651992798\n",
            "Epoch: 771 | disc_loss: -0.14592806994915009 | gen_loss: -0.13910558819770813\n"
          ]
        },
        {
          "output_type": "stream",
          "name": "stderr",
          "text": [
            " 78%|███████▊  | 776/1001 [01:00<00:15, 14.75it/s]"
          ]
        },
        {
          "output_type": "stream",
          "name": "stdout",
          "text": [
            "Epoch: 772 | disc_loss: -0.15268932282924652 | gen_loss: -0.12107684463262558\n",
            "Epoch: 773 | disc_loss: -0.1439826339483261 | gen_loss: -0.07916653156280518\n",
            "Epoch: 774 | disc_loss: -0.13794419169425964 | gen_loss: -0.11048145592212677\n",
            "Epoch: 775 | disc_loss: 0.011758700013160706 | gen_loss: -0.09277215600013733\n"
          ]
        },
        {
          "output_type": "stream",
          "name": "stderr",
          "text": [
            " 78%|███████▊  | 780/1001 [01:00<00:14, 14.89it/s]"
          ]
        },
        {
          "output_type": "stream",
          "name": "stdout",
          "text": [
            "Epoch: 776 | disc_loss: -0.13827836513519287 | gen_loss: -0.19354037940502167\n",
            "Epoch: 777 | disc_loss: -0.14559520781040192 | gen_loss: -0.17119044065475464\n",
            "Epoch: 778 | disc_loss: -0.028503194451332092 | gen_loss: -0.13629883527755737\n",
            "Epoch: 779 | disc_loss: -0.14865095913410187 | gen_loss: -0.10703510046005249\n"
          ]
        },
        {
          "output_type": "stream",
          "name": "stderr",
          "text": [
            " 78%|███████▊  | 784/1001 [01:00<00:14, 14.89it/s]"
          ]
        },
        {
          "output_type": "stream",
          "name": "stdout",
          "text": [
            "Epoch: 780 | disc_loss: -0.13419455289840698 | gen_loss: -0.11699188500642776\n",
            "Epoch: 781 | disc_loss: -0.12865939736366272 | gen_loss: -0.11299595981836319\n",
            "Epoch: 782 | disc_loss: -0.08470380306243896 | gen_loss: -0.12633076310157776\n",
            "Epoch: 783 | disc_loss: -0.13761159777641296 | gen_loss: -0.08260390907526016\n"
          ]
        },
        {
          "output_type": "stream",
          "name": "stderr",
          "text": [
            " 79%|███████▊  | 788/1001 [01:00<00:14, 14.97it/s]"
          ]
        },
        {
          "output_type": "stream",
          "name": "stdout",
          "text": [
            "Epoch: 784 | disc_loss: -0.12995833158493042 | gen_loss: -0.08263475447893143\n",
            "Epoch: 785 | disc_loss: -0.03270784020423889 | gen_loss: -0.13384275138378143\n",
            "Epoch: 786 | disc_loss: -0.1377192735671997 | gen_loss: -0.09607041627168655\n",
            "Epoch: 787 | disc_loss: -0.1396179050207138 | gen_loss: -0.12286752462387085\n"
          ]
        },
        {
          "output_type": "stream",
          "name": "stderr",
          "text": [
            " 79%|███████▉  | 792/1001 [01:01<00:13, 15.08it/s]"
          ]
        },
        {
          "output_type": "stream",
          "name": "stdout",
          "text": [
            "Epoch: 788 | disc_loss: -0.14185044169425964 | gen_loss: -0.13267992436885834\n",
            "Epoch: 789 | disc_loss: -0.1513155698776245 | gen_loss: -0.10623082518577576\n",
            "Epoch: 790 | disc_loss: -0.08379290997982025 | gen_loss: -0.08103068172931671\n",
            "Epoch: 791 | disc_loss: -0.14483851194381714 | gen_loss: -0.06617101281881332\n"
          ]
        },
        {
          "output_type": "stream",
          "name": "stderr",
          "text": [
            " 80%|███████▉  | 796/1001 [01:01<00:13, 15.27it/s]"
          ]
        },
        {
          "output_type": "stream",
          "name": "stdout",
          "text": [
            "Epoch: 792 | disc_loss: -0.1446944624185562 | gen_loss: -0.08972357958555222\n",
            "Epoch: 793 | disc_loss: -0.10799103230237961 | gen_loss: -0.09957176446914673\n",
            "Epoch: 794 | disc_loss: 0.33761316537857056 | gen_loss: -0.09842879325151443\n",
            "Epoch: 795 | disc_loss: -0.14225202798843384 | gen_loss: -0.08139272034168243\n"
          ]
        },
        {
          "output_type": "stream",
          "name": "stderr",
          "text": [
            " 80%|███████▉  | 800/1001 [01:01<00:13, 15.07it/s]"
          ]
        },
        {
          "output_type": "stream",
          "name": "stdout",
          "text": [
            "Epoch: 796 | disc_loss: -0.09391527622938156 | gen_loss: -0.08151435106992722\n",
            "Epoch: 797 | disc_loss: -0.1424487829208374 | gen_loss: -0.11773401498794556\n",
            "Epoch: 798 | disc_loss: -0.06971792131662369 | gen_loss: -0.11118843406438828\n",
            "Epoch: 799 | disc_loss: -0.1330098807811737 | gen_loss: -0.09242334216833115\n"
          ]
        },
        {
          "output_type": "stream",
          "name": "stderr",
          "text": [
            " 80%|████████  | 804/1001 [01:01<00:12, 15.18it/s]"
          ]
        },
        {
          "output_type": "stream",
          "name": "stdout",
          "text": [
            "Epoch: 800 | disc_loss: -0.14992523193359375 | gen_loss: -0.12282092869281769\n",
            "Epoch: 801 | disc_loss: -0.15257889032363892 | gen_loss: -0.15157698094844818\n",
            "Epoch: 802 | disc_loss: -0.14374227821826935 | gen_loss: -0.13820800185203552\n",
            "Epoch: 803 | disc_loss: -0.14620192348957062 | gen_loss: -0.11226516962051392\n"
          ]
        },
        {
          "output_type": "stream",
          "name": "stderr",
          "text": [
            " 81%|████████  | 808/1001 [01:02<00:12, 15.00it/s]"
          ]
        },
        {
          "output_type": "stream",
          "name": "stdout",
          "text": [
            "Epoch: 804 | disc_loss: -0.05300804227590561 | gen_loss: -0.12314976751804352\n",
            "Epoch: 805 | disc_loss: -0.15176431834697723 | gen_loss: -0.1148746982216835\n",
            "Epoch: 806 | disc_loss: -0.13148896396160126 | gen_loss: -0.12127283960580826\n",
            "Epoch: 807 | disc_loss: -0.15161322057247162 | gen_loss: -0.12074706703424454\n"
          ]
        },
        {
          "output_type": "stream",
          "name": "stderr",
          "text": [
            " 81%|████████  | 812/1001 [01:02<00:12, 15.01it/s]"
          ]
        },
        {
          "output_type": "stream",
          "name": "stdout",
          "text": [
            "Epoch: 808 | disc_loss: -0.13956068456172943 | gen_loss: -0.08334460109472275\n",
            "Epoch: 809 | disc_loss: -0.14667585492134094 | gen_loss: -0.10214612632989883\n",
            "Epoch: 810 | disc_loss: -0.1487763226032257 | gen_loss: -0.0847933366894722\n",
            "Epoch: 811 | disc_loss: -0.13977386057376862 | gen_loss: -0.09647779166698456\n"
          ]
        },
        {
          "output_type": "stream",
          "name": "stderr",
          "text": [
            " 82%|████████▏ | 816/1001 [01:02<00:12, 14.99it/s]"
          ]
        },
        {
          "output_type": "stream",
          "name": "stdout",
          "text": [
            "Epoch: 812 | disc_loss: -0.14006443321704865 | gen_loss: -0.10983287543058395\n",
            "Epoch: 813 | disc_loss: -0.1540062427520752 | gen_loss: -0.10309157520532608\n",
            "Epoch: 814 | disc_loss: -0.14509087800979614 | gen_loss: -0.10385708510875702\n",
            "Epoch: 815 | disc_loss: -0.13618433475494385 | gen_loss: -0.08930809795856476\n"
          ]
        },
        {
          "output_type": "stream",
          "name": "stderr",
          "text": [
            " 82%|████████▏ | 820/1001 [01:03<00:12, 15.07it/s]"
          ]
        },
        {
          "output_type": "stream",
          "name": "stdout",
          "text": [
            "Epoch: 816 | disc_loss: -0.1417645514011383 | gen_loss: -0.06003958359360695\n",
            "Epoch: 817 | disc_loss: -0.15394443273544312 | gen_loss: -0.07769830524921417\n",
            "Epoch: 818 | disc_loss: 0.4135121703147888 | gen_loss: -0.035912152379751205\n",
            "Epoch: 819 | disc_loss: -0.1425488442182541 | gen_loss: -0.06257638335227966\n"
          ]
        },
        {
          "output_type": "stream",
          "name": "stderr",
          "text": [
            " 82%|████████▏ | 824/1001 [01:03<00:11, 15.18it/s]"
          ]
        },
        {
          "output_type": "stream",
          "name": "stdout",
          "text": [
            "Epoch: 820 | disc_loss: -0.14130337536334991 | gen_loss: -0.06812840700149536\n",
            "Epoch: 821 | disc_loss: 0.1436392068862915 | gen_loss: -0.10750238597393036\n",
            "Epoch: 822 | disc_loss: -0.06998302042484283 | gen_loss: -0.09079214930534363\n",
            "Epoch: 823 | disc_loss: 2.1786751747131348 | gen_loss: -0.06604446470737457\n"
          ]
        },
        {
          "output_type": "stream",
          "name": "stderr",
          "text": [
            " 83%|████████▎ | 828/1001 [01:03<00:11, 15.26it/s]"
          ]
        },
        {
          "output_type": "stream",
          "name": "stdout",
          "text": [
            "Epoch: 824 | disc_loss: -0.12512433528900146 | gen_loss: -0.12463749945163727\n",
            "Epoch: 825 | disc_loss: -0.14696592092514038 | gen_loss: -0.11988608539104462\n",
            "Epoch: 826 | disc_loss: -0.10671310126781464 | gen_loss: -0.07614776492118835\n",
            "Epoch: 827 | disc_loss: -0.13773778080940247 | gen_loss: -0.09107545763254166\n"
          ]
        },
        {
          "output_type": "stream",
          "name": "stderr",
          "text": [
            " 83%|████████▎ | 832/1001 [01:03<00:11, 15.17it/s]"
          ]
        },
        {
          "output_type": "stream",
          "name": "stdout",
          "text": [
            "Epoch: 828 | disc_loss: -0.14877547323703766 | gen_loss: -0.07372935116291046\n",
            "Epoch: 829 | disc_loss: -0.13520583510398865 | gen_loss: -0.08858061581850052\n",
            "Epoch: 830 | disc_loss: -0.062404148280620575 | gen_loss: -0.006927785463631153\n",
            "Epoch: 831 | disc_loss: -0.11970902234315872 | gen_loss: -0.13710837066173553\n"
          ]
        },
        {
          "output_type": "stream",
          "name": "stderr",
          "text": [
            " 84%|████████▎ | 836/1001 [01:04<00:10, 15.23it/s]"
          ]
        },
        {
          "output_type": "stream",
          "name": "stdout",
          "text": [
            "Epoch: 832 | disc_loss: -0.1308918595314026 | gen_loss: -0.14020051062107086\n",
            "Epoch: 833 | disc_loss: -0.151183620095253 | gen_loss: -0.10398031026124954\n",
            "Epoch: 834 | disc_loss: 1.3309944868087769 | gen_loss: -0.1671629101037979\n",
            "Epoch: 835 | disc_loss: -0.1457461416721344 | gen_loss: -0.1529523879289627\n"
          ]
        },
        {
          "output_type": "stream",
          "name": "stderr",
          "text": [
            " 84%|████████▍ | 840/1001 [01:04<00:10, 15.27it/s]"
          ]
        },
        {
          "output_type": "stream",
          "name": "stdout",
          "text": [
            "Epoch: 836 | disc_loss: -0.1351318359375 | gen_loss: -0.12857741117477417\n",
            "Epoch: 837 | disc_loss: -0.14030472934246063 | gen_loss: -0.11006055772304535\n",
            "Epoch: 838 | disc_loss: -0.1397719830274582 | gen_loss: -0.10723287612199783\n",
            "Epoch: 839 | disc_loss: -0.041806451976299286 | gen_loss: -0.1361234337091446\n"
          ]
        },
        {
          "output_type": "stream",
          "name": "stderr",
          "text": [
            "\r 84%|████████▍ | 842/1001 [01:04<00:10, 14.54it/s]"
          ]
        },
        {
          "output_type": "stream",
          "name": "stdout",
          "text": [
            "Epoch: 840 | disc_loss: 0.009511768817901611 | gen_loss: -0.1368340700864792\n",
            "Epoch: 841 | disc_loss: -0.14512108266353607 | gen_loss: -0.1253330260515213\n",
            "Epoch: 842 | disc_loss: -0.10754725337028503 | gen_loss: -0.12135167419910431\n"
          ]
        },
        {
          "output_type": "stream",
          "name": "stderr",
          "text": [
            " 85%|████████▍ | 846/1001 [01:04<00:10, 14.80it/s]"
          ]
        },
        {
          "output_type": "stream",
          "name": "stdout",
          "text": [
            "Epoch: 843 | disc_loss: -0.11740262061357498 | gen_loss: -0.09027129411697388\n",
            "Epoch: 844 | disc_loss: -0.1294708251953125 | gen_loss: -0.12187852710485458\n",
            "Epoch: 845 | disc_loss: 2.949366331100464 | gen_loss: -0.06666108965873718\n",
            "Epoch: 846 | disc_loss: -0.14704780280590057 | gen_loss: -0.14770767092704773\n"
          ]
        },
        {
          "output_type": "stream",
          "name": "stderr",
          "text": [
            " 85%|████████▍ | 850/1001 [01:05<00:09, 15.10it/s]"
          ]
        },
        {
          "output_type": "stream",
          "name": "stdout",
          "text": [
            "Epoch: 847 | disc_loss: -0.14008933305740356 | gen_loss: -0.12102577835321426\n",
            "Epoch: 848 | disc_loss: -0.14142650365829468 | gen_loss: -0.11308903992176056\n",
            "Epoch: 849 | disc_loss: -0.1557689905166626 | gen_loss: -0.11293380707502365\n",
            "Epoch: 850 | disc_loss: -0.14134939014911652 | gen_loss: -0.10977519303560257\n"
          ]
        },
        {
          "output_type": "stream",
          "name": "stderr",
          "text": [
            " 85%|████████▌ | 854/1001 [01:05<00:09, 15.13it/s]"
          ]
        },
        {
          "output_type": "stream",
          "name": "stdout",
          "text": [
            "Epoch: 851 | disc_loss: -0.14799721539020538 | gen_loss: -0.09185991436243057\n",
            "Epoch: 852 | disc_loss: -0.1477227658033371 | gen_loss: -0.1253214329481125\n",
            "Epoch: 853 | disc_loss: -0.07484859228134155 | gen_loss: -0.13312964141368866\n",
            "Epoch: 854 | disc_loss: -0.15378908812999725 | gen_loss: -0.13192622363567352\n"
          ]
        },
        {
          "output_type": "stream",
          "name": "stderr",
          "text": [
            " 86%|████████▌ | 858/1001 [01:05<00:09, 15.28it/s]"
          ]
        },
        {
          "output_type": "stream",
          "name": "stdout",
          "text": [
            "Epoch: 855 | disc_loss: -0.15888571739196777 | gen_loss: -0.10966351628303528\n",
            "Epoch: 856 | disc_loss: -0.14687390625476837 | gen_loss: -0.11187410354614258\n",
            "Epoch: 857 | disc_loss: -0.12581509351730347 | gen_loss: -0.1229674220085144\n",
            "Epoch: 858 | disc_loss: -0.014264464378356934 | gen_loss: -0.0846424400806427\n"
          ]
        },
        {
          "output_type": "stream",
          "name": "stderr",
          "text": [
            " 86%|████████▌ | 862/1001 [01:05<00:09, 15.20it/s]"
          ]
        },
        {
          "output_type": "stream",
          "name": "stdout",
          "text": [
            "Epoch: 859 | disc_loss: -0.14638707041740417 | gen_loss: -0.08669494837522507\n",
            "Epoch: 860 | disc_loss: -0.1452166587114334 | gen_loss: -0.10459457337856293\n",
            "Epoch: 861 | disc_loss: -0.1400051712989807 | gen_loss: -0.11631347984075546\n",
            "Epoch: 862 | disc_loss: -0.1503719985485077 | gen_loss: -0.10487409681081772\n"
          ]
        },
        {
          "output_type": "stream",
          "name": "stderr",
          "text": [
            " 87%|████████▋ | 866/1001 [01:06<00:08, 15.24it/s]"
          ]
        },
        {
          "output_type": "stream",
          "name": "stdout",
          "text": [
            "Epoch: 863 | disc_loss: -0.1467815637588501 | gen_loss: -0.09856422245502472\n",
            "Epoch: 864 | disc_loss: -0.13348285853862762 | gen_loss: -0.10850800573825836\n",
            "Epoch: 865 | disc_loss: -0.14018866419792175 | gen_loss: -0.1251077502965927\n",
            "Epoch: 866 | disc_loss: -0.15514995157718658 | gen_loss: -0.1215725988149643\n"
          ]
        },
        {
          "output_type": "stream",
          "name": "stderr",
          "text": [
            " 87%|████████▋ | 870/1001 [01:06<00:08, 15.26it/s]"
          ]
        },
        {
          "output_type": "stream",
          "name": "stdout",
          "text": [
            "Epoch: 867 | disc_loss: -0.15809917449951172 | gen_loss: -0.12045437097549438\n",
            "Epoch: 868 | disc_loss: -0.0980679839849472 | gen_loss: -0.1444902867078781\n",
            "Epoch: 869 | disc_loss: -0.12610386312007904 | gen_loss: -0.11589713394641876\n",
            "Epoch: 870 | disc_loss: -0.15735825896263123 | gen_loss: -0.12468477338552475\n"
          ]
        },
        {
          "output_type": "stream",
          "name": "stderr",
          "text": [
            " 87%|████████▋ | 874/1001 [01:06<00:08, 15.50it/s]"
          ]
        },
        {
          "output_type": "stream",
          "name": "stdout",
          "text": [
            "Epoch: 871 | disc_loss: -0.15694788098335266 | gen_loss: -0.1502978652715683\n",
            "Epoch: 872 | disc_loss: -0.14152733981609344 | gen_loss: -0.13825733959674835\n",
            "Epoch: 873 | disc_loss: -0.1523745208978653 | gen_loss: -0.13088074326515198\n",
            "Epoch: 874 | disc_loss: -0.15496724843978882 | gen_loss: -0.13479739427566528\n"
          ]
        },
        {
          "output_type": "stream",
          "name": "stderr",
          "text": [
            " 88%|████████▊ | 878/1001 [01:06<00:08, 15.23it/s]"
          ]
        },
        {
          "output_type": "stream",
          "name": "stdout",
          "text": [
            "Epoch: 875 | disc_loss: -0.14517121016979218 | gen_loss: -0.14112921059131622\n",
            "Epoch: 876 | disc_loss: -0.15808947384357452 | gen_loss: -0.13608340919017792\n",
            "Epoch: 877 | disc_loss: 0.26516860723495483 | gen_loss: -0.13204756379127502\n",
            "Epoch: 878 | disc_loss: -0.1543530821800232 | gen_loss: -0.1143256276845932\n"
          ]
        },
        {
          "output_type": "stream",
          "name": "stderr",
          "text": [
            " 88%|████████▊ | 882/1001 [01:07<00:07, 15.18it/s]"
          ]
        },
        {
          "output_type": "stream",
          "name": "stdout",
          "text": [
            "Epoch: 879 | disc_loss: -0.1499304622411728 | gen_loss: -0.13097871840000153\n",
            "Epoch: 880 | disc_loss: -0.15295594930648804 | gen_loss: -0.1263929307460785\n",
            "Epoch: 881 | disc_loss: -0.1521545797586441 | gen_loss: -0.1487836241722107\n",
            "Epoch: 882 | disc_loss: -0.14854547381401062 | gen_loss: -0.17006921768188477\n"
          ]
        },
        {
          "output_type": "stream",
          "name": "stderr",
          "text": [
            " 89%|████████▊ | 886/1001 [01:07<00:07, 15.34it/s]"
          ]
        },
        {
          "output_type": "stream",
          "name": "stdout",
          "text": [
            "Epoch: 883 | disc_loss: 0.04859355092048645 | gen_loss: -0.15728029608726501\n",
            "Epoch: 884 | disc_loss: -0.14381670951843262 | gen_loss: -0.11879017949104309\n",
            "Epoch: 885 | disc_loss: -0.15367881953716278 | gen_loss: -0.143654465675354\n",
            "Epoch: 886 | disc_loss: -0.15294785797595978 | gen_loss: -0.16663944721221924\n"
          ]
        },
        {
          "output_type": "stream",
          "name": "stderr",
          "text": [
            " 89%|████████▉ | 890/1001 [01:07<00:07, 15.35it/s]"
          ]
        },
        {
          "output_type": "stream",
          "name": "stdout",
          "text": [
            "Epoch: 887 | disc_loss: -0.15015293657779694 | gen_loss: -0.1607939749956131\n",
            "Epoch: 888 | disc_loss: -0.15811066329479218 | gen_loss: -0.15564867854118347\n",
            "Epoch: 889 | disc_loss: -0.15687158703804016 | gen_loss: -0.13616454601287842\n",
            "Epoch: 890 | disc_loss: -0.15106821060180664 | gen_loss: -0.11982571333646774\n"
          ]
        },
        {
          "output_type": "stream",
          "name": "stderr",
          "text": [
            " 89%|████████▉ | 894/1001 [01:07<00:07, 15.18it/s]"
          ]
        },
        {
          "output_type": "stream",
          "name": "stdout",
          "text": [
            "Epoch: 891 | disc_loss: -0.15393280982971191 | gen_loss: -0.13131381571292877\n",
            "Epoch: 892 | disc_loss: -0.058549195528030396 | gen_loss: -0.13503818213939667\n",
            "Epoch: 893 | disc_loss: -0.15692079067230225 | gen_loss: -0.13468942046165466\n",
            "Epoch: 894 | disc_loss: 0.13680176436901093 | gen_loss: -0.10972723364830017\n"
          ]
        },
        {
          "output_type": "stream",
          "name": "stderr",
          "text": [
            " 90%|████████▉ | 898/1001 [01:08<00:06, 15.04it/s]"
          ]
        },
        {
          "output_type": "stream",
          "name": "stdout",
          "text": [
            "Epoch: 895 | disc_loss: -0.1558436155319214 | gen_loss: -0.1371905654668808\n",
            "Epoch: 896 | disc_loss: -0.1597210317850113 | gen_loss: -0.12048036605119705\n",
            "Epoch: 897 | disc_loss: -0.1605767458677292 | gen_loss: -0.13650238513946533\n",
            "Epoch: 898 | disc_loss: 0.5644615888595581 | gen_loss: -0.1726028472185135\n"
          ]
        },
        {
          "output_type": "stream",
          "name": "stderr",
          "text": [
            " 90%|█████████ | 902/1001 [01:08<00:06, 15.31it/s]"
          ]
        },
        {
          "output_type": "stream",
          "name": "stdout",
          "text": [
            "Epoch: 899 | disc_loss: -0.1515086591243744 | gen_loss: -0.15684546530246735\n",
            "Epoch: 900 | disc_loss: -0.15574917197227478 | gen_loss: -0.15149495005607605\n",
            "Epoch: 901 | disc_loss: -0.0912473052740097 | gen_loss: -0.12691554427146912\n",
            "Epoch: 902 | disc_loss: -0.11177507042884827 | gen_loss: -0.1548437476158142\n"
          ]
        },
        {
          "output_type": "stream",
          "name": "stderr",
          "text": [
            " 91%|█████████ | 906/1001 [01:08<00:06, 15.07it/s]"
          ]
        },
        {
          "output_type": "stream",
          "name": "stdout",
          "text": [
            "Epoch: 903 | disc_loss: -0.1244061067700386 | gen_loss: -0.14939402043819427\n",
            "Epoch: 904 | disc_loss: -0.09631229937076569 | gen_loss: -0.13627773523330688\n",
            "Epoch: 905 | disc_loss: -0.11415037512779236 | gen_loss: -0.11898186802864075\n"
          ]
        },
        {
          "output_type": "stream",
          "name": "stderr",
          "text": [
            " 91%|█████████ | 910/1001 [01:09<00:06, 15.08it/s]"
          ]
        },
        {
          "output_type": "stream",
          "name": "stdout",
          "text": [
            "Epoch: 906 | disc_loss: -0.15210163593292236 | gen_loss: -0.09579437226057053\n",
            "Epoch: 907 | disc_loss: -0.1507645547389984 | gen_loss: -0.09431377053260803\n",
            "Epoch: 908 | disc_loss: -0.15879406034946442 | gen_loss: -0.09047442674636841\n",
            "Epoch: 909 | disc_loss: 4.182491779327393 | gen_loss: -0.11992093920707703\n"
          ]
        },
        {
          "output_type": "stream",
          "name": "stderr",
          "text": [
            " 91%|█████████▏| 914/1001 [01:09<00:05, 14.99it/s]"
          ]
        },
        {
          "output_type": "stream",
          "name": "stdout",
          "text": [
            "Epoch: 910 | disc_loss: -0.15150147676467896 | gen_loss: -0.08836089074611664\n",
            "Epoch: 911 | disc_loss: -0.15063261985778809 | gen_loss: -0.12021670490503311\n",
            "Epoch: 912 | disc_loss: -0.15650415420532227 | gen_loss: -0.13448520004749298\n",
            "Epoch: 913 | disc_loss: -0.15837763249874115 | gen_loss: -0.13743653893470764\n"
          ]
        },
        {
          "output_type": "stream",
          "name": "stderr",
          "text": [
            " 92%|█████████▏| 918/1001 [01:09<00:05, 15.12it/s]"
          ]
        },
        {
          "output_type": "stream",
          "name": "stdout",
          "text": [
            "Epoch: 914 | disc_loss: 0.06429897248744965 | gen_loss: -0.11722265183925629\n",
            "Epoch: 915 | disc_loss: -0.1020960658788681 | gen_loss: -0.1457151472568512\n",
            "Epoch: 916 | disc_loss: -0.14038632810115814 | gen_loss: -0.12726563215255737\n",
            "Epoch: 917 | disc_loss: -0.1429183930158615 | gen_loss: -0.0926397293806076\n"
          ]
        },
        {
          "output_type": "stream",
          "name": "stderr",
          "text": [
            " 92%|█████████▏| 922/1001 [01:09<00:05, 14.96it/s]"
          ]
        },
        {
          "output_type": "stream",
          "name": "stdout",
          "text": [
            "Epoch: 918 | disc_loss: -0.029076576232910156 | gen_loss: -0.1399064064025879\n",
            "Epoch: 919 | disc_loss: -0.16136547923088074 | gen_loss: -0.11140377819538116\n",
            "Epoch: 920 | disc_loss: -0.1040961965918541 | gen_loss: -0.0969676524400711\n",
            "Epoch: 921 | disc_loss: 8.684852600097656 | gen_loss: -0.05463697016239166\n"
          ]
        },
        {
          "output_type": "stream",
          "name": "stderr",
          "text": [
            " 93%|█████████▎| 926/1001 [01:10<00:04, 15.04it/s]"
          ]
        },
        {
          "output_type": "stream",
          "name": "stdout",
          "text": [
            "Epoch: 922 | disc_loss: -0.11171821504831314 | gen_loss: -0.11971740424633026\n",
            "Epoch: 923 | disc_loss: -0.14984001219272614 | gen_loss: -0.11193785816431046\n",
            "Epoch: 924 | disc_loss: -0.15663231909275055 | gen_loss: -0.10253000259399414\n",
            "Epoch: 925 | disc_loss: -0.1479818969964981 | gen_loss: -0.12075069546699524\n"
          ]
        },
        {
          "output_type": "stream",
          "name": "stderr",
          "text": [
            " 93%|█████████▎| 930/1001 [01:10<00:04, 15.11it/s]"
          ]
        },
        {
          "output_type": "stream",
          "name": "stdout",
          "text": [
            "Epoch: 926 | disc_loss: -0.15593662858009338 | gen_loss: -0.1336141973733902\n",
            "Epoch: 927 | disc_loss: -0.15455438196659088 | gen_loss: -0.1691419780254364\n",
            "Epoch: 928 | disc_loss: 0.13995295763015747 | gen_loss: -0.13195164501667023\n",
            "Epoch: 929 | disc_loss: -0.14315547049045563 | gen_loss: -0.14947457611560822\n"
          ]
        },
        {
          "output_type": "stream",
          "name": "stderr",
          "text": [
            " 93%|█████████▎| 934/1001 [01:10<00:04, 15.09it/s]"
          ]
        },
        {
          "output_type": "stream",
          "name": "stdout",
          "text": [
            "Epoch: 930 | disc_loss: -0.14922019839286804 | gen_loss: -0.14270079135894775\n",
            "Epoch: 931 | disc_loss: -0.145420104265213 | gen_loss: -0.1418459564447403\n",
            "Epoch: 932 | disc_loss: -0.14714473485946655 | gen_loss: -0.13778474926948547\n",
            "Epoch: 933 | disc_loss: -0.15679943561553955 | gen_loss: -0.12237974256277084\n"
          ]
        },
        {
          "output_type": "stream",
          "name": "stderr",
          "text": [
            " 94%|█████████▎| 938/1001 [01:10<00:04, 15.01it/s]"
          ]
        },
        {
          "output_type": "stream",
          "name": "stdout",
          "text": [
            "Epoch: 934 | disc_loss: -0.15086430311203003 | gen_loss: -0.13648150861263275\n",
            "Epoch: 935 | disc_loss: 0.16685014963150024 | gen_loss: -0.09307341277599335\n",
            "Epoch: 936 | disc_loss: -0.15578493475914001 | gen_loss: -0.11065879464149475\n",
            "Epoch: 937 | disc_loss: -0.15382316708564758 | gen_loss: -0.1511494368314743\n"
          ]
        },
        {
          "output_type": "stream",
          "name": "stderr",
          "text": [
            " 94%|█████████▍| 942/1001 [01:11<00:03, 15.19it/s]"
          ]
        },
        {
          "output_type": "stream",
          "name": "stdout",
          "text": [
            "Epoch: 938 | disc_loss: -0.1137729212641716 | gen_loss: -0.1181417778134346\n",
            "Epoch: 939 | disc_loss: -0.03929448500275612 | gen_loss: 0.041844453662633896\n",
            "Epoch: 940 | disc_loss: -0.08024197071790695 | gen_loss: 0.019350476562976837\n",
            "Epoch: 941 | disc_loss: -0.1337912678718567 | gen_loss: -0.024332214146852493\n"
          ]
        },
        {
          "output_type": "stream",
          "name": "stderr",
          "text": [
            " 95%|█████████▍| 946/1001 [01:11<00:03, 15.22it/s]"
          ]
        },
        {
          "output_type": "stream",
          "name": "stdout",
          "text": [
            "Epoch: 942 | disc_loss: -0.15516462922096252 | gen_loss: -0.07706380635499954\n",
            "Epoch: 943 | disc_loss: -0.13417549431324005 | gen_loss: -0.13862471282482147\n",
            "Epoch: 944 | disc_loss: -0.15671223402023315 | gen_loss: -0.13385286927223206\n",
            "Epoch: 945 | disc_loss: -0.11141756176948547 | gen_loss: -0.13960127532482147\n"
          ]
        },
        {
          "output_type": "stream",
          "name": "stderr",
          "text": [
            " 95%|█████████▍| 950/1001 [01:11<00:03, 15.26it/s]"
          ]
        },
        {
          "output_type": "stream",
          "name": "stdout",
          "text": [
            "Epoch: 946 | disc_loss: -0.1524774730205536 | gen_loss: -0.1279350370168686\n",
            "Epoch: 947 | disc_loss: -0.15003597736358643 | gen_loss: -0.14339128136634827\n",
            "Epoch: 948 | disc_loss: -0.016030721366405487 | gen_loss: -0.10912158340215683\n",
            "Epoch: 949 | disc_loss: -0.1569342315196991 | gen_loss: -0.16463659703731537\n"
          ]
        },
        {
          "output_type": "stream",
          "name": "stderr",
          "text": [
            " 95%|█████████▌| 954/1001 [01:11<00:03, 15.09it/s]"
          ]
        },
        {
          "output_type": "stream",
          "name": "stdout",
          "text": [
            "Epoch: 950 | disc_loss: -0.15777809917926788 | gen_loss: -0.14020784199237823\n",
            "Epoch: 951 | disc_loss: -0.15407223999500275 | gen_loss: -0.13559916615486145\n",
            "Epoch: 952 | disc_loss: -0.005291759967803955 | gen_loss: -0.13377758860588074\n",
            "Epoch: 953 | disc_loss: -0.1515917330980301 | gen_loss: -0.13170179724693298\n"
          ]
        },
        {
          "output_type": "stream",
          "name": "stderr",
          "text": [
            " 96%|█████████▌| 958/1001 [01:12<00:02, 14.95it/s]"
          ]
        },
        {
          "output_type": "stream",
          "name": "stdout",
          "text": [
            "Epoch: 954 | disc_loss: -0.1548018753528595 | gen_loss: -0.1259526014328003\n",
            "Epoch: 955 | disc_loss: -0.1361692249774933 | gen_loss: -0.12004566192626953\n",
            "Epoch: 956 | disc_loss: -0.16065925359725952 | gen_loss: -0.12595544755458832\n",
            "Epoch: 957 | disc_loss: -0.07157397270202637 | gen_loss: -0.12597523629665375\n"
          ]
        },
        {
          "output_type": "stream",
          "name": "stderr",
          "text": [
            "\r 96%|█████████▌| 960/1001 [01:12<00:02, 14.93it/s]"
          ]
        },
        {
          "output_type": "stream",
          "name": "stdout",
          "text": [
            "Epoch: 958 | disc_loss: -0.15638737380504608 | gen_loss: -0.15369011461734772\n",
            "Epoch: 959 | disc_loss: -0.15281595289707184 | gen_loss: -0.1355324685573578\n",
            "Epoch: 960 | disc_loss: -0.15556026995182037 | gen_loss: -0.11565368622541428\n"
          ]
        },
        {
          "output_type": "stream",
          "name": "stderr",
          "text": [
            " 96%|█████████▋| 964/1001 [01:12<00:02, 14.39it/s]"
          ]
        },
        {
          "output_type": "stream",
          "name": "stdout",
          "text": [
            "Epoch: 961 | disc_loss: -0.15259574353694916 | gen_loss: -0.1453048586845398\n",
            "Epoch: 962 | disc_loss: -0.15831775963306427 | gen_loss: -0.13994716107845306\n",
            "Epoch: 963 | disc_loss: -0.14869260787963867 | gen_loss: -0.14400197565555573\n",
            "Epoch: 964 | disc_loss: 0.010647192597389221 | gen_loss: -0.1734296977519989\n"
          ]
        },
        {
          "output_type": "stream",
          "name": "stderr",
          "text": [
            " 97%|█████████▋| 968/1001 [01:12<00:02, 14.70it/s]"
          ]
        },
        {
          "output_type": "stream",
          "name": "stdout",
          "text": [
            "Epoch: 965 | disc_loss: -0.15785828232765198 | gen_loss: -0.14357677102088928\n",
            "Epoch: 966 | disc_loss: -0.140843465924263 | gen_loss: -0.1431027054786682\n",
            "Epoch: 967 | disc_loss: -0.13782769441604614 | gen_loss: -0.13514891266822815\n"
          ]
        },
        {
          "output_type": "stream",
          "name": "stderr",
          "text": [
            " 97%|█████████▋| 972/1001 [01:13<00:01, 14.94it/s]"
          ]
        },
        {
          "output_type": "stream",
          "name": "stdout",
          "text": [
            "Epoch: 968 | disc_loss: -0.16252143681049347 | gen_loss: -0.11989492177963257\n",
            "Epoch: 969 | disc_loss: -0.1460946649312973 | gen_loss: -0.14170579612255096\n",
            "Epoch: 970 | disc_loss: -0.1486532986164093 | gen_loss: -0.14239130914211273\n",
            "Epoch: 971 | disc_loss: -0.1592950075864792 | gen_loss: -0.14623145759105682\n"
          ]
        },
        {
          "output_type": "stream",
          "name": "stderr",
          "text": [
            "\r 97%|█████████▋| 974/1001 [01:13<00:01, 14.89it/s]"
          ]
        },
        {
          "output_type": "stream",
          "name": "stdout",
          "text": [
            "Epoch: 972 | disc_loss: -0.15812034904956818 | gen_loss: -0.16201037168502808\n",
            "Epoch: 973 | disc_loss: -0.11897894740104675 | gen_loss: -0.1890813410282135\n",
            "Epoch: 974 | disc_loss: -0.14613986015319824 | gen_loss: -0.1470220983028412\n"
          ]
        },
        {
          "output_type": "stream",
          "name": "stderr",
          "text": [
            " 98%|█████████▊| 978/1001 [01:13<00:01, 14.64it/s]"
          ]
        },
        {
          "output_type": "stream",
          "name": "stdout",
          "text": [
            "Epoch: 975 | disc_loss: -0.08877651393413544 | gen_loss: -0.17615461349487305\n",
            "Epoch: 976 | disc_loss: -0.16055063903331757 | gen_loss: -0.13346949219703674\n",
            "Epoch: 977 | disc_loss: -0.15880535542964935 | gen_loss: -0.13952967524528503\n"
          ]
        },
        {
          "output_type": "stream",
          "name": "stderr",
          "text": [
            " 98%|█████████▊| 982/1001 [01:13<00:01, 14.82it/s]"
          ]
        },
        {
          "output_type": "stream",
          "name": "stdout",
          "text": [
            "Epoch: 978 | disc_loss: -0.15747897326946259 | gen_loss: -0.1477799266576767\n",
            "Epoch: 979 | disc_loss: -0.11859221756458282 | gen_loss: -0.15103831887245178\n",
            "Epoch: 980 | disc_loss: -0.16195297241210938 | gen_loss: -0.133921816945076\n",
            "Epoch: 981 | disc_loss: -0.16314062476158142 | gen_loss: -0.134352445602417\n"
          ]
        },
        {
          "output_type": "stream",
          "name": "stderr",
          "text": [
            " 99%|█████████▊| 986/1001 [01:14<00:01, 14.83it/s]"
          ]
        },
        {
          "output_type": "stream",
          "name": "stdout",
          "text": [
            "Epoch: 982 | disc_loss: -0.16273359954357147 | gen_loss: -0.14016491174697876\n",
            "Epoch: 983 | disc_loss: -0.16049979627132416 | gen_loss: -0.1411057859659195\n",
            "Epoch: 984 | disc_loss: -0.1539364457130432 | gen_loss: -0.1514095515012741\n",
            "Epoch: 985 | disc_loss: -0.10989343374967575 | gen_loss: -0.15604600310325623\n"
          ]
        },
        {
          "output_type": "stream",
          "name": "stderr",
          "text": [
            " 99%|█████████▉| 990/1001 [01:14<00:00, 14.93it/s]"
          ]
        },
        {
          "output_type": "stream",
          "name": "stdout",
          "text": [
            "Epoch: 986 | disc_loss: -0.07838568091392517 | gen_loss: -0.22646236419677734\n",
            "Epoch: 987 | disc_loss: -0.1412111520767212 | gen_loss: -0.1925865113735199\n",
            "Epoch: 988 | disc_loss: -0.12858082354068756 | gen_loss: -0.21120746433734894\n",
            "Epoch: 989 | disc_loss: -0.09302454441785812 | gen_loss: -0.18692918121814728\n"
          ]
        },
        {
          "output_type": "stream",
          "name": "stderr",
          "text": [
            " 99%|█████████▉| 994/1001 [01:14<00:00, 15.12it/s]"
          ]
        },
        {
          "output_type": "stream",
          "name": "stdout",
          "text": [
            "Epoch: 990 | disc_loss: -0.15741048753261566 | gen_loss: -0.15551753342151642\n",
            "Epoch: 991 | disc_loss: -0.04279365390539169 | gen_loss: -0.15701046586036682\n",
            "Epoch: 992 | disc_loss: -0.16355454921722412 | gen_loss: -0.1621609330177307\n",
            "Epoch: 993 | disc_loss: -0.16108384728431702 | gen_loss: -0.1615770012140274\n"
          ]
        },
        {
          "output_type": "stream",
          "name": "stderr",
          "text": [
            "100%|█████████▉| 998/1001 [01:14<00:00, 15.33it/s]"
          ]
        },
        {
          "output_type": "stream",
          "name": "stdout",
          "text": [
            "Epoch: 994 | disc_loss: -0.13927406072616577 | gen_loss: -0.1666281372308731\n",
            "Epoch: 995 | disc_loss: 0.30084800720214844 | gen_loss: 0.02536867931485176\n",
            "Epoch: 996 | disc_loss: -0.13231676816940308 | gen_loss: -0.01680615544319153\n",
            "Epoch: 997 | disc_loss: -0.1436401754617691 | gen_loss: -0.047439154237508774\n"
          ]
        },
        {
          "output_type": "stream",
          "name": "stderr",
          "text": [
            "100%|██████████| 1001/1001 [01:15<00:00, 13.33it/s]"
          ]
        },
        {
          "output_type": "stream",
          "name": "stdout",
          "text": [
            "Epoch: 998 | disc_loss: 3.0243430137634277 | gen_loss: -0.17292159795761108\n",
            "Epoch: 999 | disc_loss: -0.09230823814868927 | gen_loss: -0.160871684551239\n",
            "Epoch: 1000 | disc_loss: -0.1438528448343277 | gen_loss: -0.1522672325372696\n"
          ]
        },
        {
          "output_type": "stream",
          "name": "stderr",
          "text": [
            "\n"
          ]
        }
      ]
    },
    {
      "cell_type": "code",
      "source": [
        "sample=synthesizer.sample(1000)\n",
        "print(sample)\n",
        "sample.to_csv(drive_location+algo+\"_generated_data_wgan_gp.csv\",index=False)\n",
        "# synthesizer.save(r'/content/drive/My Drive/SITesting/wgan_gp.pkl')"
      ],
      "metadata": {
        "id": "K5nGvgVtfwlK",
        "colab": {
          "base_uri": "https://localhost:8080/"
        },
        "outputId": "37fd6840-4c6b-47c0-ea85-83ea386b3c52"
      },
      "execution_count": null,
      "outputs": [
        {
          "output_type": "stream",
          "name": "stderr",
          "text": [
            "Synthetic data generation: 100%|██████████| 6/6 [00:00<00:00, 84.90it/s]\n"
          ]
        },
        {
          "output_type": "stream",
          "name": "stdout",
          "text": [
            "      cpu_clock     isa  l1_size  l2_size  l3_size  num-cpus    mem_type  \\\n",
            "0      1.987033  X86_64       32      512   983040         8  PC4-3200AA   \n",
            "1      2.289391  X86_64       64      512    36864        80   PC4-2400T   \n",
            "2      2.770368  X86_64       32      256    12288        80   PC4-2400T   \n",
            "3      2.136210  X86_64       64      256   262144        52  PC4-3200AA   \n",
            "4      2.337707  X86_64       32      256    18432        88           0   \n",
            "...         ...     ...      ...      ...      ...       ...         ...   \n",
            "1195   1.939230  X86_64       32      256    43008       384   PC4-2933V   \n",
            "1196   2.391150  X86_64       64      512    55296        44   PC4-2933V   \n",
            "1197   2.251215  X86_64       32      256    43008        56   PC4-2933Y   \n",
            "1198   2.098391  X86_64       64      256   116736         2   PC4-2933V   \n",
            "1199   1.724416  X86_64       64      256    86016        80   PC4-2400T   \n",
            "\n",
            "      mem_clock  mem_size  \n",
            "0             0      3072  \n",
            "1          3200       128  \n",
            "2          2400      2048  \n",
            "3             0       192  \n",
            "4          3200       512  \n",
            "...         ...       ...  \n",
            "1195          0        96  \n",
            "1196       2933        64  \n",
            "1197       2933      1024  \n",
            "1198       2666      2048  \n",
            "1199          0       768  \n",
            "\n",
            "[1200 rows x 9 columns]\n"
          ]
        }
      ]
    },
    {
      "cell_type": "code",
      "source": [
        "!pip install sdv\n",
        "\n",
        "from sdv.evaluation import evaluate\n",
        "\n",
        "import pandas as pd\n",
        "\n",
        "real_data=pd.read_csv(drive_location+algo+\"_real_data.csv\")\n",
        "sample=pd.read_csv(drive_location+algo+\"_generated_data_wgan_gp.csv\")\n",
        "\n",
        "evaluate(sample,real_data,metrics=['CSTest','KSTest'],aggregate=False)"
      ],
      "metadata": {
        "id": "gzJk_kWtnEfK",
        "colab": {
          "base_uri": "https://localhost:8080/",
          "height": 843
        },
        "outputId": "8bbca0dc-c6cf-40ff-ebae-e6ac9ad3a40c"
      },
      "execution_count": null,
      "outputs": [
        {
          "output_type": "stream",
          "name": "stdout",
          "text": [
            "Looking in indexes: https://pypi.org/simple, https://us-python.pkg.dev/colab-wheels/public/simple/\n",
            "Requirement already satisfied: sdv in /usr/local/lib/python3.7/dist-packages (0.16.0)\n",
            "Requirement already satisfied: tqdm<5,>=4.15 in /usr/local/lib/python3.7/dist-packages (from sdv) (4.64.0)\n",
            "Requirement already satisfied: copulas<0.8,>=0.7.0 in /usr/local/lib/python3.7/dist-packages (from sdv) (0.7.0)\n",
            "Requirement already satisfied: rdt<0.7,>=0.6.2 in /usr/local/lib/python3.7/dist-packages (from sdv) (0.6.4)\n",
            "Requirement already satisfied: sdmetrics<0.6,>=0.5.0 in /usr/local/lib/python3.7/dist-packages (from sdv) (0.5.0)\n",
            "Requirement already satisfied: ctgan<0.6,>=0.5.1 in /usr/local/lib/python3.7/dist-packages (from sdv) (0.5.1)\n",
            "Requirement already satisfied: pandas<2,>=1.1.3 in /usr/local/lib/python3.7/dist-packages (from sdv) (1.2.5)\n",
            "Requirement already satisfied: numpy<2,>=1.20.0 in /usr/local/lib/python3.7/dist-packages (from sdv) (1.21.6)\n",
            "Requirement already satisfied: deepecho<0.4,>=0.3.0.post1 in /usr/local/lib/python3.7/dist-packages (from sdv) (0.3.0.post1)\n",
            "Requirement already satisfied: Faker<10,>=3.0.0 in /usr/local/lib/python3.7/dist-packages (from sdv) (9.9.1)\n",
            "Requirement already satisfied: graphviz<1,>=0.13.2 in /usr/local/lib/python3.7/dist-packages (from sdv) (0.20.1)\n",
            "Requirement already satisfied: matplotlib<4,>=3.4.0 in /usr/local/lib/python3.7/dist-packages (from copulas<0.8,>=0.7.0->sdv) (3.5.2)\n",
            "Requirement already satisfied: scipy<2,>=1.5.4 in /usr/local/lib/python3.7/dist-packages (from copulas<0.8,>=0.7.0->sdv) (1.7.3)\n",
            "Requirement already satisfied: packaging<22,>=20 in /usr/local/lib/python3.7/dist-packages (from ctgan<0.6,>=0.5.1->sdv) (21.3)\n",
            "Requirement already satisfied: scikit-learn<2,>=0.24 in /usr/local/lib/python3.7/dist-packages (from ctgan<0.6,>=0.5.1->sdv) (1.0.2)\n",
            "Requirement already satisfied: torchvision<1,>=0.9.0 in /usr/local/lib/python3.7/dist-packages (from ctgan<0.6,>=0.5.1->sdv) (0.13.0+cu113)\n",
            "Requirement already satisfied: torch<2,>=1.8.0 in /usr/local/lib/python3.7/dist-packages (from ctgan<0.6,>=0.5.1->sdv) (1.12.0+cu113)\n",
            "Requirement already satisfied: python-dateutil>=2.4 in /usr/local/lib/python3.7/dist-packages (from Faker<10,>=3.0.0->sdv) (2.8.2)\n",
            "Requirement already satisfied: text-unidecode==1.3 in /usr/local/lib/python3.7/dist-packages (from Faker<10,>=3.0.0->sdv) (1.3)\n",
            "Requirement already satisfied: typing-extensions>=3.10.0.2 in /usr/local/lib/python3.7/dist-packages (from Faker<10,>=3.0.0->sdv) (4.3.0)\n",
            "Requirement already satisfied: pyparsing>=2.2.1 in /usr/local/lib/python3.7/dist-packages (from matplotlib<4,>=3.4.0->copulas<0.8,>=0.7.0->sdv) (3.0.9)\n",
            "Requirement already satisfied: pillow>=6.2.0 in /usr/local/lib/python3.7/dist-packages (from matplotlib<4,>=3.4.0->copulas<0.8,>=0.7.0->sdv) (7.1.2)\n",
            "Requirement already satisfied: cycler>=0.10 in /usr/local/lib/python3.7/dist-packages (from matplotlib<4,>=3.4.0->copulas<0.8,>=0.7.0->sdv) (0.11.0)\n",
            "Requirement already satisfied: fonttools>=4.22.0 in /usr/local/lib/python3.7/dist-packages (from matplotlib<4,>=3.4.0->copulas<0.8,>=0.7.0->sdv) (4.34.4)\n",
            "Requirement already satisfied: kiwisolver>=1.0.1 in /usr/local/lib/python3.7/dist-packages (from matplotlib<4,>=3.4.0->copulas<0.8,>=0.7.0->sdv) (1.4.4)\n",
            "Requirement already satisfied: pytz>=2017.3 in /usr/local/lib/python3.7/dist-packages (from pandas<2,>=1.1.3->sdv) (2022.1)\n",
            "Requirement already satisfied: six>=1.5 in /usr/local/lib/python3.7/dist-packages (from python-dateutil>=2.4->Faker<10,>=3.0.0->sdv) (1.15.0)\n",
            "Requirement already satisfied: pyyaml<6,>=5.4.1 in /usr/local/lib/python3.7/dist-packages (from rdt<0.7,>=0.6.2->sdv) (5.4.1)\n",
            "Requirement already satisfied: psutil<6,>=5.7 in /usr/local/lib/python3.7/dist-packages (from rdt<0.7,>=0.6.2->sdv) (5.9.1)\n",
            "Requirement already satisfied: joblib>=0.11 in /usr/local/lib/python3.7/dist-packages (from scikit-learn<2,>=0.24->ctgan<0.6,>=0.5.1->sdv) (1.1.0)\n",
            "Requirement already satisfied: threadpoolctl>=2.0.0 in /usr/local/lib/python3.7/dist-packages (from scikit-learn<2,>=0.24->ctgan<0.6,>=0.5.1->sdv) (3.1.0)\n",
            "Requirement already satisfied: pyts<0.13.0,>=0.12.0 in /usr/local/lib/python3.7/dist-packages (from sdmetrics<0.6,>=0.5.0->sdv) (0.12.0)\n",
            "Requirement already satisfied: numba>=0.48.0 in /usr/local/lib/python3.7/dist-packages (from pyts<0.13.0,>=0.12.0->sdmetrics<0.6,>=0.5.0->sdv) (0.51.2)\n",
            "Requirement already satisfied: llvmlite<0.35,>=0.34.0.dev0 in /usr/local/lib/python3.7/dist-packages (from numba>=0.48.0->pyts<0.13.0,>=0.12.0->sdmetrics<0.6,>=0.5.0->sdv) (0.34.0)\n",
            "Requirement already satisfied: setuptools in /usr/local/lib/python3.7/dist-packages (from numba>=0.48.0->pyts<0.13.0,>=0.12.0->sdmetrics<0.6,>=0.5.0->sdv) (57.4.0)\n",
            "Requirement already satisfied: requests in /usr/local/lib/python3.7/dist-packages (from torchvision<1,>=0.9.0->ctgan<0.6,>=0.5.1->sdv) (2.28.1)\n",
            "Requirement already satisfied: charset-normalizer<3,>=2 in /usr/local/lib/python3.7/dist-packages (from requests->torchvision<1,>=0.9.0->ctgan<0.6,>=0.5.1->sdv) (2.1.0)\n",
            "Requirement already satisfied: idna<4,>=2.5 in /usr/local/lib/python3.7/dist-packages (from requests->torchvision<1,>=0.9.0->ctgan<0.6,>=0.5.1->sdv) (2.10)\n",
            "Requirement already satisfied: urllib3<1.27,>=1.21.1 in /usr/local/lib/python3.7/dist-packages (from requests->torchvision<1,>=0.9.0->ctgan<0.6,>=0.5.1->sdv) (1.24.3)\n",
            "Requirement already satisfied: certifi>=2017.4.17 in /usr/local/lib/python3.7/dist-packages (from requests->torchvision<1,>=0.9.0->ctgan<0.6,>=0.5.1->sdv) (2022.6.15)\n"
          ]
        },
        {
          "output_type": "execute_result",
          "data": {
            "text/plain": [
              "   metric                                     name  raw_score  \\\n",
              "0  CSTest                              Chi-Squared   0.500005   \n",
              "1  KSTest  Inverted Kolmogorov-Smirnov D statistic   0.672116   \n",
              "\n",
              "   normalized_score  min_value  max_value      goal error  \n",
              "0          0.500005        0.0        1.0  MAXIMIZE  None  \n",
              "1          0.672116        0.0        1.0  MAXIMIZE  None  "
            ],
            "text/html": [
              "\n",
              "  <div id=\"df-56406362-0c4c-4de3-a419-9d00562f1ad6\">\n",
              "    <div class=\"colab-df-container\">\n",
              "      <div>\n",
              "<style scoped>\n",
              "    .dataframe tbody tr th:only-of-type {\n",
              "        vertical-align: middle;\n",
              "    }\n",
              "\n",
              "    .dataframe tbody tr th {\n",
              "        vertical-align: top;\n",
              "    }\n",
              "\n",
              "    .dataframe thead th {\n",
              "        text-align: right;\n",
              "    }\n",
              "</style>\n",
              "<table border=\"1\" class=\"dataframe\">\n",
              "  <thead>\n",
              "    <tr style=\"text-align: right;\">\n",
              "      <th></th>\n",
              "      <th>metric</th>\n",
              "      <th>name</th>\n",
              "      <th>raw_score</th>\n",
              "      <th>normalized_score</th>\n",
              "      <th>min_value</th>\n",
              "      <th>max_value</th>\n",
              "      <th>goal</th>\n",
              "      <th>error</th>\n",
              "    </tr>\n",
              "  </thead>\n",
              "  <tbody>\n",
              "    <tr>\n",
              "      <th>0</th>\n",
              "      <td>CSTest</td>\n",
              "      <td>Chi-Squared</td>\n",
              "      <td>0.500005</td>\n",
              "      <td>0.500005</td>\n",
              "      <td>0.0</td>\n",
              "      <td>1.0</td>\n",
              "      <td>MAXIMIZE</td>\n",
              "      <td>None</td>\n",
              "    </tr>\n",
              "    <tr>\n",
              "      <th>1</th>\n",
              "      <td>KSTest</td>\n",
              "      <td>Inverted Kolmogorov-Smirnov D statistic</td>\n",
              "      <td>0.672116</td>\n",
              "      <td>0.672116</td>\n",
              "      <td>0.0</td>\n",
              "      <td>1.0</td>\n",
              "      <td>MAXIMIZE</td>\n",
              "      <td>None</td>\n",
              "    </tr>\n",
              "  </tbody>\n",
              "</table>\n",
              "</div>\n",
              "      <button class=\"colab-df-convert\" onclick=\"convertToInteractive('df-56406362-0c4c-4de3-a419-9d00562f1ad6')\"\n",
              "              title=\"Convert this dataframe to an interactive table.\"\n",
              "              style=\"display:none;\">\n",
              "        \n",
              "  <svg xmlns=\"http://www.w3.org/2000/svg\" height=\"24px\"viewBox=\"0 0 24 24\"\n",
              "       width=\"24px\">\n",
              "    <path d=\"M0 0h24v24H0V0z\" fill=\"none\"/>\n",
              "    <path d=\"M18.56 5.44l.94 2.06.94-2.06 2.06-.94-2.06-.94-.94-2.06-.94 2.06-2.06.94zm-11 1L8.5 8.5l.94-2.06 2.06-.94-2.06-.94L8.5 2.5l-.94 2.06-2.06.94zm10 10l.94 2.06.94-2.06 2.06-.94-2.06-.94-.94-2.06-.94 2.06-2.06.94z\"/><path d=\"M17.41 7.96l-1.37-1.37c-.4-.4-.92-.59-1.43-.59-.52 0-1.04.2-1.43.59L10.3 9.45l-7.72 7.72c-.78.78-.78 2.05 0 2.83L4 21.41c.39.39.9.59 1.41.59.51 0 1.02-.2 1.41-.59l7.78-7.78 2.81-2.81c.8-.78.8-2.07 0-2.86zM5.41 20L4 18.59l7.72-7.72 1.47 1.35L5.41 20z\"/>\n",
              "  </svg>\n",
              "      </button>\n",
              "      \n",
              "  <style>\n",
              "    .colab-df-container {\n",
              "      display:flex;\n",
              "      flex-wrap:wrap;\n",
              "      gap: 12px;\n",
              "    }\n",
              "\n",
              "    .colab-df-convert {\n",
              "      background-color: #E8F0FE;\n",
              "      border: none;\n",
              "      border-radius: 50%;\n",
              "      cursor: pointer;\n",
              "      display: none;\n",
              "      fill: #1967D2;\n",
              "      height: 32px;\n",
              "      padding: 0 0 0 0;\n",
              "      width: 32px;\n",
              "    }\n",
              "\n",
              "    .colab-df-convert:hover {\n",
              "      background-color: #E2EBFA;\n",
              "      box-shadow: 0px 1px 2px rgba(60, 64, 67, 0.3), 0px 1px 3px 1px rgba(60, 64, 67, 0.15);\n",
              "      fill: #174EA6;\n",
              "    }\n",
              "\n",
              "    [theme=dark] .colab-df-convert {\n",
              "      background-color: #3B4455;\n",
              "      fill: #D2E3FC;\n",
              "    }\n",
              "\n",
              "    [theme=dark] .colab-df-convert:hover {\n",
              "      background-color: #434B5C;\n",
              "      box-shadow: 0px 1px 3px 1px rgba(0, 0, 0, 0.15);\n",
              "      filter: drop-shadow(0px 1px 2px rgba(0, 0, 0, 0.3));\n",
              "      fill: #FFFFFF;\n",
              "    }\n",
              "  </style>\n",
              "\n",
              "      <script>\n",
              "        const buttonEl =\n",
              "          document.querySelector('#df-56406362-0c4c-4de3-a419-9d00562f1ad6 button.colab-df-convert');\n",
              "        buttonEl.style.display =\n",
              "          google.colab.kernel.accessAllowed ? 'block' : 'none';\n",
              "\n",
              "        async function convertToInteractive(key) {\n",
              "          const element = document.querySelector('#df-56406362-0c4c-4de3-a419-9d00562f1ad6');\n",
              "          const dataTable =\n",
              "            await google.colab.kernel.invokeFunction('convertToInteractive',\n",
              "                                                     [key], {});\n",
              "          if (!dataTable) return;\n",
              "\n",
              "          const docLinkHtml = 'Like what you see? Visit the ' +\n",
              "            '<a target=\"_blank\" href=https://colab.research.google.com/notebooks/data_table.ipynb>data table notebook</a>'\n",
              "            + ' to learn more about interactive tables.';\n",
              "          element.innerHTML = '';\n",
              "          dataTable['output_type'] = 'display_data';\n",
              "          await google.colab.output.renderOutput(dataTable, element);\n",
              "          const docLink = document.createElement('div');\n",
              "          docLink.innerHTML = docLinkHtml;\n",
              "          element.appendChild(docLink);\n",
              "        }\n",
              "      </script>\n",
              "    </div>\n",
              "  </div>\n",
              "  "
            ]
          },
          "metadata": {},
          "execution_count": 24
        }
      ]
    },
    {
      "cell_type": "code",
      "source": [
        "pip install -U matplotlib"
      ],
      "metadata": {
        "colab": {
          "base_uri": "https://localhost:8080/"
        },
        "id": "UFet-bY-QGKm",
        "outputId": "71126a90-043d-4fb7-bd47-b4ae8b532df3"
      },
      "execution_count": null,
      "outputs": [
        {
          "output_type": "stream",
          "name": "stdout",
          "text": [
            "Looking in indexes: https://pypi.org/simple, https://us-python.pkg.dev/colab-wheels/public/simple/\n",
            "Requirement already satisfied: matplotlib in /usr/local/lib/python3.7/dist-packages (3.5.2)\n",
            "Requirement already satisfied: fonttools>=4.22.0 in /usr/local/lib/python3.7/dist-packages (from matplotlib) (4.34.4)\n",
            "Requirement already satisfied: pyparsing>=2.2.1 in /usr/local/lib/python3.7/dist-packages (from matplotlib) (3.0.9)\n",
            "Requirement already satisfied: packaging>=20.0 in /usr/local/lib/python3.7/dist-packages (from matplotlib) (21.3)\n",
            "Requirement already satisfied: python-dateutil>=2.7 in /usr/local/lib/python3.7/dist-packages (from matplotlib) (2.8.2)\n",
            "Requirement already satisfied: pillow>=6.2.0 in /usr/local/lib/python3.7/dist-packages (from matplotlib) (7.1.2)\n",
            "Requirement already satisfied: kiwisolver>=1.0.1 in /usr/local/lib/python3.7/dist-packages (from matplotlib) (1.4.4)\n",
            "Requirement already satisfied: numpy>=1.17 in /usr/local/lib/python3.7/dist-packages (from matplotlib) (1.21.6)\n",
            "Requirement already satisfied: cycler>=0.10 in /usr/local/lib/python3.7/dist-packages (from matplotlib) (0.11.0)\n",
            "Requirement already satisfied: typing-extensions in /usr/local/lib/python3.7/dist-packages (from kiwisolver>=1.0.1->matplotlib) (4.3.0)\n",
            "Requirement already satisfied: six>=1.5 in /usr/local/lib/python3.7/dist-packages (from python-dateutil>=2.7->matplotlib) (1.15.0)\n"
          ]
        }
      ]
    },
    {
      "cell_type": "code",
      "source": [
        "!pip install table_evaluator\n",
        "import pandas as pd\n",
        "\n",
        "from table_evaluator import load_data, TableEvaluator\n",
        "\n",
        "real_data=pd.read_csv(drive_location+algo+\"_real_data.csv\")\n",
        "sample=pd.read_csv(drive_location+algo+\"_generated_data_wgan_gp.csv\")\n",
        "\n",
        "table_evaluator =  TableEvaluator(real_data, sample)\n",
        "table_evaluator.visual_evaluation()"
      ],
      "metadata": {
        "colab": {
          "base_uri": "https://localhost:8080/",
          "height": 1000
        },
        "id": "BQGinp_VNP2z",
        "outputId": "20036a93-6c0d-4c8d-caf3-1df5253cb600"
      },
      "execution_count": null,
      "outputs": [
        {
          "output_type": "stream",
          "name": "stdout",
          "text": [
            "Looking in indexes: https://pypi.org/simple, https://us-python.pkg.dev/colab-wheels/public/simple/\n",
            "Requirement already satisfied: table_evaluator in /usr/local/lib/python3.7/dist-packages (1.4.2)\n",
            "Requirement already satisfied: dython==0.5.1 in /usr/local/lib/python3.7/dist-packages (from table_evaluator) (0.5.1)\n",
            "Requirement already satisfied: pandas in /usr/local/lib/python3.7/dist-packages (from table_evaluator) (1.2.5)\n",
            "Requirement already satisfied: seaborn<=0.11.1 in /usr/local/lib/python3.7/dist-packages (from table_evaluator) (0.11.1)\n",
            "Requirement already satisfied: scikit-learn in /usr/local/lib/python3.7/dist-packages (from table_evaluator) (1.0.2)\n",
            "Requirement already satisfied: scipy in /usr/local/lib/python3.7/dist-packages (from table_evaluator) (1.7.3)\n",
            "Requirement already satisfied: tqdm in /usr/local/lib/python3.7/dist-packages (from table_evaluator) (4.64.0)\n",
            "Requirement already satisfied: matplotlib in /usr/local/lib/python3.7/dist-packages (from table_evaluator) (3.5.2)\n",
            "Requirement already satisfied: numpy in /usr/local/lib/python3.7/dist-packages (from table_evaluator) (1.21.6)\n",
            "Requirement already satisfied: psutil in /usr/local/lib/python3.7/dist-packages (from table_evaluator) (5.9.1)\n",
            "Requirement already satisfied: fonttools>=4.22.0 in /usr/local/lib/python3.7/dist-packages (from matplotlib->table_evaluator) (4.34.4)\n",
            "Requirement already satisfied: packaging>=20.0 in /usr/local/lib/python3.7/dist-packages (from matplotlib->table_evaluator) (21.3)\n",
            "Requirement already satisfied: python-dateutil>=2.7 in /usr/local/lib/python3.7/dist-packages (from matplotlib->table_evaluator) (2.8.2)\n",
            "Requirement already satisfied: kiwisolver>=1.0.1 in /usr/local/lib/python3.7/dist-packages (from matplotlib->table_evaluator) (1.4.4)\n",
            "Requirement already satisfied: pyparsing>=2.2.1 in /usr/local/lib/python3.7/dist-packages (from matplotlib->table_evaluator) (3.0.9)\n",
            "Requirement already satisfied: cycler>=0.10 in /usr/local/lib/python3.7/dist-packages (from matplotlib->table_evaluator) (0.11.0)\n",
            "Requirement already satisfied: pillow>=6.2.0 in /usr/local/lib/python3.7/dist-packages (from matplotlib->table_evaluator) (7.1.2)\n",
            "Requirement already satisfied: typing-extensions in /usr/local/lib/python3.7/dist-packages (from kiwisolver>=1.0.1->matplotlib->table_evaluator) (4.3.0)\n",
            "Requirement already satisfied: pytz>=2017.3 in /usr/local/lib/python3.7/dist-packages (from pandas->table_evaluator) (2022.1)\n",
            "Requirement already satisfied: six>=1.5 in /usr/local/lib/python3.7/dist-packages (from python-dateutil>=2.7->matplotlib->table_evaluator) (1.15.0)\n",
            "Requirement already satisfied: threadpoolctl>=2.0.0 in /usr/local/lib/python3.7/dist-packages (from scikit-learn->table_evaluator) (3.1.0)\n",
            "Requirement already satisfied: joblib>=0.11 in /usr/local/lib/python3.7/dist-packages (from scikit-learn->table_evaluator) (1.1.0)\n"
          ]
        },
        {
          "output_type": "display_data",
          "data": {
            "text/plain": [
              "<Figure size 720x360 with 2 Axes>"
            ],
            "image/png": "[encoded data removed]"
          },
          "metadata": {
            "needs_background": "light"
          }
        },
        {
          "output_type": "display_data",
          "data": {
            "text/plain": [
              "<Figure size 1152x1296 with 12 Axes>"
            ],
            "image/png": "[encoded data removed]"
          },
          "metadata": {
            "needs_background": "light"
          }
        },
        {
          "output_type": "display_data",
          "data": {
            "text/plain": [
              "<Figure size 1152x1296 with 9 Axes>"
            ],
            "image/png": "[encoded data removed]"
          },
          "metadata": {
            "needs_background": "light"
          }
        },
        {
          "output_type": "display_data",
          "data": {
            "text/plain": [
              "<Figure size 1728x504 with 6 Axes>"
            ],
            "image/png": "[encoded data removed]"
          },
          "metadata": {
            "needs_background": "light"
          }
        },
        {
          "output_type": "display_data",
          "data": {
            "text/plain": [
              "<Figure size 864x432 with 2 Axes>"
            ],
            "image/png": "[encoded data removed]"
          },
          "metadata": {}
        }
      ]
    }
  ]
}